{
 "cells": [
  {
   "cell_type": "markdown",
   "id": "c7dd30c4",
   "metadata": {},
   "source": [
    "# Two-scale Kolmogorov Flow"
   ]
  },
  {
   "cell_type": "code",
   "execution_count": null,
   "id": "f557abaa",
   "metadata": {},
   "outputs": [],
   "source": [
    "## "
   ]
  },
  {
   "cell_type": "code",
   "execution_count": null,
   "id": "fa8795ff",
   "metadata": {},
   "outputs": [],
   "source": [
    "import numpy as np\n",
    "\n",
    "import matplotlib as mpl\n",
    "import matplotlib.pyplot as plt\n",
    "import matplotlib.pylab as pl\n",
    "\n",
    "from matplotlib.colors import LogNorm"
   ]
  },
  {
   "cell_type": "code",
   "execution_count": null,
   "id": "577722eb",
   "metadata": {},
   "outputs": [],
   "source": [
    "plt.rc('font', family='serif') ## setting for figures which I usually use in my publications\n",
    "mpl.rcParams.update({'font.size': 12})\n",
    "mpl.rcParams.update({'legend.labelspacing':0.25, 'legend.fontsize': 12,'xtick.labelsize':14,'ytick.labelsize':14})\n",
    "mpl.rcParams.update({'errorbar.capsize': 4})\n",
    "plt.rc('text', usetex=True)\n",
    "plt.rc('font', family='serif')"
   ]
  },
  {
   "cell_type": "code",
   "execution_count": null,
   "id": "f14e8a17",
   "metadata": {},
   "outputs": [],
   "source": [
    "prop_cycle = plt.rcParams['axes.prop_cycle']\n",
    "colors = prop_cycle.by_key()['color']"
   ]
  },
  {
   "cell_type": "code",
   "execution_count": null,
   "id": "ca8a5706",
   "metadata": {},
   "outputs": [],
   "source": [
    "def ranks(array):\n",
    "    return len(np.where(array > 1e-9)[0])\n",
    "\n",
    "def moderanks(array):\n",
    "    nt = np.shape(array)[2]\n",
    "    nm = np.shape(array)[1]\n",
    "    \n",
    "    R = np.reshape(np.zeros(nt*nm),(nt,nm))\n",
    "    for t in np.arange(nt):\n",
    "        for m in np.arange(nm):\n",
    "            R[t,m] = ranks(array[:,m,t])\n",
    "\n",
    "    return R"
   ]
  },
  {
   "cell_type": "code",
   "execution_count": null,
   "id": "e1eb3390",
   "metadata": {},
   "outputs": [],
   "source": [
    "dn = \"data/kolmogorov-2pi2pi-10x10/\"\n",
    "M,N = 10,10"
   ]
  },
  {
   "cell_type": "code",
   "execution_count": null,
   "id": "32755b1a",
   "metadata": {},
   "outputs": [],
   "source": [
    "nl = np.load(dn+\"nl_kf.npz\",allow_pickle=True) "
   ]
  },
  {
   "cell_type": "code",
   "execution_count": null,
   "id": "e98cf408",
   "metadata": {},
   "outputs": [],
   "source": [
    "fig,ax = plt.subplots(1,2,sharey='row',figsize=(6,4))\n",
    "\n",
    "ax[0].set_title(f'NL',fontsize=14)\n",
    "im = ax[0].imshow(nl['Emn'][:,:,-1].T,cmap=\"gist_stern_r\",norm=LogNorm(vmin=1e-5,vmax=2e3))\n",
    "\n",
    "ax[1].set_title(f'',fontsize=14)\n",
    "im = ax[1].imshow(nl['Emn'][:,:,-1].T*0,cmap=\"gist_stern_r\",norm=LogNorm(vmin=1e-5,vmax=2e3))\n",
    "\n",
    "fig.subplots_adjust(right=0.85)\n",
    "cbar_ax = fig.add_axes([1.0, 0.25, 0.03, 0.5])\n",
    "fig.colorbar(im, cax=cbar_ax)\n",
    "\n",
    "for a in ax:\n",
    "    a.set_yticks([0,M-1,2*M-2])\n",
    "    a.set_yticklabels([r'$-N_x$',r'$0$',r'$N_x$'],fontsize=14)\n",
    "    a.set_xticks([0,N-1,2*N-2])\n",
    "    a.set_xticklabels([r'$-N_y$',r'$0$',r'$N_y$'],fontsize=14)\n",
    "\n",
    "fig.tight_layout()\n",
    "plt.show()\n",
    "# plt.savefig(dn+'spectra_nl_kf.png',bbox_inches='tight',dpi=256,facecolor='w', transparent=False)"
   ]
  },
  {
   "cell_type": "code",
   "execution_count": null,
   "id": "04dac74e",
   "metadata": {},
   "outputs": [],
   "source": [
    "ql = np.load(dn+\"ql_kf.npz\",allow_pickle=True) \n",
    "ce2 = np.load(dn+\"ce2_kf.npz\",allow_pickle=True)"
   ]
  },
  {
   "cell_type": "code",
   "execution_count": null,
   "id": "8652d1e3",
   "metadata": {},
   "outputs": [],
   "source": [
    "fig,ax = plt.subplots(1,2,sharey='row',figsize=(12,5))\n",
    "    \n",
    "ax[0].set_title(f'QL',fontsize=14)\n",
    "ax[0].plot(ql['t'],ql['Emt'][0,:],'k',label='0')\n",
    "for i,x in enumerate(ql['Emt'][1:,:]):\n",
    "    ax[0].plot(ql['t'],x,label=i+1)\n",
    "\n",
    "ax[1].set_title(f'CE2',fontsize=14)\n",
    "ax[1].plot(ce2['t'],ce2['Emt'][0,:],'k',label='0')\n",
    "for i,x in enumerate(ce2['Emt'][1:,:]):\n",
    "    ax[1].plot(ce2['t'],x,label=i+1)\n",
    "\n",
    "ax[0].legend(bbox_to_anchor=(0.99,0.85),ncol=1)\n",
    "\n",
    "for a in ax:\n",
    "    a.set_yscale('log')\n",
    "    a.set_ylim(1e-10,1e5)\n",
    "\n",
    "plt.show()"
   ]
  },
  {
   "cell_type": "code",
   "execution_count": null,
   "id": "e7fd87dd",
   "metadata": {},
   "outputs": [],
   "source": [
    "fig,ax = plt.subplots(1,2,figsize=(14,6))\n",
    "\n",
    "ax[0].set_title(f'QL',fontsize=14)\n",
    "im = ax[0].imshow((ql['Vyt']),cmap=\"seismic\",origin=\"lower\",interpolation=\"bicubic\",vmin=-50,vmax=50)\n",
    "fig.colorbar(im,ax=ax[0],orientation='horizontal')\n",
    "\n",
    "ax[1].set_title(f'CE2',fontsize=14)\n",
    "im = ax[1].imshow((ce2['Vyt']),cmap=\"seismic\",origin=\"lower\",interpolation=\"bicubic\",vmin=-50,vmax=50)\n",
    "fig.colorbar(im,ax=ax[1],orientation='horizontal')\n",
    "\n",
    "plt.show()"
   ]
  },
  {
   "cell_type": "code",
   "execution_count": null,
   "id": "4129dcb7",
   "metadata": {},
   "outputs": [],
   "source": [
    "fig,ax = plt.subplots(1,2,sharey='row',figsize=(6,4))\n",
    "\n",
    "ax[0].set_title(f'QL',fontsize=14)\n",
    "im = ax[0].imshow(ql['Emn'][:,:,-1].T,cmap=\"gist_stern_r\",norm=LogNorm(vmin=1e-6,vmax=2e3))\n",
    "\n",
    "ax[1].set_title(f'CE2',fontsize=14)\n",
    "im = ax[1].imshow(ce2['Emn'][:,:,-1].T,cmap=\"gist_stern_r\",norm=LogNorm(vmin=1e-6,vmax=2e3))\n",
    "\n",
    "fig.subplots_adjust(right=0.85)\n",
    "cbar_ax = fig.add_axes([1.0, 0.25, 0.03, 0.5])\n",
    "fig.colorbar(im, cax=cbar_ax)\n",
    "\n",
    "for a in ax:\n",
    "    a.set_yticks([0,M-1,2*M-2])\n",
    "    a.set_yticklabels([r'$-N_x$',r'$0$',r'$N_x$'],fontsize=14)\n",
    "    a.set_xticks([0,N-1,2*N-2])\n",
    "    a.set_xticklabels([r'$-N_y$',r'$0$',r'$N_y$'],fontsize=14)\n",
    "\n",
    "fig.tight_layout()\n",
    "plt.show()\n",
    "# plt.savefig(dn+'spectra_qlce2_kf.png',bbox_inches='tight',dpi=256,facecolor='w', transparent=False)"
   ]
  },
  {
   "cell_type": "code",
   "execution_count": null,
   "id": "65e28c52",
   "metadata": {},
   "outputs": [],
   "source": [
    "fig,ax = plt.subplots(1,2,figsize=(12,4))\n",
    "\n",
    "R_ql = moderanks(ql['mEVs'])\n",
    "R_ce2 = moderanks(ce2['mEVs'])\n",
    "\n",
    "ax[0].set_title(r'$rank(m)$: QL')\n",
    "for i in np.arange(M-1):\n",
    "    ax[0].plot(ql['t'],R_ql[:,i],label=i+1,c=colors[i%len(colors)])\n",
    "\n",
    "ax[1].set_title(r'$rank(m)$: CE2')\n",
    "for i in np.arange(M-1):\n",
    "    ax[1].plot(ce2['t'],R_ce2[:,i],label=i+1,c=colors[i%len(colors)])\n",
    "\n",
    "for a in ax:\n",
    "    a.set_xlabel(r'$t$',fontsize=14)\n",
    "    a.set_ylim(-1,19)\n",
    "\n",
    "ax[0].legend(title=r'$m$',loc=1)\n",
    "\n",
    "plt.show()\n",
    "# plt.savefig(dn+'rnk_gql_gce2_1.png',bbox_inches='tight',dpi=256,facecolor='w', transparent=False)"
   ]
  },
  {
   "cell_type": "code",
   "execution_count": null,
   "id": "4d326d16",
   "metadata": {},
   "outputs": [],
   "source": [
    "gql_1 = np.load(dn+\"gql_1_kf.npz\",allow_pickle=True) \n",
    "gce2_1 = np.load(dn+\"gce2_1_kf.npz\",allow_pickle=True)"
   ]
  },
  {
   "cell_type": "code",
   "execution_count": null,
   "id": "22cd98e7",
   "metadata": {
    "scrolled": false
   },
   "outputs": [],
   "source": [
    "fig,ax = plt.subplots(1,2,figsize=(11,5))\n",
    "    \n",
    "ax[0].set_title(f'GQL(1)',fontsize=14)\n",
    "ax[0].plot(gql_1['t'],gql_1['Emt'][0,:],'k',label='0')\n",
    "for i,x in enumerate(gql_1['Emt'][1:,:]):\n",
    "    ax[0].plot(gql_1['t'],x,label=i+1)\n",
    "\n",
    "ax[1].set_title(f'GCE2(1)',fontsize=14)\n",
    "ax[1].plot(gce2_1['t'],gce2_1['Emt'][0,:],'k',label='0')\n",
    "for i,x in enumerate(gce2_1['Emt'][1:,:]):\n",
    "    ax[1].plot(gce2_1['t'],x,label=i+1)\n",
    "\n",
    "ax[1].legend(bbox_to_anchor=(1.0,0.85),ncol=1)\n",
    "\n",
    "for a in ax:\n",
    "    a.set_yscale('log')\n",
    "    a.set_ylim(1e-6,1e4)\n",
    "\n",
    "plt.show()"
   ]
  },
  {
   "cell_type": "code",
   "execution_count": null,
   "id": "28f0cebb",
   "metadata": {
    "scrolled": true
   },
   "outputs": [],
   "source": [
    "fig,ax = plt.subplots(1,2,figsize=(12,4))\n",
    "\n",
    "ax[0].set_title(f'GQL(1)',fontsize=14)\n",
    "im = ax[0].imshow((gql_1['Vyt']),cmap=\"seismic\",origin=\"lower\",interpolation=\"bicubic\",vmin=-50,vmax=50,aspect=2)\n",
    "\n",
    "fig.colorbar(im,ax=ax[0],orientation='horizontal')\n",
    "\n",
    "ax[1].set_title(f'GCE2(1)',fontsize=14)\n",
    "im = ax[1].imshow((gce2_1['Vyt']),cmap=\"seismic\",origin=\"lower\",interpolation=\"bicubic\",vmin=-50,vmax=50,aspect=2)\n",
    "fig.colorbar(im,ax=ax[1],orientation='horizontal')\n",
    "\n",
    "for a in ax:\n",
    "    a.set_yticks([0,N-1,2*N-2])\n",
    "    a.set_xticks([0,50,100])\n",
    "    a.set_yticklabels([r'$-\\pi$',r'$0$',r'$\\pi$'],fontsize=14)\n",
    "    a.set_xticklabels([r'$0$',r'$500$',r'$1000$'])\n",
    "\n",
    "plt.show()\n",
    "# plt.savefig(dn+'hoevmoeller_gql_gce2_1.png',bbox_inches='tight',dpi=256,facecolor='w', transparent=False)"
   ]
  },
  {
   "cell_type": "code",
   "execution_count": null,
   "id": "35c7c102",
   "metadata": {},
   "outputs": [],
   "source": [
    "fig,ax = plt.subplots(1,2,sharey='row',figsize=(6,4))\n",
    "\n",
    "ax[0].set_title(f'GQL(1)',fontsize=14)\n",
    "im = ax[0].imshow(gql_1['Emn'][:,:,-1].T,cmap=\"gist_stern_r\",norm=LogNorm(vmin=5e-2,vmax=5e3))\n",
    "\n",
    "ax[1].set_title(f'GCE2(1)',fontsize=14)\n",
    "im = ax[1].imshow(gce2_1['Emn'][:,:,-1].T,cmap=\"gist_stern_r\",norm=LogNorm(vmin=5e-2,vmax=5e3))\n",
    "\n",
    "fig.subplots_adjust(right=0.85)\n",
    "cbar_ax = fig.add_axes([1.0, 0.25, 0.03, 0.5])\n",
    "fig.colorbar(im, cax=cbar_ax)\n",
    "\n",
    "for a in ax:\n",
    "    a.set_yticks([0,M-1,2*M-2])\n",
    "    a.set_yticklabels([r'$-N_x$',r'$0$',r'$N_x$'],fontsize=14)\n",
    "    a.set_xticks([0,N-1,2*N-2])\n",
    "    a.set_xticklabels([r'$-N_y$',r'$0$',r'$N_y$'],fontsize=14)\n",
    "\n",
    "fig.tight_layout()\n",
    "plt.show()\n",
    "# plt.savefig(dn+'spectra_gqlgce2_kf.png',bbox_inches='tight',dpi=256,facecolor='w', transparent=False)"
   ]
  },
  {
   "cell_type": "code",
   "execution_count": null,
   "id": "7a71e50b",
   "metadata": {},
   "outputs": [],
   "source": [
    "fig,ax = plt.subplots(1,2,figsize=(12,4))\n",
    "\n",
    "R_gql_1 = moderanks(gql_1['mEVs'])\n",
    "R_gce2_1 = moderanks(gce2_1['mEVs'])\n",
    "\n",
    "ax[0].set_title(r'$rank(m)$: GQL(1)')\n",
    "for i in np.arange(1,M-1):\n",
    "    ax[0].plot(gql_1['t'],R_gql_1[:,i],label=i+1,c=colors[(i)%len(colors)])\n",
    "\n",
    "ax[1].set_title(r'$rank(m)$: GCE2(1)')\n",
    "for i in np.arange(1,M-1):\n",
    "    ax[1].plot(gce2_1['t'],R_gce2_1[:,i],label=i+1,c=colors[(i)%len(colors)])\n",
    "\n",
    "for a in ax:\n",
    "    a.set_xlabel(r'$t$',fontsize=14)\n",
    "    a.set_ylim(-1,24)\n",
    "\n",
    "ax[0].legend(title=r'$m$',loc=5)\n",
    "\n",
    "plt.show()\n",
    "# plt.savefig(dn+'rnk_gql_gce2_1.png',bbox_inches='tight',dpi=256,facecolor='w', transparent=False)"
   ]
  },
  {
   "cell_type": "code",
   "execution_count": null,
   "id": "b51eac43",
   "metadata": {},
   "outputs": [],
   "source": [
    "dn = \"data/tests_kolmogorov/10x10nu02/2pi2piA1A4_dt/\"\n",
    "# dn = \"data/kolmogorov-2pi2pi-10x10/fine-grain/\"\n",
    "\n",
    "ql = np.load(dn+\"ql_kf.npz\",allow_pickle=True) \n",
    "ce2 = np.load(dn+\"ce2_kf.npz\",allow_pickle=True)"
   ]
  },
  {
   "cell_type": "code",
   "execution_count": null,
   "id": "02b3da2f",
   "metadata": {},
   "outputs": [],
   "source": [
    "R_ql = moderanks(ql['mEVs'])\n",
    "R_ce2 = moderanks(ce2['mEVs'])"
   ]
  },
  {
   "cell_type": "code",
   "execution_count": null,
   "id": "28a5eaec",
   "metadata": {},
   "outputs": [],
   "source": [
    "fig,ax = plt.subplots(1,2,figsize=(12,5))\n",
    "    \n",
    "ax[0].set_title(f'QL',fontsize=14)\n",
    "ax[0].plot(ql['t'],ql['Emt'][0,:],'k',label='0')\n",
    "for i,x in enumerate(ql['Emt'][1:,:]):\n",
    "    ax[0].plot(ql['t'],x,label=i+1)\n",
    "\n",
    "ax[1].set_title(f'CE2',fontsize=14)\n",
    "ax[1].plot(ce2['t'],ce2['Emt'][0,:],'k',label='0')\n",
    "for i,x in enumerate(ce2['Emt'][1:,:]):\n",
    "    ax[1].plot(ce2['t'],x,label=i+1)\n",
    "\n",
    "ax[1].legend(bbox_to_anchor=(1.1,0.8),ncol=1)\n",
    "\n",
    "for a in ax:\n",
    "    a.set_yscale('log')\n",
    "    a.set_ylim(1e-16,1e4)\n",
    "\n",
    "plt.show()"
   ]
  },
  {
   "cell_type": "code",
   "execution_count": null,
   "id": "df7ec053",
   "metadata": {},
   "outputs": [],
   "source": [
    "fig,ax = plt.subplots(1,2,figsize=(12,4))\n",
    "\n",
    "ax[0].set_title(r'$rank(m)$: QL')\n",
    "for i in np.arange(M-1):\n",
    "    ax[0].plot(ql['t'],R_ql[:,i],label=i+1,c=colors[i%len(colors)])\n",
    "\n",
    "ax[1].set_title(r'$rank(m)$: CE2')\n",
    "for i in np.arange(M-1):\n",
    "    ax[1].plot(ce2['t'],R_ce2[:,i],label=i+1,c=colors[i%len(colors)])\n",
    "\n",
    "for a in ax:\n",
    "    a.set_xlabel(r'$t$',fontsize=14)\n",
    "    a.set_ylim(-1,19)\n",
    "\n",
    "ax[0].legend(title=r'$m$',loc=1)\n",
    "\n",
    "plt.show()\n",
    "# plt.savefig(dn+'rnk_gql_gce2_1.png',bbox_inches='tight',dpi=256,facecolor='w', transparent=False)"
   ]
  },
  {
   "cell_type": "code",
   "execution_count": null,
   "id": "f61553ab",
   "metadata": {},
   "outputs": [],
   "source": [
    "fig,ax = plt.subplots(2,2,figsize=(12,8))\n",
    "    \n",
    "ax[0,0].set_title(r'$m = 1$',fontsize=14)\n",
    "ax[1,0].set_title(r'$m = 2$',fontsize=14)\n",
    "\n",
    "ax[0,0].plot(ql['t'],ql['Emt'][1,:],label='QL')\n",
    "ax[0,0].plot(ce2['t'],ce2['Emt'][1,:],label='CE2')\n",
    "\n",
    "ax[0,1].plot(ql['t'],ql['Emt'][2,:],label='QL')\n",
    "ax[0,1].plot(ce2['t'],ce2['Emt'][2,:],label='CE2')\n",
    "\n",
    "ax[1,0].plot(ql['t'],R_ql[:,0],label='QL')\n",
    "ax[1,0].plot(ce2['t'],R_ce2[:,0],label='CE2')\n",
    "\n",
    "ax[1,1].plot(ql['t'],R_ql[:,1],label='QL')\n",
    "ax[1,1].plot(ce2['t'],R_ce2[:,1],label='CE2')\n",
    "\n",
    "for a in ax[0]:\n",
    "    a.legend(loc='best',ncol=1)\n",
    "    a.set_yscale('log')\n",
    "    a.set_ylim(1e-12,1e3)\n",
    "\n",
    "for b in ax[1]:\n",
    "    b.legend(loc='best',ncol=1)\n",
    "    b.set_ylim(0,10)\n",
    "\n",
    "plt.show()"
   ]
  },
  {
   "cell_type": "code",
   "execution_count": null,
   "id": "b0c03048",
   "metadata": {},
   "outputs": [],
   "source": [
    "fig,ax = plt.subplots(1,2,figsize=(12,6))\n",
    "\n",
    "ax[0].set_title(f'QL',fontsize=14)\n",
    "im = ax[0].imshow(ql['Emn'][:,:,-1],cmap=\"nipy_spectral_r\",origin=\"lower\",interpolation=\"none\",vmin=0,vmax=1800)\n",
    "fig.colorbar(im,ax=ax[0])\n",
    "\n",
    "ax[1].set_title(f'CE2',fontsize=14)\n",
    "im = ax[1].imshow((ce2['Emn'][:,:,-1]),cmap=\"nipy_spectral_r\",origin=\"lower\",interpolation=\"none\",vmin=0,vmax=1800)\n",
    "fig.colorbar(im,ax=ax[1])\n",
    "\n",
    "for a in ax:\n",
    "    a.set_xticks([0,M-1,2*M-2])\n",
    "    a.set_xticklabels([r'$-N_x$',r'$0$',r'$N_x$'],fontsize=14)\n",
    "    a.set_yticks([0,N-1,2*N-2])\n",
    "    a.set_yticklabels([r'$-N_y$',r'$0$',r'$N_y$'],fontsize=14)\n",
    "\n",
    "plt.show()"
   ]
  },
  {
   "cell_type": "code",
   "execution_count": null,
   "id": "d380f706",
   "metadata": {},
   "outputs": [],
   "source": [
    "gql_1 = np.load(dn+\"gql_1_kf.npz\",allow_pickle=True) \n",
    "gce2_1 = np.load(dn+\"gce2_1_kf.npz\",allow_pickle=True)"
   ]
  },
  {
   "cell_type": "code",
   "execution_count": null,
   "id": "3fffec76",
   "metadata": {},
   "outputs": [],
   "source": [
    "R_gql_1 = moderanks(gql_1['mEVs'])\n",
    "R_gce2_1 = moderanks(gce2_1['mEVs'])"
   ]
  },
  {
   "cell_type": "code",
   "execution_count": null,
   "id": "f3d221f5",
   "metadata": {
    "scrolled": true
   },
   "outputs": [],
   "source": [
    "fig,ax = plt.subplots(1,2,figsize=(11,5))\n",
    "    \n",
    "ax[0].set_title(f'GQL(1)',fontsize=14)\n",
    "ax[0].plot(gql_1['t'],gql_1['Emt'][0,:],'k',label='0')\n",
    "for i,x in enumerate(gql_1['Emt'][1:,:]):\n",
    "    ax[0].plot(gql_1['t'],x,label=i+1)\n",
    "\n",
    "ax[1].set_title(f'GCE2(1)',fontsize=14)\n",
    "ax[1].plot(gce2_1['t'],gce2_1['Emt'][0,:],'k',label='0')\n",
    "for i,x in enumerate(gce2_1['Emt'][1:,:]):\n",
    "    ax[1].plot(gce2_1['t'],x,label=i+1)\n",
    "\n",
    "ax[1].legend(bbox_to_anchor=(1.0,0.85),ncol=1)\n",
    "\n",
    "for a in ax:\n",
    "    a.set_yscale('log')\n",
    "    a.set_ylim(1e-8,1e4)\n",
    "\n",
    "plt.show()"
   ]
  },
  {
   "cell_type": "code",
   "execution_count": null,
   "id": "9c9843bb",
   "metadata": {
    "scrolled": false
   },
   "outputs": [],
   "source": [
    "fig,ax = plt.subplots(2,2,figsize=(12,8))\n",
    "    \n",
    "ax[0,0].set_title(r'$m = 1$',fontsize=16)\n",
    "ax[0,1].set_title(r'$m = 2$',fontsize=16)\n",
    "\n",
    "ax[0,0].plot(gql_1['t'],gql_1['Emt'][1,:],label='GQL')\n",
    "ax[0,0].plot(gce2_1['t'],gce2_1['Emt'][1,:],label='GCE2')\n",
    "\n",
    "ax[0,1].plot(gql_1['t'],gql_1['Emt'][2,:],label='GQL')\n",
    "ax[0,1].plot(gce2_1['t'],gce2_1['Emt'][2,:],label='GCE2')\n",
    "\n",
    "ax[1,0].plot(gql_1['t'],R_gql_1[:,1],label='GQL')\n",
    "ax[1,0].plot(gce2_1['t'],R_gce2_1[:,1],label='GCE2')\n",
    "\n",
    "ax[1,1].plot(gql_1['t'],R_gql_1[:,2],label='GQL')\n",
    "ax[1,1].plot(gce2_1['t'],R_gce2_1[:,2],label='GCE2')\n",
    "\n",
    "ax[0,0].set_ylabel(r'$E(m)$',fontsize=16)\n",
    "ax[1,0].set_ylabel(r'$rank(m)$',fontsize=16)\n",
    "\n",
    "for a in ax[0]:\n",
    "    a.legend(loc='best',ncol=1)\n",
    "    a.set_yscale('log')\n",
    "    a.set_ylim(1e-3,1e3)\n",
    "\n",
    "for b in ax[1]:\n",
    "    b.legend(loc='best',ncol=1)\n",
    "    b.set_ylim(0,10)\n",
    "\n",
    "plt.show()"
   ]
  },
  {
   "cell_type": "code",
   "execution_count": null,
   "id": "a88b2cc2",
   "metadata": {},
   "outputs": [],
   "source": [
    "fig,ax = plt.subplots(2,2,sharex='col',sharey='row',figsize=(6,6))\n",
    "    \n",
    "# ax[0,0].set_title(r'$m = 1$',fontsize=14)\n",
    "# ax[1,0].set_title(r'$m = 2$',fontsize=14)\n",
    "\n",
    "I = 1\n",
    "\n",
    "ax[0,0].plot(ql['t'],ql['Emt'][I,:],label='QL')\n",
    "ax[0,0].plot(ce2['t'],ce2['Emt'][I,:],label='CE2')\n",
    "\n",
    "ax[1,0].plot(ql['t'],R_ql[:,I-1],label='QL')\n",
    "ax[1,0].plot(ce2['t'],R_ce2[:,I-1],label='CE2')\n",
    "\n",
    "I = 2\n",
    "\n",
    "ax[0,1].plot(gql_1['t'],gql_1['Emt'][I,:],label='GQL(1)')\n",
    "ax[0,1].plot(gce2_1['t'],gce2_1['Emt'][I,:],label='GCE2(1)')\n",
    "\n",
    "\n",
    "ax[1,1].plot(gql_1['t'],R_gql_1[:,I],label='GQL(1)')\n",
    "ax[1,1].plot(gce2_1['t'],R_gce2_1[:,I],label='GCE2(1)')\n",
    "\n",
    "ax[0,0].set_title(r'$m = 1$')\n",
    "ax[0,0].set_ylabel(r'$E(m)$')\n",
    "for a in ax[0]:\n",
    "    a.legend(loc='best',ncol=1)\n",
    "    a.set_yscale('log')\n",
    "    a.set_ylim(1e-8,1e3)\n",
    "    a.set_xticks([0,10,20,30,40,50])\n",
    "\n",
    "ax[0,1].set_title(r'$m = 2$')\n",
    "ax[1,0].set_ylabel(r'$rank(C^{m})$')\n",
    "for b in ax[1]:\n",
    "    b.legend(loc=2,ncol=1)\n",
    "    b.set_ylim(0,10)\n",
    "    b.set_xticks([0,10,20,30,40,50])\n",
    "    b.set_xlabel(r'$t$',fontsize=14)\n",
    "\n",
    "# plt.show()\n",
    "plt.savefig(dn+'rank_kf.png',bbox_inches='tight',dpi=256,facecolor='w', transparent=False)"
   ]
  },
  {
   "cell_type": "code",
   "execution_count": null,
   "id": "8cdc02fd",
   "metadata": {},
   "outputs": [],
   "source": [
    "fig,ax = plt.subplots(1,2,figsize=(12,4))\n",
    "\n",
    "ax[0].set_title(r'$rank(m)$: GQL(1)')\n",
    "for i in np.arange(1,M-1):\n",
    "    ax[0].plot(gql_1['t'],R_gql_1[:,i],label=i+1,c=colors[i+1])\n",
    "\n",
    "ax[1].set_title(r'$rank(m)$: GCE2(1)')\n",
    "for i in np.arange(1,M-1):\n",
    "    ax[1].plot(gce2_1['t'],R_gce2_1[:,i],label=i+1,c=colors[i+1])\n",
    "\n",
    "for a in ax:\n",
    "    a.set_xlabel(r'$t$',fontsize=14)\n",
    "    a.set_ylim(-1,16)\n",
    "\n",
    "ax[0].legend(title=r'$m$',loc=5)\n",
    "# ax[1].legend(title=r'$m$',loc=4)\n",
    "\n",
    "plt.show()\n",
    "# plt.savefig(dn+'rnk_gql_gce2_1.png',bbox_inches='tight',dpi=256,facecolor='w', transparent=False)"
   ]
  },
  {
   "cell_type": "code",
   "execution_count": null,
   "id": "da30b499",
   "metadata": {},
   "outputs": [],
   "source": []
  }
 ],
 "metadata": {
  "kernelspec": {
   "display_name": "Python 3",
   "language": "python",
   "name": "python3"
  },
  "language_info": {
   "codemirror_mode": {
    "name": "ipython",
    "version": 3
   },
   "file_extension": ".py",
   "mimetype": "text/x-python",
   "name": "python",
   "nbconvert_exporter": "python",
   "pygments_lexer": "ipython3",
   "version": "3.9.12"
  }
 },
 "nbformat": 4,
 "nbformat_minor": 5
}
