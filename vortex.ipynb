{
 "cells": [
  {
   "cell_type": "code",
   "execution_count": null,
   "id": "c45f8153",
   "metadata": {},
   "outputs": [],
   "source": [
    "import numpy as np\n",
    "\n",
    "import matplotlib as mpl\n",
    "import matplotlib.pyplot as plt\n",
    "import matplotlib.pylab as pl"
   ]
  },
  {
   "cell_type": "code",
   "execution_count": null,
   "id": "fa6c5659",
   "metadata": {},
   "outputs": [],
   "source": [
    "from matplotlib.colors import LogNorm"
   ]
  },
  {
   "cell_type": "code",
   "execution_count": null,
   "id": "32c522f8",
   "metadata": {},
   "outputs": [],
   "source": [
    "plt.rc('font', family='serif') ## setting for figures which I usually use in my publications\n",
    "mpl.rcParams.update({'font.size': 12})\n",
    "mpl.rcParams.update({'legend.labelspacing':0.25, 'legend.fontsize': 12,'xtick.labelsize':14,'ytick.labelsize':14})\n",
    "mpl.rcParams.update({'errorbar.capsize': 4})\n",
    "plt.rc('text', usetex=True)\n",
    "plt.rc('font', family='serif')"
   ]
  },
  {
   "cell_type": "code",
   "execution_count": null,
   "id": "2d0d1eb6",
   "metadata": {},
   "outputs": [],
   "source": [
    "prop_cycle = plt.rcParams['axes.prop_cycle']\n",
    "colors = prop_cycle.by_key()['color']"
   ]
  },
  {
   "cell_type": "code",
   "execution_count": null,
   "id": "f825a60a",
   "metadata": {},
   "outputs": [],
   "source": [
    "def ranks(array):\n",
    "    return len(np.where(array > 1e-9)[0])\n",
    "\n",
    "def moderanks(array):\n",
    "    nt = np.shape(array)[2]\n",
    "    nm = np.shape(array)[1]\n",
    "    \n",
    "    R = np.reshape(np.zeros(nt*nm),(nt,nm))\n",
    "    for t in np.arange(nt):\n",
    "        for m in np.arange(nm):\n",
    "            R[t,m] = ranks(array[:,m,t])\n",
    "\n",
    "    return R"
   ]
  },
  {
   "cell_type": "code",
   "execution_count": null,
   "id": "015d8603",
   "metadata": {},
   "outputs": [],
   "source": [
    "M,N = 24,24"
   ]
  },
  {
   "cell_type": "code",
   "execution_count": null,
   "id": "336cb8f6",
   "metadata": {},
   "outputs": [],
   "source": [
    "# dn = \"data/kolmogorov-vortex-tests/24x24/4pi2pi/\"\n",
    "\n",
    "# nl = np.load(dn+\"nl_kf.npz\",allow_pickle=True) \n",
    "# fig,ax = plt.subplots(figsize=(6,4))\n",
    "\n",
    "# ax.set_title(r'$\\zeta(y,t)$',fontsize=16)\n",
    "# im = ax.imshow((nl['Vxy'][:,:,-1]),cmap=\"seismic\",origin=\"lower\",interpolation=\"bicubic\",aspect=0.5)\n",
    "# fig.colorbar(im,ax=ax,orientation='horizontal')\n",
    "\n",
    "# ax.set_xticks([0,M-1,2*M-2])\n",
    "# ax.set_xticklabels([r'$0$',r'$\\pi$',r'$2\\pi$'],fontsize=14)\n",
    "# ax.set_yticks([0,N-1,2*N-2])\n",
    "# ax.set_yticklabels([r'$0$',r'$2\\pi$',r'$4\\pi$'],fontsize=14)\n",
    "\n",
    "# plt.show()\n",
    "# # plt.savefig(dn+'vorticity_nl.png',bbox_inches='tight',dpi=256,facecolor='w', transparent=False)"
   ]
  },
  {
   "cell_type": "code",
   "execution_count": null,
   "id": "4a8208d0",
   "metadata": {},
   "outputs": [],
   "source": [
    "dn = \"data/kolmogorov-4pi2pi-24x24/\""
   ]
  },
  {
   "cell_type": "code",
   "execution_count": null,
   "id": "9a2de243",
   "metadata": {},
   "outputs": [],
   "source": [
    "nl = np.load(dn+\"gql_23_kf.npz\",allow_pickle=True) \n",
    "fig,ax = plt.subplots(figsize=(6,4))\n",
    "\n",
    "ax.set_title(r'$\\zeta(y,t)$',fontsize=16)\n",
    "im = ax.imshow((nl['Vxy'][:,:,-1]),cmap=\"seismic\",origin=\"lower\",interpolation=\"bicubic\",aspect=0.5)\n",
    "fig.colorbar(im,ax=ax,orientation='horizontal')\n",
    "\n",
    "ax.set_xticks([0,M-1,2*M-2])\n",
    "ax.set_xticklabels([r'$0$',r'$\\pi$',r'$2\\pi$'],fontsize=14)\n",
    "ax.set_yticks([0,N-1,2*N-2])\n",
    "ax.set_yticklabels([r'$0$',r'$2\\pi$',r'$4\\pi$'],fontsize=14)\n",
    "\n",
    "plt.show()\n",
    "# plt.savefig(dn+'vorticity_nl.png',bbox_inches='tight',dpi=256,facecolor='w', transparent=False)"
   ]
  },
  {
   "cell_type": "code",
   "execution_count": null,
   "id": "035d0eb4",
   "metadata": {},
   "outputs": [],
   "source": [
    "ql = np.load(dn+\"gql_0_kf.npz\",allow_pickle=True) \n",
    "fig,ax = plt.subplots(figsize=(6,4))\n",
    "\n",
    "ax.set_title(r'$\\zeta(y,t)$',fontsize=16)\n",
    "im = ax.imshow((ql['Vxy'][:,:,-1]),cmap=\"seismic\",origin=\"lower\",interpolation=\"bicubic\",aspect=0.5)\n",
    "fig.colorbar(im,ax=ax,orientation='horizontal')\n",
    "\n",
    "ax.set_xticks([0,M-1,2*M-2])\n",
    "ax.set_xticklabels([r'$0$',r'$\\pi$',r'$2\\pi$'],fontsize=14)\n",
    "ax.set_yticks([0,N-1,2*N-2])\n",
    "ax.set_yticklabels([r'$0$',r'$2\\pi$',r'$4\\pi$'],fontsize=14)\n",
    "\n",
    "plt.show()\n",
    "# plt.savefig(dn+'vorticity_nl.png',bbox_inches='tight',dpi=256,facecolor='w', transparent=False)"
   ]
  },
  {
   "cell_type": "code",
   "execution_count": null,
   "id": "335007b9",
   "metadata": {},
   "outputs": [],
   "source": [
    "gql = np.load(dn+\"gql_1_kf.npz\",allow_pickle=True) \n",
    "fig,ax = plt.subplots(figsize=(6,4))\n",
    "\n",
    "ax.set_title(r'$\\zeta(y,t)$',fontsize=16)\n",
    "im = ax.imshow((gql['Vxy'][:,:,-1]),cmap=\"seismic\",origin=\"lower\",interpolation=\"bicubic\",aspect=0.5)\n",
    "fig.colorbar(im,ax=ax,orientation='horizontal')\n",
    "\n",
    "ax.set_xticks([0,M-1,2*M-2])\n",
    "ax.set_xticklabels([r'$0$',r'$\\pi$',r'$2\\pi$'],fontsize=14)\n",
    "ax.set_yticks([0,N-1,2*N-2])\n",
    "ax.set_yticklabels([r'$0$',r'$2\\pi$',r'$4\\pi$'],fontsize=14)\n",
    "\n",
    "plt.show()\n",
    "# plt.savefig(dn+'vorticity_nl.png',bbox_inches='tight',dpi=256,facecolor='w', transparent=False)"
   ]
  },
  {
   "cell_type": "code",
   "execution_count": null,
   "id": "b4ecd881",
   "metadata": {},
   "outputs": [],
   "source": [
    "gql = np.load(dn+\"gql_2_kf.npz\",allow_pickle=True) \n",
    "fig,ax = plt.subplots(figsize=(6,4))\n",
    "\n",
    "ax.set_title(r'$\\zeta(y,t)$',fontsize=16)\n",
    "im = ax.imshow((gql['Vxy'][:,:,-1]),cmap=\"seismic\",origin=\"lower\",interpolation=\"bicubic\",aspect=0.5)\n",
    "fig.colorbar(im,ax=ax,orientation='horizontal')\n",
    "\n",
    "ax.set_xticks([0,M-1,2*M-2])\n",
    "ax.set_xticklabels([r'$0$',r'$\\pi$',r'$2\\pi$'],fontsize=14)\n",
    "ax.set_yticks([0,N-1,2*N-2])\n",
    "ax.set_yticklabels([r'$0$',r'$2\\pi$',r'$4\\pi$'],fontsize=14)\n",
    "\n",
    "plt.show()\n",
    "# plt.savefig(dn+'vorticity_nl.png',bbox_inches='tight',dpi=256,facecolor='w', transparent=False)"
   ]
  },
  {
   "cell_type": "code",
   "execution_count": null,
   "id": "b0b306a1",
   "metadata": {},
   "outputs": [],
   "source": [
    "gql = np.load(dn+\"gql_3_kf.npz\",allow_pickle=True) \n",
    "fig,ax = plt.subplots(figsize=(6,4))\n",
    "\n",
    "ax.set_title(r'$\\zeta(y,t)$',fontsize=16)\n",
    "im = ax.imshow((gql['Vxy'][:,:,-1]),cmap=\"seismic\",origin=\"lower\",interpolation=\"bicubic\",aspect=0.5)\n",
    "fig.colorbar(im,ax=ax,orientation='horizontal')\n",
    "\n",
    "ax.set_xticks([0,M-1,2*M-2])\n",
    "ax.set_xticklabels([r'$0$',r'$\\pi$',r'$2\\pi$'],fontsize=14)\n",
    "ax.set_yticks([0,N-1,2*N-2])\n",
    "ax.set_yticklabels([r'$0$',r'$2\\pi$',r'$4\\pi$'],fontsize=14)\n",
    "\n",
    "plt.show()\n",
    "# plt.savefig(dn+'vorticity_nl.png',bbox_inches='tight',dpi=256,facecolor='w', transparent=False)"
   ]
  },
  {
   "cell_type": "code",
   "execution_count": null,
   "id": "5e9f70d5",
   "metadata": {},
   "outputs": [],
   "source": [
    "gql = np.load(dn+\"gql_4_kf.npz\",allow_pickle=True) \n",
    "fig,ax = plt.subplots(figsize=(6,4))\n",
    "\n",
    "ax.set_title(r'$\\zeta(y,t)$',fontsize=16)\n",
    "im = ax.imshow((gql['Vxy'][:,:,-1]),cmap=\"seismic\",origin=\"lower\",interpolation=\"bicubic\",aspect=0.5)\n",
    "fig.colorbar(im,ax=ax,orientation='horizontal')\n",
    "\n",
    "ax.set_xticks([0,M-1,2*M-2])\n",
    "ax.set_xticklabels([r'$0$',r'$\\pi$',r'$2\\pi$'],fontsize=14)\n",
    "ax.set_yticks([0,N-1,2*N-2])\n",
    "ax.set_yticklabels([r'$0$',r'$2\\pi$',r'$4\\pi$'],fontsize=14)\n",
    "\n",
    "plt.show()\n",
    "# plt.savefig(dn+'vorticity_nl.png',bbox_inches='tight',dpi=256,facecolor='w', transparent=False)"
   ]
  },
  {
   "cell_type": "code",
   "execution_count": null,
   "id": "3ea9e4a7",
   "metadata": {},
   "outputs": [],
   "source": [
    "gql = np.load(dn+\"gql_5_kf.npz\",allow_pickle=True) \n",
    "fig,ax = plt.subplots(figsize=(6,4))\n",
    "\n",
    "ax.set_title(r'$\\zeta(y,t)$',fontsize=16)\n",
    "im = ax.imshow((gql['Vxy'][:,:,-1]),cmap=\"seismic\",origin=\"lower\",interpolation=\"bicubic\",aspect=0.5)\n",
    "fig.colorbar(im,ax=ax,orientation='horizontal')\n",
    "\n",
    "ax.set_xticks([0,M-1,2*M-2])\n",
    "ax.set_xticklabels([r'$0$',r'$\\pi$',r'$2\\pi$'],fontsize=14)\n",
    "ax.set_yticks([0,N-1,2*N-2])\n",
    "ax.set_yticklabels([r'$0$',r'$2\\pi$',r'$4\\pi$'],fontsize=14)\n",
    "\n",
    "plt.show()\n",
    "# plt.savefig(dn+'vorticity_nl.png',bbox_inches='tight',dpi=256,facecolor='w', transparent=False)"
   ]
  },
  {
   "cell_type": "code",
   "execution_count": null,
   "id": "85545585",
   "metadata": {},
   "outputs": [],
   "source": [
    "gql = np.load(dn+\"gql_17_kf.npz\",allow_pickle=True) \n",
    "fig,ax = plt.subplots(figsize=(6,4))\n",
    "\n",
    "ax.set_title(r'$\\zeta(y,t)$',fontsize=16)\n",
    "im = ax.imshow((gql['Vxy'][:,:,-1]),cmap=\"seismic\",origin=\"lower\",interpolation=\"bicubic\",aspect=0.5)\n",
    "fig.colorbar(im,ax=ax,orientation='horizontal')\n",
    "\n",
    "ax.set_xticks([0,M-1,2*M-2])\n",
    "ax.set_xticklabels([r'$0$',r'$\\pi$',r'$2\\pi$'],fontsize=14)\n",
    "ax.set_yticks([0,N-1,2*N-2])\n",
    "ax.set_yticklabels([r'$0$',r'$2\\pi$',r'$4\\pi$'],fontsize=14)\n",
    "\n",
    "plt.show()\n",
    "# plt.savefig(dn+'vorticity_nl.png',bbox_inches='tight',dpi=256,facecolor='w', transparent=False)"
   ]
  },
  {
   "cell_type": "code",
   "execution_count": null,
   "id": "86698f8f",
   "metadata": {},
   "outputs": [],
   "source": [
    "fig,ax = plt.subplots()\n",
    "ax.set_title(f'GQL(9)',fontsize=14)\n",
    "ax.plot(gql['t'],gql['Emt'][0,:],'k',label='0')\n",
    "for i,x in enumerate(gql['Emt'][1:,:]):\n",
    "    ax.plot(gql['t'],x,label=i+1)\n",
    "\n",
    "ax.set_yscale('log')\n",
    "ax.set_ylim(1e-6,1e4)\n",
    "\n",
    "plt.show()"
   ]
  },
  {
   "cell_type": "code",
   "execution_count": null,
   "id": "f1ac319e",
   "metadata": {},
   "outputs": [],
   "source": [
    "fig,ax = plt.subplots()\n",
    "ax.set_title(f'NL',fontsize=14)\n",
    "ax.plot(nl['t'],nl['Emt'][0,:],'k',label='0')\n",
    "for i,x in enumerate(nl['Emt'][1:,:]):\n",
    "    ax.plot(nl['t'],x,label=i+1)\n",
    "\n",
    "ax.set_yscale('log')\n",
    "ax.set_ylim(1e-6,1e4)\n",
    "\n",
    "plt.show()"
   ]
  },
  {
   "cell_type": "code",
   "execution_count": null,
   "id": "67901758",
   "metadata": {},
   "outputs": [],
   "source": []
  },
  {
   "cell_type": "code",
   "execution_count": null,
   "id": "a9bf1584",
   "metadata": {},
   "outputs": [],
   "source": [
    "gql = np.load(dn+\"gql_5_kf.npz\",allow_pickle=True) \n",
    "\n",
    "fig,ax = plt.subplots(1,2,figsize=(12,4))\n",
    "# ax[1].set_title(f'GQL(9)',fontsize=14)\n",
    "\n",
    "im = ax[0].imshow((gql['Vxy'][:,:,-1]),cmap=\"seismic\",origin=\"lower\",interpolation=\"bicubic\",aspect=0.5)\n",
    "# fig.colorbar(im,ax=ax[0],orientation='vertical')\n",
    "\n",
    "ax[1].plot(gql['t'],gql['Emt'][0,:],'k',label='0')\n",
    "for i,x in enumerate(gql['Emt'][1:,:]):\n",
    "    ax[1].plot(gql['t'],x,label=i+1)\n",
    "\n",
    "ax[1].set_yscale('log')\n",
    "ax[1].set_ylim(1e-6,1e4)\n",
    "\n",
    "plt.show()"
   ]
  },
  {
   "cell_type": "code",
   "execution_count": null,
   "id": "abcfb5af",
   "metadata": {},
   "outputs": [],
   "source": [
    "gql = np.load(dn+\"gql_1_kf.npz\",allow_pickle=True) \n",
    "\n",
    "fig,ax = plt.subplots(1,2,figsize=(12,4))\n",
    "# ax[1].set_title(f'GQL(9)',fontsize=14)\n",
    "\n",
    "im = ax[0].imshow((gql['Vxy'][:,:,-1]),cmap=\"seismic\",origin=\"lower\",interpolation=\"bicubic\",aspect=0.5)\n",
    "# fig.colorbar(im,ax=ax[0],orientation='vertical')\n",
    "\n",
    "ax[1].plot(gql['t'],gql['Emt'][0,:],'k',label='0')\n",
    "for i,x in enumerate(gql['Emt'][1:,:]):\n",
    "    ax[1].plot(gql['t'],x,label=i+1)\n",
    "\n",
    "ax[1].set_yscale('log')\n",
    "ax[1].set_ylim(1e-6,1e4)\n",
    "\n",
    "plt.show()"
   ]
  },
  {
   "cell_type": "code",
   "execution_count": null,
   "id": "7f77eee5",
   "metadata": {},
   "outputs": [],
   "source": [
    "labels = [['NL','QL','GQL(1)','GQL(2)'],['GQL(4)','GQL(8)','GQL(12)','GQL(17)']]"
   ]
  },
  {
   "cell_type": "code",
   "execution_count": null,
   "id": "5028bf95",
   "metadata": {},
   "outputs": [],
   "source": [
    "labels[0]"
   ]
  },
  {
   "cell_type": "code",
   "execution_count": null,
   "id": "56bdba78",
   "metadata": {},
   "outputs": [],
   "source": [
    "fig,ax = plt.subplots(2,4,sharey='row',sharex='col',figsize=(15,4))\n",
    "\n",
    "gql_1 = np.load(dn+\"gql_1_kf.npz\",allow_pickle=True) \n",
    "gql_2 = np.load(dn+\"gql_2_kf.npz\",allow_pickle=True) \n",
    "gql_4 = np.load(dn+\"gql_4_kf.npz\",allow_pickle=True) \n",
    "gql_8 = np.load(dn+\"gql_8_kf.npz\",allow_pickle=True) \n",
    "gql_12 = np.load(dn+\"gql_12_kf.npz\",allow_pickle=True) \n",
    "gql_17 = np.load(dn+\"gql_17_kf.npz\",allow_pickle=True) \n",
    "\n",
    "im1 = ax[0,0].imshow(nl['Vxy'][:,:,-1],cmap=\"seismic\",origin=\"lower\",interpolation=\"bilinear\",aspect=0.5,vmin=-7.5,vmax=7.5)\n",
    "im2 = ax[0,1].imshow(ql['Vxy'][:,:,-1],cmap=\"seismic\",origin=\"lower\",interpolation=\"bilinear\",aspect=0.5,vmin=-7.5,vmax=7.5)\n",
    "im3 = ax[0,2].imshow(gql_1['Vxyav'][:,:,-1],cmap=\"seismic\",origin=\"lower\",interpolation=\"bilinear\",aspect=0.5,vmin=-7.5,vmax=7.5)\n",
    "im1 = ax[0,3].imshow(gql_2['Vxyav'][:,:,-1],cmap=\"seismic\",origin=\"lower\",interpolation=\"bilinear\",aspect=0.5,vmin=-7.5,vmax=7.5)\n",
    "\n",
    "im2 = ax[1,0].imshow(gql_4['Vxyav'][:,:,-1],cmap=\"seismic\",origin=\"lower\",interpolation=\"bilinear\",aspect=0.5,vmin=-7.5,vmax=7.5)\n",
    "im3 = ax[1,1].imshow(gql_8['Vxyav'][:,:,-1],cmap=\"seismic\",origin=\"lower\",interpolation=\"bilinear\",aspect=0.5,vmin=-7.5,vmax=7.5)\n",
    "im3 = ax[1,2].imshow(gql_12['Vxyav'][:,:,-1],cmap=\"seismic\",origin=\"lower\",interpolation=\"bilinear\",aspect=0.5,vmin=-7.5,vmax=7.5)\n",
    "im3 = ax[1,3].imshow(gql_17['Vxyav'][:,:,-1],cmap=\"seismic\",origin=\"lower\",interpolation=\"bilinear\",aspect=0.5,vmin=-7.5,vmax=7.5)\n",
    "\n",
    "for i,axis in enumerate(ax):\n",
    "    for j,a in enumerate(axis):\n",
    "        a.set_title(labels[i][j])\n",
    "        a.set_xticks([0,M-1,2*M-2])\n",
    "        a.set_xticklabels([r'$0$',r'$2\\pi$',r'$4\\pi$'],fontsize=14)\n",
    "        a.set_yticks([0,N-1,2*N-2])\n",
    "        a.set_yticklabels([r'$0$',r'$\\pi$',r'$2\\pi$'],fontsize=14)\n",
    "\n",
    "# plt.show()\n",
    "# plt.savefig(dn+'vortex_tests_zeta.png',bbox_inches='tight',dpi=256,facecolor='w', transparent=False)"
   ]
  },
  {
   "cell_type": "code",
   "execution_count": null,
   "id": "097ed9d2",
   "metadata": {},
   "outputs": [],
   "source": [
    "fig,ax = plt.subplots(2,4,sharey='row',sharex='col',figsize=(13,5))\n",
    "\n",
    "im1 = ax[0,0].imshow(nl['Emn'][:,:,-1],cmap=\"gist_stern_r\",origin=\"lower\",interpolation=\"none\",aspect=1,norm=LogNorm())\n",
    "im2 = ax[0,1].imshow(ql['Emn'][:,:,-1],cmap=\"gist_stern_r\",origin=\"lower\",interpolation=\"none\",aspect=1,norm=LogNorm())\n",
    "im3 = ax[0,2].imshow(gql_1['Emn'][:,:,-1].T,cmap=\"gist_stern_r\",origin=\"lower\",interpolation=\"none\",aspect=1,norm=LogNorm())\n",
    "im1 = ax[0,3].imshow(gql_2['Emn'][:,:,-1].T,cmap=\"gist_stern_r\",origin=\"lower\",interpolation=\"none\",aspect=1,norm=LogNorm())\n",
    "    \n",
    "im2 = ax[1,0].imshow(gql_4['Emn'][:,:,-1].T,cmap=\"gist_stern_r\",origin=\"lower\",interpolation=\"none\",aspect=1,norm=LogNorm())\n",
    "im3 = ax[1,1].imshow(gql_8['Emn'][:,:,-1].T,cmap=\"gist_stern_r\",origin=\"lower\",interpolation=\"none\",aspect=1,norm=LogNorm())\n",
    "im3 = ax[1,2].imshow(gql_12['Emn'][:,:,-1].T,cmap=\"gist_stern_r\",origin=\"lower\",interpolation=\"none\",aspect=1,norm=LogNorm())\n",
    "im3 = ax[1,3].imshow(gql_17['Emn'][:,:,-1].T,cmap=\"gist_stern_r\",origin=\"lower\",interpolation=\"none\",aspect=1,norm=LogNorm())\n",
    "\n",
    "for i,axis in enumerate(ax):\n",
    "    for j,a in enumerate(axis):\n",
    "        a.set_title(labels[i][j])\n",
    "        a.set_xticks([0,M-1,2*M-2])\n",
    "        a.set_xticklabels([r'$-N_x$',r'$0$',r'$N_x$'],fontsize=14)\n",
    "        a.set_yticks([0,N-1,2*N-2])\n",
    "        a.set_yticklabels([r'$-N_y$',r'$0$',r'$N_y$'],fontsize=14)\n",
    "\n",
    "# plt.show()\n",
    "plt.savefig(dn+'vortex_tests_spectra.png',bbox_inches='tight',dpi=256,facecolor='w', transparent=False)"
   ]
  },
  {
   "cell_type": "code",
   "execution_count": null,
   "id": "1cda1629",
   "metadata": {},
   "outputs": [],
   "source": [
    "gql_a = np.load(dn+\"gql_5_kf.npz\",allow_pickle=True) \n"
   ]
  },
  {
   "cell_type": "code",
   "execution_count": null,
   "id": "c922e8f0",
   "metadata": {},
   "outputs": [],
   "source": [
    "fig,ax = plt.subplots(1,3,figsize=(6,4))\n",
    "\n",
    "ax[0].set_title(r'NL',fontsize=14)\n",
    "im = ax[0].imshow((nl['Emn'][:,:,-1].T),cmap=\"gist_stern_r\",origin='lower',interpolation=\"none\")\n",
    "\n",
    "ax[1].imshow((ql['Emn'][:,:,-1].T),cmap=\"gist_stern_r\",origin='lower',interpolation=\"none\",norm=LogNorm())\n",
    "\n",
    "ax[2].imshow((gql_a['Emn'][:,:,-1].T),cmap=\"gist_stern_r\",origin='lower',interpolation=\"none\",norm=LogNorm())\n",
    "\n",
    "ax[1].set_yticks([])\n",
    "ax[1].set_xticks([])\n",
    "\n",
    "ax[0].set_yticks([0,M-1,2*M-2])\n",
    "ax[0].set_yticklabels([r'$-N_x$',r'$0$',r'$N_x$'],fontsize=14)\n",
    "ax[0].set_xticks([0,N-1,2*N-2])\n",
    "ax[0].set_xticklabels([r'$-N_y$',r'$0$',r'$N_y$'],fontsize=14)\n",
    "\n",
    "fig.subplots_adjust(right=0.85)\n",
    "cbar_ax = fig.add_axes([1.0, 0.35, 0.03, 0.3])\n",
    "fig.colorbar(im, cax=cbar_ax)\n",
    "\n",
    "fig.tight_layout()\n",
    "# plt.show()\n",
    "# plt.savefig(dn+'spectra_nl_sf.png',bbox_inches='tight',dpi=256,facecolor='w', transparent=False)"
   ]
  },
  {
   "cell_type": "code",
   "execution_count": null,
   "id": "565e76c2",
   "metadata": {},
   "outputs": [],
   "source": []
  }
 ],
 "metadata": {
  "kernelspec": {
   "display_name": "Python 3",
   "language": "python",
   "name": "python3"
  },
  "language_info": {
   "codemirror_mode": {
    "name": "ipython",
    "version": 3
   },
   "file_extension": ".py",
   "mimetype": "text/x-python",
   "name": "python",
   "nbconvert_exporter": "python",
   "pygments_lexer": "ipython3",
   "version": "3.9.12"
  }
 },
 "nbformat": 4,
 "nbformat_minor": 5
}
