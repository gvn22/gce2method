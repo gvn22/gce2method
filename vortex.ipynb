{
 "cells": [
  {
   "cell_type": "code",
   "execution_count": null,
   "id": "c45f8153",
   "metadata": {},
   "outputs": [],
   "source": [
    "import numpy as np\n",
    "\n",
    "import matplotlib as mpl\n",
    "import matplotlib.pyplot as plt\n",
    "import matplotlib.pylab as pl"
   ]
  },
  {
   "cell_type": "code",
   "execution_count": null,
   "id": "32c522f8",
   "metadata": {},
   "outputs": [],
   "source": [
    "plt.rc('font', family='serif') ## setting for figures which I usually use in my publications\n",
    "mpl.rcParams.update({'font.size': 12})\n",
    "mpl.rcParams.update({'legend.labelspacing':0.25, 'legend.fontsize': 12,'xtick.labelsize':14,'ytick.labelsize':14})\n",
    "mpl.rcParams.update({'errorbar.capsize': 4})\n",
    "plt.rc('text', usetex=True)\n",
    "plt.rc('font', family='serif')"
   ]
  },
  {
   "cell_type": "code",
   "execution_count": null,
   "id": "2d0d1eb6",
   "metadata": {},
   "outputs": [],
   "source": [
    "prop_cycle = plt.rcParams['axes.prop_cycle']\n",
    "colors = prop_cycle.by_key()['color']"
   ]
  },
  {
   "cell_type": "code",
   "execution_count": null,
   "id": "f825a60a",
   "metadata": {},
   "outputs": [],
   "source": [
    "def ranks(array):\n",
    "    return len(np.where(array > 1e-9)[0])\n",
    "\n",
    "def moderanks(array):\n",
    "    nt = np.shape(array)[2]\n",
    "    nm = np.shape(array)[1]\n",
    "    \n",
    "    R = np.reshape(np.zeros(nt*nm),(nt,nm))\n",
    "    for t in np.arange(nt):\n",
    "        for m in np.arange(nm):\n",
    "            R[t,m] = ranks(array[:,m,t])\n",
    "\n",
    "    return R"
   ]
  },
  {
   "cell_type": "code",
   "execution_count": null,
   "id": "015d8603",
   "metadata": {},
   "outputs": [],
   "source": [
    "dn = \"data/kolmogorov-vortex-tests/24x24/4pi2pi/\"\n",
    "\n",
    "M,N = 24,24"
   ]
  },
  {
   "cell_type": "code",
   "execution_count": null,
   "id": "336cb8f6",
   "metadata": {},
   "outputs": [],
   "source": [
    "nl = np.load(dn+\"nl_kf.npz\",allow_pickle=True) \n",
    "fig,ax = plt.subplots(figsize=(6,4))\n",
    "\n",
    "ax.set_title(r'$\\zeta(y,t)$',fontsize=16)\n",
    "im = ax.imshow((nl['Vxy'][:,:,-1]),cmap=\"seismic\",origin=\"lower\",interpolation=\"bicubic\",aspect=0.5)\n",
    "fig.colorbar(im,ax=ax,orientation='horizontal')\n",
    "\n",
    "ax.set_xticks([0,M-1,2*M-2])\n",
    "ax.set_xticklabels([r'$0$',r'$\\pi$',r'$2\\pi$'],fontsize=14)\n",
    "ax.set_yticks([0,N-1,2*N-2])\n",
    "ax.set_yticklabels([r'$0$',r'$2\\pi$',r'$4\\pi$'],fontsize=14)\n",
    "\n",
    "plt.show()\n",
    "# plt.savefig(dn+'vorticity_nl.png',bbox_inches='tight',dpi=256,facecolor='w', transparent=False)"
   ]
  },
  {
   "cell_type": "code",
   "execution_count": null,
   "id": "035d0eb4",
   "metadata": {},
   "outputs": [],
   "source": [
    "nl = np.load(dn+\"gql_0_kf.npz\",allow_pickle=True) \n",
    "fig,ax = plt.subplots(figsize=(6,4))\n",
    "\n",
    "ax.set_title(r'$\\zeta(y,t)$',fontsize=16)\n",
    "im = ax.imshow((nl['Vxy'][:,:,-1]),cmap=\"seismic\",origin=\"lower\",interpolation=\"bicubic\",aspect=0.5)\n",
    "fig.colorbar(im,ax=ax,orientation='horizontal')\n",
    "\n",
    "ax.set_xticks([0,M-1,2*M-2])\n",
    "ax.set_xticklabels([r'$0$',r'$\\pi$',r'$2\\pi$'],fontsize=14)\n",
    "ax.set_yticks([0,N-1,2*N-2])\n",
    "ax.set_yticklabels([r'$0$',r'$2\\pi$',r'$4\\pi$'],fontsize=14)\n",
    "\n",
    "plt.show()\n",
    "# plt.savefig(dn+'vorticity_nl.png',bbox_inches='tight',dpi=256,facecolor='w', transparent=False)"
   ]
  },
  {
   "cell_type": "code",
   "execution_count": null,
   "id": "b4ecd881",
   "metadata": {},
   "outputs": [],
   "source": [
    "nl = np.load(dn+\"gql_4_kf.npz\",allow_pickle=True) \n",
    "fig,ax = plt.subplots(figsize=(6,4))\n",
    "\n",
    "ax.set_title(r'$\\zeta(y,t)$',fontsize=16)\n",
    "im = ax.imshow((nl['Vxy'][:,:,-1]),cmap=\"seismic\",origin=\"lower\",interpolation=\"bicubic\",aspect=0.5)\n",
    "fig.colorbar(im,ax=ax,orientation='horizontal')\n",
    "\n",
    "ax.set_xticks([0,M-1,2*M-2])\n",
    "ax.set_xticklabels([r'$0$',r'$\\pi$',r'$2\\pi$'],fontsize=14)\n",
    "ax.set_yticks([0,N-1,2*N-2])\n",
    "ax.set_yticklabels([r'$0$',r'$2\\pi$',r'$4\\pi$'],fontsize=14)\n",
    "\n",
    "plt.show()\n",
    "# plt.savefig(dn+'vorticity_nl.png',bbox_inches='tight',dpi=256,facecolor='w', transparent=False)"
   ]
  },
  {
   "cell_type": "code",
   "execution_count": null,
   "id": "b0b306a1",
   "metadata": {},
   "outputs": [],
   "source": [
    "nl = np.load(dn+\"gql_6_kf.npz\",allow_pickle=True) \n",
    "fig,ax = plt.subplots(figsize=(6,4))\n",
    "\n",
    "ax.set_title(r'$\\zeta(y,t)$',fontsize=16)\n",
    "im = ax.imshow((nl['Vxy'][:,:,-1]),cmap=\"seismic\",origin=\"lower\",interpolation=\"bicubic\",aspect=0.5)\n",
    "fig.colorbar(im,ax=ax,orientation='horizontal')\n",
    "\n",
    "ax.set_xticks([0,M-1,2*M-2])\n",
    "ax.set_xticklabels([r'$0$',r'$\\pi$',r'$2\\pi$'],fontsize=14)\n",
    "ax.set_yticks([0,N-1,2*N-2])\n",
    "ax.set_yticklabels([r'$0$',r'$2\\pi$',r'$4\\pi$'],fontsize=14)\n",
    "\n",
    "plt.show()\n",
    "# plt.savefig(dn+'vorticity_nl.png',bbox_inches='tight',dpi=256,facecolor='w', transparent=False)"
   ]
  },
  {
   "cell_type": "code",
   "execution_count": null,
   "id": "5e9f70d5",
   "metadata": {},
   "outputs": [],
   "source": [
    "nl = np.load(dn+\"gql_7_kf.npz\",allow_pickle=True) \n",
    "fig,ax = plt.subplots(figsize=(6,4))\n",
    "\n",
    "ax.set_title(r'$\\zeta(y,t)$',fontsize=16)\n",
    "im = ax.imshow((nl['Vxy'][:,:,-1]),cmap=\"seismic\",origin=\"lower\",interpolation=\"bicubic\",aspect=0.5)\n",
    "fig.colorbar(im,ax=ax,orientation='horizontal')\n",
    "\n",
    "ax.set_xticks([0,M-1,2*M-2])\n",
    "ax.set_xticklabels([r'$0$',r'$\\pi$',r'$2\\pi$'],fontsize=14)\n",
    "ax.set_yticks([0,N-1,2*N-2])\n",
    "ax.set_yticklabels([r'$0$',r'$2\\pi$',r'$4\\pi$'],fontsize=14)\n",
    "\n",
    "plt.show()\n",
    "# plt.savefig(dn+'vorticity_nl.png',bbox_inches='tight',dpi=256,facecolor='w', transparent=False)"
   ]
  },
  {
   "cell_type": "code",
   "execution_count": null,
   "id": "3ea9e4a7",
   "metadata": {},
   "outputs": [],
   "source": [
    "nl = np.load(dn+\"gql_8_kf.npz\",allow_pickle=True) \n",
    "fig,ax = plt.subplots(figsize=(6,4))\n",
    "\n",
    "ax.set_title(r'$\\zeta(y,t)$',fontsize=16)\n",
    "im = ax.imshow((nl['Vxy'][:,:,-1]),cmap=\"seismic\",origin=\"lower\",interpolation=\"bicubic\",aspect=0.5)\n",
    "fig.colorbar(im,ax=ax,orientation='horizontal')\n",
    "\n",
    "ax.set_xticks([0,M-1,2*M-2])\n",
    "ax.set_xticklabels([r'$0$',r'$\\pi$',r'$2\\pi$'],fontsize=14)\n",
    "ax.set_yticks([0,N-1,2*N-2])\n",
    "ax.set_yticklabels([r'$0$',r'$2\\pi$',r'$4\\pi$'],fontsize=14)\n",
    "\n",
    "plt.show()\n",
    "# plt.savefig(dn+'vorticity_nl.png',bbox_inches='tight',dpi=256,facecolor='w', transparent=False)"
   ]
  },
  {
   "cell_type": "code",
   "execution_count": null,
   "id": "85545585",
   "metadata": {},
   "outputs": [],
   "source": []
  }
 ],
 "metadata": {
  "kernelspec": {
   "display_name": "Python 3",
   "language": "python",
   "name": "python3"
  },
  "language_info": {
   "codemirror_mode": {
    "name": "ipython",
    "version": 3
   },
   "file_extension": ".py",
   "mimetype": "text/x-python",
   "name": "python",
   "nbconvert_exporter": "python",
   "pygments_lexer": "ipython3",
   "version": "3.9.12"
  }
 },
 "nbformat": 4,
 "nbformat_minor": 5
}
