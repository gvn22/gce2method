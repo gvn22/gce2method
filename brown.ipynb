{
 "cells": [
  {
   "cell_type": "markdown",
   "metadata": {},
   "source": [
    "# Disagreements in GQL/GCE2 \n",
    "\n",
    "Validating the GCE2 method against statistics obtained from GQL for Kolmogorov and Stochastic forcing."
   ]
  },
  {
   "cell_type": "code",
   "execution_count": null,
   "metadata": {},
   "outputs": [],
   "source": [
    "import numpy as np\n",
    "\n",
    "import matplotlib as mpl\n",
    "import matplotlib.pyplot as plt\n",
    "import matplotlib.pylab as pl"
   ]
  },
  {
   "cell_type": "code",
   "execution_count": null,
   "metadata": {},
   "outputs": [],
   "source": [
    "plt.rc('font', family='serif') ## setting for figures which I usually use in my publications\n",
    "mpl.rcParams.update({'font.size': 12})\n",
    "mpl.rcParams.update({'legend.labelspacing':0.25, 'legend.fontsize': 12,'xtick.labelsize':14,'ytick.labelsize':14})\n",
    "mpl.rcParams.update({'errorbar.capsize': 4})\n",
    "plt.rc('text', usetex=True)\n",
    "plt.rc('font', family='serif')"
   ]
  },
  {
   "cell_type": "code",
   "execution_count": null,
   "metadata": {},
   "outputs": [],
   "source": [
    "prop_cycle = plt.rcParams['axes.prop_cycle']\n",
    "colors = prop_cycle.by_key()['color']"
   ]
  },
  {
   "cell_type": "code",
   "execution_count": null,
   "metadata": {},
   "outputs": [],
   "source": [
    "def ranks(array):\n",
    "    return len(np.where(array > 1e-9)[0])\n",
    "\n",
    "def moderanks(array):\n",
    "    nt = np.shape(array)[2]\n",
    "    nm = np.shape(array)[1]\n",
    "    \n",
    "    R = np.reshape(np.zeros(nt*nm),(nt,nm))\n",
    "    for t in np.arange(nt):\n",
    "        for m in np.arange(nm):\n",
    "            R[t,m] = ranks(array[:,m,t])\n",
    "\n",
    "    return R"
   ]
  },
  {
   "cell_type": "markdown",
   "metadata": {},
   "source": [
    "The barotropic equation for vorticity $\\zeta = \\nabla^2 \\psi$ on the $\\beta$-plane with driving and dissipation is:\n",
    "\n",
    "\\begin{equation}\n",
    "        \\partial_t \\zeta = F(y,t) - \\beta \\frac{\\partial \\psi}{\\partial x} + \\nu \\nabla^2 \\zeta - \\mu \\zeta + \\nu_\\alpha \\nabla^{2\\alpha} \\zeta - J(\\psi,\\zeta)\n",
    "\\end{equation}\n",
    "\n",
    "where $F(y,t)$ is the driving term which is constant in the zonal ($x$) direction, $\\beta(\\theta)$ refers to the strength of transverse-variation of Coriolis force at latitude $\\theta$, $\\mu$ is the friction coefficient, $\\nu$ is the kinematic viscosity, $\\nu_\\alpha$ is the hyperviscosity coefficient and $\\alpha$ the corresponding exponent, $\\psi$ is the streamfunction, and the Jacobian $J(A,B) \\equiv \\hat{z} \\cdot \\nabla A \\times \\nabla B = A_xB_y - A_yB_x$ where $\\hat{z}$ is the unit vertical vector.\n",
    "\n",
    "Varying $F(y,t)$ over the cases below, either Kolmogorov or Stochastic."
   ]
  },
  {
   "cell_type": "markdown",
   "metadata": {},
   "source": [
    "## Verify QL/CE2/GCE2(0) on Oscar"
   ]
  },
  {
   "cell_type": "code",
   "execution_count": null,
   "metadata": {},
   "outputs": [],
   "source": [
    "### Standard 8x8 case\n",
    "M,N = 8,8"
   ]
  },
  {
   "cell_type": "code",
   "execution_count": null,
   "metadata": {},
   "outputs": [],
   "source": [
    "# Kolmogorov flow parameters: μ = 0.0, ν = 0.02\n",
    "dn = \"data/tests_qlce2/\""
   ]
  },
  {
   "cell_type": "code",
   "execution_count": null,
   "metadata": {},
   "outputs": [],
   "source": [
    "ql = np.load(dn+\"ql_kf.npz\",allow_pickle=True) \n",
    "ce2 = np.load(dn+\"ce2_kf.npz\",allow_pickle=True)\n",
    "# gce2_0 = np.load(dn+\"gce2_0_kf.npz\",allow_pickle=True)"
   ]
  },
  {
   "cell_type": "code",
   "execution_count": null,
   "metadata": {},
   "outputs": [],
   "source": [
    "fig,ax = plt.subplots(1,2,sharey='row',figsize=(10,4))\n",
    "    \n",
    "ax[0].set_title(f'QL',fontsize=14)\n",
    "\n",
    "for i,x in enumerate(ql['Emtav']):\n",
    "    ax[0].plot(ql['t'],x,label=i)\n",
    "\n",
    "ax[1].set_title(f'CE2',fontsize=14)\n",
    "for i,x in enumerate(ce2['Emtav']):\n",
    "    ax[1].plot(ce2['t'],x,label=i)\n",
    "\n",
    "ax[1].legend(ncol=1)\n",
    "\n",
    "for a in ax:\n",
    "    a.set_xlabel(r'$t$',fontsize=14)\n",
    "    a.set_yscale('log')\n",
    "    a.set_ylim(1e-12,1e4)\n",
    "    \n",
    "plt.show()"
   ]
  },
  {
   "cell_type": "code",
   "execution_count": null,
   "metadata": {},
   "outputs": [],
   "source": [
    "fig,ax = plt.subplots(1,2,figsize=(15,6))\n",
    "\n",
    "ax[0].set_title(f'QL',fontsize=14)\n",
    "im = ax[0].imshow((ql['Emn'][:,:,-1]),cmap=\"nipy_spectral_r\",origin=\"lower\",interpolation=\"bicubic\")\n",
    "fig.colorbar(im,ax=ax[0])\n",
    "\n",
    "ax[1].set_title(f'CE2',fontsize=14)\n",
    "im = ax[1].imshow((ce2['Emn'][:,:,-1]),cmap=\"nipy_spectral_r\",origin=\"lower\",interpolation=\"bicubic\")\n",
    "fig.colorbar(im,ax=ax[1])\n",
    "\n",
    "for a in ax:\n",
    "    a.set_xticks([0,M-1,2*M-2])\n",
    "    a.set_xticklabels([r'$-N_x$',r'$0$',r'$N_x$'],fontsize=14)\n",
    "    a.set_yticks([0,N-1,2*N-2])\n",
    "    a.set_yticklabels([r'$-N_y$',r'$0$',r'$N_y$'],fontsize=14)\n",
    "\n",
    "plt.show()"
   ]
  },
  {
   "cell_type": "code",
   "execution_count": null,
   "metadata": {},
   "outputs": [],
   "source": [
    "fig,ax = plt.subplots(1,2,figsize=(14,6))\n",
    "\n",
    "ax[0].set_title(f'QL',fontsize=14)\n",
    "im = ax[0].imshow((ql['Vxyav'][:,:,-1]),cmap=\"RdBu_r\",origin=\"lower\",interpolation=\"bicubic\")\n",
    "fig.colorbar(im,ax=ax[0])\n",
    "\n",
    "ax[1].set_title(f'CE2',fontsize=14)\n",
    "im = ax[1].imshow((ce2['Vxyav'][:,:,-1]),cmap=\"RdBu_r\",origin=\"lower\",interpolation=\"bicubic\")\n",
    "fig.colorbar(im,ax=ax[1])\n",
    "\n",
    "for a in ax:\n",
    "    a.set_xticks([0,M-1,2*M-2])\n",
    "    a.set_xticklabels([r'$-\\pi$',r'$0$',r'$\\pi$'],fontsize=14)\n",
    "    a.set_yticks([0,N-1,2*N-2])\n",
    "    a.set_yticklabels([r'$-\\pi$',r'$0$',r'$\\pi$'],fontsize=14)\n",
    "\n",
    "plt.show()"
   ]
  },
  {
   "cell_type": "markdown",
   "metadata": {},
   "source": [
    "## Linear - GCE2 - Stochastic"
   ]
  },
  {
   "cell_type": "code",
   "execution_count": null,
   "metadata": {},
   "outputs": [],
   "source": [
    "# Stochastic tests with linear coefficients only\n",
    "dn = \"data/tests_stochastic/linear/\""
   ]
  },
  {
   "cell_type": "code",
   "execution_count": null,
   "metadata": {},
   "outputs": [],
   "source": [
    "ql = np.load(dn+\"ql_sf.npz\",allow_pickle=True) \n",
    "ce2 = np.load(dn+\"ce2_sf.npz\",allow_pickle=True)\n",
    "gce2_0 = np.load(dn+\"gce2_0_sf.npz\",allow_pickle=True)"
   ]
  },
  {
   "cell_type": "code",
   "execution_count": null,
   "metadata": {},
   "outputs": [],
   "source": [
    "fig,ax = plt.subplots(1,3,figsize=(14,5))\n",
    "    \n",
    "ax[0].set_title(f'QL',fontsize=14)\n",
    "ax[0].imshow(ql['F'],label='QL')\n",
    "\n",
    "ax[1].set_title(f'CE2',fontsize=14)\n",
    "ax[1].imshow(ce2['F'],label='CE2')\n",
    "\n",
    "ax[2].set_title(f'GCE2(0)',fontsize=14)\n",
    "ax[2].imshow(gce2_0['F'],label='GCE2(0)')\n",
    "\n",
    "plt.show()"
   ]
  },
  {
   "cell_type": "code",
   "execution_count": null,
   "metadata": {},
   "outputs": [],
   "source": [
    "fig,ax = plt.subplots(1,figsize=(5,5))\n",
    "\n",
    "ax.set_title(f'Energy',fontsize=14)\n",
    "\n",
    "# ax.plot(ql['t'],ql['Et'],label='QL')\n",
    "ax.plot(ce2['t'],ce2['Et'],label='CE2')\n",
    "ax.plot(gce2_0['t'],gce2_0['Et'],label='GCE2(0)')\n",
    "\n",
    "ax.legend(fontsize=14,loc=4)    \n",
    "\n",
    "ax.set_xlabel('t',fontsize=14)\n",
    "\n",
    "plt.show()"
   ]
  },
  {
   "cell_type": "code",
   "execution_count": null,
   "metadata": {},
   "outputs": [],
   "source": [
    "fig,ax = plt.subplots(1,figsize=(5,5))\n",
    "    \n",
    "ax.set_title(f'Enstrophy',fontsize=14)\n",
    "\n",
    "# ax.plot(ql['t'],ql['Et'],label='QL')\n",
    "ax.plot(ce2['t'],ce2['Zt'],label='CE2')\n",
    "ax.plot(gce2_0['t'],gce2_0['Zt'],label='GCE2(0)')\n",
    "\n",
    "ax.legend(fontsize=14,loc=4)    \n",
    "\n",
    "plt.show()"
   ]
  },
  {
   "cell_type": "code",
   "execution_count": null,
   "metadata": {},
   "outputs": [],
   "source": [
    "fig,ax = plt.subplots(1,3,sharey='row',figsize=(16,5))\n",
    "    \n",
    "# Energy\n",
    "ax[0].set_title(f'QL',fontsize=14)\n",
    "\n",
    "for i,x in enumerate(ql['Emtav']):\n",
    "    ax[0].plot(ql['t'],x,label=i)\n",
    "\n",
    "ax[1].set_title(f'CE2',fontsize=14)\n",
    "for i,x in enumerate(ce2['Emtav']):\n",
    "    ax[1].plot(ce2['t'],x,label=i)\n",
    "\n",
    "ax[2].set_title(f'GCE2(0)',fontsize=14)\n",
    "for i,x in enumerate(gce2_0['Emtav']):\n",
    "    ax[2].plot(gce2_0['t'],x,label=i)\n",
    "\n",
    "ax[2].legend(ncol=1)\n",
    "\n",
    "for a in ax:\n",
    "#     a.set_xlabel(r'$t$',fontsize=14)\n",
    "#     a.set_ylabel(r'$E$',fontsize=14)\n",
    "    a.set_yscale('log')\n",
    "    a.set_ylim(1e-12,1e4)\n",
    "\n",
    "plt.show()"
   ]
  },
  {
   "cell_type": "code",
   "execution_count": null,
   "metadata": {},
   "outputs": [],
   "source": [
    "gql_1 = np.load(dn+\"gql_1_sf.npz\",allow_pickle=True) \n",
    "gce2_1 = np.load(dn+\"gce2_1_sf.npz\",allow_pickle=True)"
   ]
  },
  {
   "cell_type": "code",
   "execution_count": null,
   "metadata": {},
   "outputs": [],
   "source": [
    "fig,ax = plt.subplots(1,figsize=(5,5))\n",
    "\n",
    "ax.set_title(f'Energy',fontsize=14)\n",
    "\n",
    "# ax.plot(ql['t'],ql['Et'],label='QL')\n",
    "ax.plot(gql_1['t'],gql_1['Et'],label='CE2')\n",
    "ax.plot(gce2_1['t'],gce2_1['Et'],label='GCE2(0)')\n",
    "\n",
    "ax.legend(fontsize=14,loc=4)    \n",
    "\n",
    "plt.show()"
   ]
  },
  {
   "cell_type": "code",
   "execution_count": null,
   "metadata": {},
   "outputs": [],
   "source": [
    "gql_2 = np.load(dn+\"gql_2_sf.npz\",allow_pickle=True) \n",
    "# gce2_2 = np.load(dn+\"gce2_2_sf.npz\",allow_pickle=True)"
   ]
  },
  {
   "cell_type": "code",
   "execution_count": null,
   "metadata": {},
   "outputs": [],
   "source": [
    "fig,ax = plt.subplots(1,figsize=(5,5))\n",
    "\n",
    "ax.set_title(f'Energy',fontsize=14)\n",
    "\n",
    "ax.plot(gql_2['t'],gql_2['Et'],label='CE2')\n",
    "# ax.plot(gce2_1['t'],gce2_1['Et'],label='GCE2(0)')\n",
    "\n",
    "ax.legend(fontsize=14,loc=4)    \n",
    "\n",
    "ax.set_xlabel('t',fontsize=14)\n",
    "\n",
    "plt.show()"
   ]
  },
  {
   "cell_type": "markdown",
   "metadata": {},
   "source": [
    "## Nonlinear - GCE2 - Stochastic"
   ]
  },
  {
   "cell_type": "code",
   "execution_count": null,
   "metadata": {},
   "outputs": [],
   "source": [
    "dn = \"data/tests_stochastic/nonlinear/\"\n",
    "\n",
    "ql = np.load(dn+\"ql_sf.npz\",allow_pickle=True) \n",
    "ce2 = np.load(dn+\"ce2_sf.npz\",allow_pickle=True)"
   ]
  },
  {
   "cell_type": "code",
   "execution_count": null,
   "metadata": {},
   "outputs": [],
   "source": [
    "fig,ax = plt.subplots(1,2,sharey='row',figsize=(12,5))\n",
    "    \n",
    "ax[0].set_title(f'QL',fontsize=14)\n",
    "\n",
    "for i,x in enumerate(ql['Emtav']):\n",
    "    ax[0].plot(ql['t'],x,label=i)\n",
    "\n",
    "ax[1].set_title(f'CE2',fontsize=14)\n",
    "for i,x in enumerate(ce2['Emtav']):\n",
    "    ax[1].plot(ce2['t'],x,label=i)\n",
    "\n",
    "ax[1].legend(bbox_to_anchor=(1.01,0.5),ncol=1)\n",
    "\n",
    "for a in ax:\n",
    "    a.set_yscale('log')\n",
    "    a.set_ylim(1e-11,1e1)\n",
    "\n",
    "plt.show()"
   ]
  },
  {
   "cell_type": "code",
   "execution_count": null,
   "metadata": {},
   "outputs": [],
   "source": [
    "gql_1 = np.load(dn+\"gql_1_sf.npz\",allow_pickle=True) \n",
    "gce2_1 = np.load(dn+\"gce2_1_sf.npz\",allow_pickle=True)"
   ]
  },
  {
   "cell_type": "code",
   "execution_count": null,
   "metadata": {},
   "outputs": [],
   "source": [
    "fig,ax = plt.subplots(1,2,figsize=(12,5))\n",
    "    \n",
    "ax[0].set_title(f'GQL(1)',fontsize=14)\n",
    "\n",
    "for i,x in enumerate(gql_1['Emt']):\n",
    "    ax[0].plot(gql_1['t'],x,label=i)\n",
    "\n",
    "ax[1].set_title(f'GCE2(1)',fontsize=14)\n",
    "for i,x in enumerate(gce2_1['Emt']):\n",
    "    ax[1].plot(gce2_1['t'],x,label=i)\n",
    "\n",
    "ax[1].legend(bbox_to_anchor=(1.01,0.5),ncol=1)\n",
    "\n",
    "for a in ax:\n",
    "    a.set_yscale('log')\n",
    "    a.set_ylim(1e-10,1e0)\n",
    "\n",
    "plt.show()"
   ]
  },
  {
   "cell_type": "markdown",
   "metadata": {},
   "source": [
    "> mild jets observed for e = 0.005"
   ]
  },
  {
   "cell_type": "code",
   "execution_count": null,
   "metadata": {},
   "outputs": [],
   "source": [
    "gql_2 = np.load(dn+\"gql_2_sf.npz\",allow_pickle=True) \n",
    "# gce2_2 = np.load(dn+\"gce2_2_sf.npz\",allow_pickle=True)"
   ]
  },
  {
   "cell_type": "code",
   "execution_count": null,
   "metadata": {},
   "outputs": [],
   "source": [
    "fig,ax = plt.subplots(1,2,figsize=(12,5))\n",
    "    \n",
    "ax[0].set_title(f'GQL(2)',fontsize=14)\n",
    "\n",
    "for i,x in enumerate(gql_2['Emt']):\n",
    "    ax[0].plot(gql_2['t'],x,label=i)\n",
    "\n",
    "ax[1].set_title(f'GCE2(2)',fontsize=14)\n",
    "# for i,x in enumerate(gce2_2['Emt']):\n",
    "#     ax[1].plot(gce2_2['t'],x,label=i)\n",
    "\n",
    "ax[1].legend(bbox_to_anchor=(1.01,0.5),ncol=1)\n",
    "\n",
    "for a in ax:\n",
    "    a.set_xlabel(r'$t$',fontsize=14)\n",
    "    a.set_ylabel(r'$E$',fontsize=14)\n",
    "    a.set_yscale('log')\n",
    "    a.set_ylim(1e-10,1e0)\n",
    "\n",
    "plt.show()"
   ]
  },
  {
   "cell_type": "code",
   "execution_count": null,
   "metadata": {},
   "outputs": [],
   "source": [
    "dn = \"data/tests_stochastic/nu01e01m5bn3/reanalyse/\"\n",
    "\n",
    "ql = np.load(dn+\"ql_sf.npz\",allow_pickle=True) \n",
    "ce2 = np.load(dn+\"ce2_sf.npz\",allow_pickle=True)"
   ]
  },
  {
   "cell_type": "code",
   "execution_count": null,
   "metadata": {
    "scrolled": true
   },
   "outputs": [],
   "source": [
    "fig,ax = plt.subplots(1,2,figsize=(12,5))\n",
    "    \n",
    "# Energy\n",
    "ax[0].set_title(f'QL',fontsize=14)\n",
    "\n",
    "for i,x in enumerate(ql['Emtav']):\n",
    "    ax[0].plot(ql['t'],x,label=i)\n",
    "\n",
    "ax[1].set_title(f'CE2',fontsize=14)\n",
    "for i,x in enumerate(ce2['Emtav']):\n",
    "    ax[1].plot(ce2['t'],x,label=i)\n",
    "\n",
    "ax[1].legend(bbox_to_anchor=(1.01,0.5),ncol=1)\n",
    "\n",
    "for a in ax:\n",
    "    a.set_xlabel(r'$t$',fontsize=14)\n",
    "    a.set_ylabel(r'$E$',fontsize=14)\n",
    "    a.set_yscale('log')\n",
    "    a.set_ylim(1e-12,1e4)\n",
    "\n",
    "# plt.show()"
   ]
  },
  {
   "cell_type": "code",
   "execution_count": null,
   "metadata": {},
   "outputs": [],
   "source": [
    "gql_1 = np.load(dn+\"gql_1_sf.npz\",allow_pickle=True) \n",
    "gce2_1 = np.load(dn+\"gce2_1_sf.npz\",allow_pickle=True)"
   ]
  },
  {
   "cell_type": "code",
   "execution_count": null,
   "metadata": {},
   "outputs": [],
   "source": [
    "fig,ax = plt.subplots(1,figsize=(5,5))\n",
    "\n",
    "ax.set_title(f'Energy',fontsize=14)\n",
    "\n",
    "# ax.plot(ql['t'],ql['Et'],label='QL')\n",
    "ax.plot(gql_1['t'],gql_1['Et'],label='GQL(1)')\n",
    "ax.plot(gce2_1['t'],gce2_1['Et'],label='GCE2(1)')\n",
    "\n",
    "plt.axhline(np.mean(gql_1['Et'][20:]),linestyle='dashed')\n",
    "ax.legend(fontsize=14,loc=4)    \n",
    "\n",
    "# plt.show()\n",
    "plt.savefig(dn+'et_gql_gce2_1.png',bbox_inches='tight',dpi=256,facecolor='w', transparent=False)"
   ]
  },
  {
   "cell_type": "code",
   "execution_count": null,
   "metadata": {},
   "outputs": [],
   "source": [
    "fig,ax = plt.subplots(1,2,figsize=(12,5))\n",
    "    \n",
    "ax[0].set_title(f'GQL(1)',fontsize=14)\n",
    "for i,x in enumerate(gql_1['Emt']):\n",
    "    ax[0].plot(gql_1['t'],x,label=i)\n",
    "\n",
    "ax[1].set_title(f'GCE2(1)',fontsize=14)\n",
    "for i,x in enumerate(gce2_1['Emt']):\n",
    "    ax[1].plot(gce2_1['t'],x,label=i)\n",
    "\n",
    "ax[1].legend(bbox_to_anchor=(1.01,0.5),ncol=1)\n",
    "\n",
    "for a in ax:\n",
    "    a.set_yscale('log')\n",
    "    a.set_ylim(1e-10,1e0)\n",
    "\n",
    "# plt.show()\n",
    "plt.savefig(dn+'em_gql_gce2_1.png',bbox_inches='tight',dpi=256,facecolor='w', transparent=False)"
   ]
  },
  {
   "cell_type": "code",
   "execution_count": null,
   "metadata": {},
   "outputs": [],
   "source": [
    "fig,ax = plt.subplots(1,2,figsize=(12,4))\n",
    "\n",
    "prop_cycle = plt.rcParams['axes.prop_cycle']\n",
    "colors = prop_cycle.by_key()['color']\n",
    "\n",
    "R_gql_1 = moderanks(gql_1['mEVs'])\n",
    "R_gce2_1 = moderanks(gce2_1['mEVs'])\n",
    "# R_ce2_qlic = moderanks(ce2_qlic['mEVs'])\n",
    "\n",
    "ax[0].set_title(r'$rank(m)$: GQL(1)')\n",
    "for i in np.arange(M-1):\n",
    "    ax[0].plot(gql_1['t'],R_gql_1[:,i],label=i+1)\n",
    "\n",
    "ax[1].set_title(r'$rank(m)$: GCE2(1)')\n",
    "for i in np.arange(1,M-1):\n",
    "    ax[1].plot(gce2_1['t'],R_gce2_1[:,i],label=i+1,c=colors[i])\n",
    "\n",
    "for a in ax:\n",
    "    a.set_xlabel(r'$t$',fontsize=14)\n",
    "    a.set_ylim(-1,16)\n",
    "\n",
    "ax[0].legend(title=r'$m$',loc=5)\n",
    "ax[1].legend(title=r'$m$',loc=5)\n",
    "\n",
    "# plt.show()\n",
    "plt.savefig(dn+'rnk_gql_gce2_1.png',bbox_inches='tight',dpi=256,facecolor='w', transparent=False)"
   ]
  },
  {
   "cell_type": "code",
   "execution_count": null,
   "metadata": {},
   "outputs": [],
   "source": [
    "gql_2 = np.load(dn+\"gql_2_sf.npz\",allow_pickle=True) \n",
    "gce2_2 = np.load(dn+\"gce2_2_sf.npz\",allow_pickle=True)"
   ]
  },
  {
   "cell_type": "code",
   "execution_count": null,
   "metadata": {
    "scrolled": true
   },
   "outputs": [],
   "source": [
    "fig,ax = plt.subplots(1,2,figsize=(12,5))\n",
    "    \n",
    "ax[0].set_title(f'GQL(2)',fontsize=14)\n",
    "\n",
    "for i,x in enumerate(gql_2['Emt']):\n",
    "    ax[0].plot(gql_2['t'],x,label=i)\n",
    "\n",
    "ax[1].set_title(f'GCE2(2)',fontsize=14)\n",
    "for i,x in enumerate(gce2_2['Emt']):\n",
    "    ax[1].plot(gce2_2['t'],x,label=i)\n",
    "\n",
    "ax[1].legend(bbox_to_anchor=(1.01,0.5),ncol=1)\n",
    "\n",
    "for a in ax:\n",
    "    a.set_yscale('log')\n",
    "    a.set_ylim(1e-10,1e0)\n",
    "\n",
    "plt.show()"
   ]
  },
  {
   "cell_type": "code",
   "execution_count": null,
   "metadata": {},
   "outputs": [],
   "source": [
    "fig,ax = plt.subplots(1,2,figsize=(12,4))\n",
    "\n",
    "prop_cycle = plt.rcParams['axes.prop_cycle']\n",
    "colors = prop_cycle.by_key()['color']\n",
    "\n",
    "R_gql_2 = moderanks(gql_2['mEVs'])\n",
    "R_gce2_2 = moderanks(gce2_2['mEVs'])\n",
    "# R_ce2_qlic = moderanks(ce2_qlic['mEVs'])\n",
    "\n",
    "ax[0].set_title(r'$rank(m)$: GQL(2)')\n",
    "for i in np.arange(M-1):\n",
    "    ax[0].plot(gql_2['t'],R_gql_2[:,i],label=i+1)\n",
    "\n",
    "ax[1].set_title(r'$rank(m)$: GCE2(2)')\n",
    "for i in np.arange(2,M-1):\n",
    "    ax[1].plot(gce2_2['t'],R_gce2_2[:,i],label=i+1,c=colors[i])\n",
    "\n",
    "for a in ax:\n",
    "    a.set_xlabel(r'$t$',fontsize=14)\n",
    "    a.set_ylim(-1,16)\n",
    "\n",
    "ax[0].legend(title=r'$m$',loc=5)\n",
    "ax[1].legend(title=r'$m$',loc=5)\n",
    "\n",
    "plt.show()\n",
    "# plt.savefig(dn+'rnk_gql_gce2_1.png',bbox_inches='tight',dpi=256,facecolor='w', transparent=False)"
   ]
  },
  {
   "cell_type": "code",
   "execution_count": null,
   "metadata": {},
   "outputs": [],
   "source": [
    "dn = \"data/tests_stochastic/nu01e01m5bn3/linear/\"\n",
    "\n",
    "ql = np.load(dn+\"ql_sf.npz\",allow_pickle=True) \n",
    "ce2 = np.load(dn+\"ce2_sf.npz\",allow_pickle=True)"
   ]
  },
  {
   "cell_type": "code",
   "execution_count": null,
   "metadata": {},
   "outputs": [],
   "source": [
    "gql_1 = np.load(dn+\"gql_1_sf.npz\",allow_pickle=True) \n",
    "gce2_1 = np.load(dn+\"gce2_1_sf.npz\",allow_pickle=True)"
   ]
  },
  {
   "cell_type": "code",
   "execution_count": null,
   "metadata": {},
   "outputs": [],
   "source": [
    "fig,ax = plt.subplots(1,2,figsize=(12,5))\n",
    "    \n",
    "ax[0].set_title(f'GQL(1)',fontsize=14)\n",
    "for i,x in enumerate(gql_1['Emt']):\n",
    "    ax[0].plot(gql_1['t'],x,label=i)\n",
    "\n",
    "ax[1].set_title(f'GCE2(1)',fontsize=14)\n",
    "for i,x in enumerate(gce2_1['Emt']):\n",
    "    ax[1].plot(gce2_1['t'],x,label=i)\n",
    "\n",
    "ax[1].legend(bbox_to_anchor=(1.01,0.5),ncol=1)\n",
    "\n",
    "for a in ax:\n",
    "    a.set_yscale('log')\n",
    "    a.set_ylim(1e-10,1e0)\n",
    "\n",
    "# plt.show()\n",
    "plt.savefig(dn+'em_LINEAR_gql_gce2_1.png',bbox_inches='tight',dpi=256,facecolor='w', transparent=False)"
   ]
  },
  {
   "cell_type": "code",
   "execution_count": null,
   "metadata": {},
   "outputs": [],
   "source": [
    "fig,ax = plt.subplots(1,2,figsize=(12,4))\n",
    "\n",
    "prop_cycle = plt.rcParams['axes.prop_cycle']\n",
    "colors = prop_cycle.by_key()['color']\n",
    "\n",
    "R_gql_1 = moderanks(gql_1['mEVs'])\n",
    "R_gce2_1 = moderanks(gce2_1['mEVs'])\n",
    "# R_ce2_qlic = moderanks(ce2_qlic['mEVs'])\n",
    "\n",
    "ax[0].set_title(r'$rank(m)$: GQL(1)')\n",
    "for i in np.arange(M-1):\n",
    "    ax[0].plot(gql_1['t'],R_gql_1[:,i],label=i+1,c=colors[i+1])\n",
    "\n",
    "ax[1].set_title(r'$rank(m)$: GCE2(1)')\n",
    "for i in np.arange(1,M-1):\n",
    "    ax[1].plot(gce2_1['t'],R_gce2_1[:,i],label=i+1,c=colors[i+1])\n",
    "\n",
    "for a in ax:\n",
    "    a.set_xlabel(r'$t$',fontsize=14)\n",
    "    a.set_ylim(-1,16)\n",
    "\n",
    "ax[0].legend(title=r'$m$',loc=5)\n",
    "ax[1].legend(title=r'$m$',loc=5)\n",
    "\n",
    "# plt.show()\n",
    "plt.savefig(dn+'rnk_LINEAR_gql_gce2_1.png',bbox_inches='tight',dpi=256,facecolor='w', transparent=False)"
   ]
  },
  {
   "cell_type": "code",
   "execution_count": null,
   "metadata": {},
   "outputs": [],
   "source": [
    "gql_2 = np.load(dn+\"gql_2_sf.npz\",allow_pickle=True) \n",
    "gce2_2 = np.load(dn+\"gce2_2_sf.npz\",allow_pickle=True)"
   ]
  },
  {
   "cell_type": "code",
   "execution_count": null,
   "metadata": {},
   "outputs": [],
   "source": [
    "fig,ax = plt.subplots(1,2,figsize=(12,5))\n",
    "    \n",
    "ax[0].set_title(f'GQL(2)',fontsize=14)\n",
    "\n",
    "for i,x in enumerate(gql_2['Emt']):\n",
    "    ax[0].plot(gql_2['t'],x,label=i)\n",
    "\n",
    "ax[1].set_title(f'GCE2(2)',fontsize=14)\n",
    "for i,x in enumerate(gce2_2['Emt']):\n",
    "    ax[1].plot(gce2_2['t'],x,label=i)\n",
    "\n",
    "ax[1].legend(bbox_to_anchor=(1.01,0.5),ncol=1)\n",
    "\n",
    "for a in ax:\n",
    "    a.set_yscale('log')\n",
    "    a.set_ylim(1e-10,1e0)\n",
    "\n",
    "plt.show()"
   ]
  },
  {
   "cell_type": "code",
   "execution_count": null,
   "metadata": {},
   "outputs": [],
   "source": [
    "fig,ax = plt.subplots(1,2,figsize=(12,4))\n",
    "\n",
    "prop_cycle = plt.rcParams['axes.prop_cycle']\n",
    "colors = prop_cycle.by_key()['color']\n",
    "\n",
    "R_gql_2 = moderanks(gql_2['mEVs'])\n",
    "R_gce2_2 = moderanks(gce2_2['mEVs'])\n",
    "# R_ce2_qlic = moderanks(ce2_qlic['mEVs'])\n",
    "\n",
    "ax[0].set_title(r'$rank(m)$: GQL(2)')\n",
    "for i in np.arange(M-1):\n",
    "    ax[0].plot(gql_2['t'],R_gql_2[:,i],label=i+1)\n",
    "\n",
    "ax[1].set_title(r'$rank(m)$: GCE2(2)')\n",
    "for i in np.arange(2,M-1):\n",
    "    ax[1].plot(gce2_2['t'],R_gce2_2[:,i],label=i+1,c=colors[i])\n",
    "\n",
    "for a in ax:\n",
    "    a.set_xlabel(r'$t$',fontsize=14)\n",
    "    a.set_ylim(-1,16)\n",
    "\n",
    "ax[0].legend(title=r'$m$',loc=5)\n",
    "ax[1].legend(title=r'$m$',loc=5)\n",
    "\n",
    "plt.show()\n",
    "# plt.savefig(dn+'rnk_gql_gce2_1.png',bbox_inches='tight',dpi=256,facecolor='w', transparent=False)"
   ]
  },
  {
   "cell_type": "markdown",
   "metadata": {},
   "source": [
    "## Force a single mode"
   ]
  },
  {
   "cell_type": "code",
   "execution_count": null,
   "metadata": {},
   "outputs": [],
   "source": [
    "dn = \"data/tests_stochastic/nu01e01m4n2/\"\n",
    "\n",
    "ql = np.load(dn+\"ql_sf.npz\",allow_pickle=True) \n",
    "ce2 = np.load(dn+\"ce2_sf.npz\",allow_pickle=True)"
   ]
  },
  {
   "cell_type": "code",
   "execution_count": null,
   "metadata": {
    "scrolled": true
   },
   "outputs": [],
   "source": [
    "fig,ax = plt.subplots(1,2,figsize=(12,5))\n",
    "    \n",
    "ax[0].set_title(f'QL',fontsize=14)\n",
    "for i,x in enumerate(ql['Emt']):\n",
    "    ax[0].plot(ql['t'],x,label=i)\n",
    "\n",
    "ax[1].set_title(f'CE2',fontsize=14)\n",
    "for i,x in enumerate(ce2['Emtav']):\n",
    "    ax[1].plot(ce2['t'],x,label=i)\n",
    "\n",
    "ax[1].legend(ncol=1)\n",
    "\n",
    "for a in ax:\n",
    "    a.set_yscale('log')\n",
    "    a.set_ylim(1e-12,1e2)\n",
    "\n",
    "# plt.show()"
   ]
  },
  {
   "cell_type": "code",
   "execution_count": null,
   "metadata": {},
   "outputs": [],
   "source": [
    "fig,ax = plt.subplots(1,2,figsize=(15,6))\n",
    "\n",
    "ax[0].set_title(f'QL',fontsize=14)\n",
    "im = ax[0].imshow(ql['Emn'][:,:,-1],cmap=\"prism\",origin=\"lower\",interpolation=\"none\")\n",
    "fig.colorbar(im,ax=ax[0])\n",
    "\n",
    "ax[1].set_title(f'CE2',fontsize=14)\n",
    "im = ax[1].imshow((ce2['Emn'][:,:,-1]),cmap=\"prism\",origin=\"lower\",interpolation=\"none\")\n",
    "fig.colorbar(im,ax=ax[1])\n",
    "\n",
    "for a in ax:\n",
    "    a.set_xticks([0,M-1,2*M-2])\n",
    "    a.set_xticklabels([r'$-N_x$',r'$0$',r'$N_x$'],fontsize=14)\n",
    "    a.set_yticks([0,N-1,2*N-2])\n",
    "    a.set_yticklabels([r'$-N_y$',r'$0$',r'$N_y$'],fontsize=14)\n",
    "\n",
    "plt.show()"
   ]
  },
  {
   "cell_type": "code",
   "execution_count": null,
   "metadata": {},
   "outputs": [],
   "source": [
    "gql_1 = np.load(dn+\"gql_1_sf.npz\",allow_pickle=True) \n",
    "gce2_1 = np.load(dn+\"gce2_1_sf.npz\",allow_pickle=True)"
   ]
  },
  {
   "cell_type": "code",
   "execution_count": null,
   "metadata": {
    "scrolled": false
   },
   "outputs": [],
   "source": [
    "fig,ax = plt.subplots(1,2,figsize=(12,5))\n",
    "    \n",
    "ax[0].set_title(f'GQL(1)',fontsize=14)\n",
    "\n",
    "for i,x in enumerate(gql_1['Emt']):\n",
    "    ax[0].plot(gql_1['t'],x,label=i)\n",
    "\n",
    "ax[1].set_title(f'GCE2(1)',fontsize=14)\n",
    "for i,x in enumerate(gce2_1['Emt']):\n",
    "    ax[1].plot(gce2_1['t'],x,label=i)\n",
    "\n",
    "ax[1].legend(bbox_to_anchor=(1.01,0.5),ncol=1)\n",
    "\n",
    "for a in ax:\n",
    "    a.set_yscale('log')\n",
    "    a.set_ylim(1e-8,1e4)\n",
    "\n",
    "plt.show()"
   ]
  },
  {
   "cell_type": "code",
   "execution_count": null,
   "metadata": {},
   "outputs": [],
   "source": [
    "fig,ax = plt.subplots(1,2,figsize=(15,6))\n",
    "\n",
    "ax[0].set_title(f'GQL(1)',fontsize=14)\n",
    "im = ax[0].imshow(gql_1['Emn'][:,:,-1],cmap=\"gist_ncar_r\",origin=\"lower\",interpolation=\"none\")\n",
    "fig.colorbar(im,ax=ax[0])\n",
    "\n",
    "ax[1].set_title(f'GCE2(1)',fontsize=14)\n",
    "im = ax[1].imshow((gce2_1['Emn'][:,:,-1]),cmap=\"gist_ncar_r\",origin=\"lower\",interpolation=\"none\")\n",
    "fig.colorbar(im,ax=ax[1])\n",
    "\n",
    "for a in ax:\n",
    "    a.set_xticks([0,M-1,2*M-2])\n",
    "    a.set_xticklabels([r'$-N_x$',r'$0$',r'$N_x$'],fontsize=14)\n",
    "    a.set_yticks([0,N-1,2*N-2])\n",
    "    a.set_yticklabels([r'$-N_y$',r'$0$',r'$N_y$'],fontsize=14)\n",
    "\n",
    "plt.show()"
   ]
  },
  {
   "cell_type": "code",
   "execution_count": null,
   "metadata": {},
   "outputs": [],
   "source": [
    "fig,ax = plt.subplots(1,2,figsize=(14,6))\n",
    "\n",
    "ax[0].set_title(f'GQL(1)',fontsize=14)\n",
    "im = ax[0].imshow((gql_1['Vyt']),cmap=\"RdBu_r\",origin=\"lower\",interpolation=\"bicubic\")\n",
    "fig.colorbar(im,ax=ax[0],orientation='horizontal')\n",
    "\n",
    "ax[1].set_title(f'GCE2(1)',fontsize=14)\n",
    "im = ax[1].imshow((gce2_1['Vyt']),cmap=\"RdBu_r\",origin=\"lower\",interpolation=\"bicubic\")\n",
    "fig.colorbar(im,ax=ax[1],orientation='horizontal')\n",
    "\n",
    "plt.show()"
   ]
  },
  {
   "cell_type": "code",
   "execution_count": null,
   "metadata": {},
   "outputs": [],
   "source": [
    "gql_2 = np.load(dn+\"gql_2_sf.npz\",allow_pickle=True) \n",
    "gce2_2 = np.load(dn+\"gce2_2_sf.npz\",allow_pickle=True)"
   ]
  },
  {
   "cell_type": "code",
   "execution_count": null,
   "metadata": {},
   "outputs": [],
   "source": [
    "fig,ax = plt.subplots(1,2,figsize=(12,5))\n",
    "    \n",
    "ax[0].set_title(f'GQL(2)',fontsize=14)\n",
    "\n",
    "for i,x in enumerate(gql_2['Emt']):\n",
    "    ax[0].plot(gql_2['t'],x,label=i)\n",
    "\n",
    "ax[1].set_title(f'GCE2(2)',fontsize=14)\n",
    "for i,x in enumerate(gce2_2['Emt']):\n",
    "    ax[1].plot(gce2_2['t'],x,label=i)\n",
    "\n",
    "ax[1].legend(bbox_to_anchor=(1.01,0.5),ncol=1)\n",
    "\n",
    "for a in ax:\n",
    "    a.set_yscale('log')\n",
    "    a.set_ylim(1e-10,1e4)\n",
    "\n",
    "plt.show()"
   ]
  },
  {
   "cell_type": "code",
   "execution_count": null,
   "metadata": {},
   "outputs": [],
   "source": [
    "fig,ax = plt.subplots(1,2,figsize=(15,6))\n",
    "\n",
    "ax[0].set_title(f'GQL(2)',fontsize=14)\n",
    "im = ax[0].imshow(gql_2['Emn'][:,:,-1],cmap=\"gist_ncar_r\",origin=\"lower\",interpolation=\"none\")\n",
    "fig.colorbar(im,ax=ax[0])\n",
    "\n",
    "ax[1].set_title(f'GCE2(2)',fontsize=14)\n",
    "im = ax[1].imshow((gce2_2['Emn'][:,:,-1]),cmap=\"gist_ncar_r\",origin=\"lower\",interpolation=\"none\")\n",
    "fig.colorbar(im,ax=ax[1])\n",
    "\n",
    "for a in ax:\n",
    "    a.set_xticks([0,M-1,2*M-2])\n",
    "    a.set_xticklabels([r'$-N_x$',r'$0$',r'$N_x$'],fontsize=14)\n",
    "    a.set_yticks([0,N-1,2*N-2])\n",
    "    a.set_yticklabels([r'$-N_y$',r'$0$',r'$N_y$'],fontsize=14)\n",
    "\n",
    "plt.show()"
   ]
  },
  {
   "cell_type": "code",
   "execution_count": null,
   "metadata": {},
   "outputs": [],
   "source": [
    "fig,ax = plt.subplots(2,1,figsize=(6,6))\n",
    "\n",
    "ax[0].set_title(f'GQL(2)',fontsize=14)\n",
    "im = ax[0].imshow((gql_2['Vyt']),cmap=\"RdBu_r\",origin=\"lower\",interpolation=\"bicubic\")\n",
    "fig.colorbar(im,ax=ax[0],orientation='horizontal')\n",
    "\n",
    "ax[1].set_title(f'GCE2(2)',fontsize=14)\n",
    "im = ax[1].imshow((gce2_2['Vyt']),cmap=\"RdBu_r\",origin=\"lower\",interpolation=\"bicubic\")\n",
    "fig.colorbar(im,ax=ax[1],orientation='horizontal')\n",
    "\n",
    "plt.show()"
   ]
  },
  {
   "cell_type": "code",
   "execution_count": null,
   "metadata": {},
   "outputs": [],
   "source": [
    "dn = \"data/tests_stochastic/nu01e01m45n4/reanalyse/\"\n",
    "\n",
    "ql = np.load(dn+\"ql_sf.npz\",allow_pickle=True) \n",
    "ce2 = np.load(dn+\"ce2_sf.npz\",allow_pickle=True)"
   ]
  },
  {
   "cell_type": "code",
   "execution_count": null,
   "metadata": {
    "scrolled": true
   },
   "outputs": [],
   "source": [
    "fig,ax = plt.subplots(1,2,figsize=(12,5))\n",
    "    \n",
    "ax[0].set_title(f'QL',fontsize=14)\n",
    "for i,x in enumerate(ql['Emt']):\n",
    "    ax[0].plot(ql['t'],x,label=i)\n",
    "\n",
    "ax[1].set_title(f'CE2',fontsize=14)\n",
    "for i,x in enumerate(ce2['Emtav']):\n",
    "    ax[1].plot(ce2['t'],x,label=i)\n",
    "\n",
    "ax[1].legend(ncol=1)\n",
    "\n",
    "for a in ax:\n",
    "    a.set_yscale('log')\n",
    "    a.set_ylim(1e-12,1e2)\n",
    "\n",
    "plt.show()"
   ]
  },
  {
   "cell_type": "code",
   "execution_count": null,
   "metadata": {},
   "outputs": [],
   "source": [
    "fig,ax = plt.subplots(1,2,figsize=(14,6))\n",
    "\n",
    "ax[0].set_title(f'QL',fontsize=14)\n",
    "im = ax[0].imshow((ql['Vyt']),cmap=\"RdBu_r\",origin=\"lower\",interpolation=\"bicubic\")\n",
    "fig.colorbar(im,ax=ax[0],orientation='horizontal')\n",
    "\n",
    "ax[1].set_title(f'CE2',fontsize=14)\n",
    "im = ax[1].imshow((ce2['Vyt']),cmap=\"RdBu_r\",origin=\"lower\",interpolation=\"bicubic\")\n",
    "fig.colorbar(im,ax=ax[1],orientation='horizontal')\n",
    "\n",
    "plt.show()"
   ]
  },
  {
   "cell_type": "code",
   "execution_count": null,
   "metadata": {},
   "outputs": [],
   "source": [
    "fig,ax = plt.subplots(1,2,figsize=(15,6))\n",
    "\n",
    "ax[0].set_title(f'QL',fontsize=14)\n",
    "im = ax[0].imshow(ql['Emn'][:,:,-1],cmap=\"gist_ncar_r\",origin=\"lower\",interpolation=\"none\")\n",
    "fig.colorbar(im,ax=ax[0])\n",
    "\n",
    "ax[1].set_title(f'CE2',fontsize=14)\n",
    "im = ax[1].imshow((ce2['Emn'][:,:,-1]),cmap=\"gist_ncar_r\",origin=\"lower\",interpolation=\"none\")\n",
    "fig.colorbar(im,ax=ax[1])\n",
    "\n",
    "for a in ax:\n",
    "    a.set_xticks([0,M-1,2*M-2])\n",
    "    a.set_xticklabels([r'$-N_x$',r'$0$',r'$N_x$'],fontsize=14)\n",
    "    a.set_yticks([0,N-1,2*N-2])\n",
    "    a.set_yticklabels([r'$-N_y$',r'$0$',r'$N_y$'],fontsize=14)\n",
    "\n",
    "plt.show()"
   ]
  },
  {
   "cell_type": "code",
   "execution_count": null,
   "metadata": {},
   "outputs": [],
   "source": [
    "gql_1 = np.load(dn+\"gql_1_sf.npz\",allow_pickle=True) \n",
    "gce2_1 = np.load(dn+\"gce2_1_sf.npz\",allow_pickle=True)"
   ]
  },
  {
   "cell_type": "code",
   "execution_count": null,
   "metadata": {
    "scrolled": false
   },
   "outputs": [],
   "source": [
    "fig,ax = plt.subplots(1,2,figsize=(12,5))\n",
    "    \n",
    "ax[0].set_title(f'GQL(1)',fontsize=14)\n",
    "\n",
    "for i,x in enumerate(gql_1['Emt']):\n",
    "    ax[0].plot(gql_1['t'],x,label=i)\n",
    "\n",
    "ax[1].set_title(f'GCE2(1)',fontsize=14)\n",
    "for i,x in enumerate(gce2_1['Emt']):\n",
    "    ax[1].plot(gce2_1['t'],x,label=i)\n",
    "\n",
    "ax[1].legend(ncol=1)\n",
    "\n",
    "for a in ax:\n",
    "    a.set_yscale('log')\n",
    "#     a.set_ylim(1e-8,1e4)\n",
    "\n",
    "plt.show()"
   ]
  },
  {
   "cell_type": "code",
   "execution_count": null,
   "metadata": {
    "scrolled": true
   },
   "outputs": [],
   "source": [
    "fig,ax = plt.subplots(2,1,figsize=(6,6))\n",
    "\n",
    "ax[0].set_title(f'GQL(1)',fontsize=14)\n",
    "im = ax[0].imshow((gql_1['Vyt']),cmap=\"RdBu_r\",origin=\"lower\",interpolation=\"bicubic\")\n",
    "fig.colorbar(im,ax=ax[0],orientation='horizontal')\n",
    "\n",
    "ax[1].set_title(f'GCE2(1)',fontsize=14)\n",
    "im = ax[1].imshow((gce2_1['Vyt']),cmap=\"RdBu_r\",origin=\"lower\",interpolation=\"bicubic\")\n",
    "fig.colorbar(im,ax=ax[1],orientation='horizontal')\n",
    "\n",
    "plt.show()"
   ]
  },
  {
   "cell_type": "code",
   "execution_count": null,
   "metadata": {},
   "outputs": [],
   "source": [
    "fig,ax = plt.subplots(1,2,figsize=(12,4))\n",
    "\n",
    "prop_cycle = plt.rcParams['axes.prop_cycle']\n",
    "colors = prop_cycle.by_key()['color']\n",
    "\n",
    "R_gql_1 = moderanks(gql_1['mEVs'])\n",
    "R_gce2_1 = moderanks(gce2_1['mEVs'])\n",
    "# R_ce2_qlic = moderanks(ce2_qlic['mEVs'])\n",
    "\n",
    "ax[0].set_title(r'$rank(m)$: GQL(1)')\n",
    "for i in np.arange(M-1):\n",
    "    ax[0].plot(gql_1['t'],R_gql_1[:,i],label=i+1,c=colors[i+1])\n",
    "\n",
    "ax[1].set_title(r'$rank(m)$: GCE2(1)')\n",
    "for i in np.arange(1,M-1):\n",
    "    ax[1].plot(gce2_1['t'],R_gce2_1[:,i],label=i+1,c=colors[i+1])\n",
    "\n",
    "for a in ax:\n",
    "    a.set_xlabel(r'$t$',fontsize=14)\n",
    "    a.set_ylim(-1,16)\n",
    "\n",
    "ax[0].legend(title=r'$m$',loc=5)\n",
    "ax[1].legend(title=r'$m$',loc=5)\n",
    "\n",
    "plt.show()\n",
    "# plt.savefig(dn+'rnk_LINEAR_gql_gce2_1.png',bbox_inches='tight',dpi=256,facecolor='w', transparent=False)"
   ]
  },
  {
   "cell_type": "code",
   "execution_count": null,
   "metadata": {},
   "outputs": [],
   "source": [
    "gql_2 = np.load(dn+\"gql_2_sf.npz\",allow_pickle=True) \n",
    "gce2_2 = np.load(dn+\"gce2_2_sf.npz\",allow_pickle=True)"
   ]
  },
  {
   "cell_type": "code",
   "execution_count": null,
   "metadata": {},
   "outputs": [],
   "source": [
    "fig,ax = plt.subplots(1,2,figsize=(12,5))\n",
    "    \n",
    "ax[0].set_title(f'GQL(2)',fontsize=14)\n",
    "\n",
    "for i,x in enumerate(gql_2['Emt']):\n",
    "    ax[0].plot(gql_2['t'],x,label=i)\n",
    "\n",
    "ax[1].set_title(f'GCE2(2)',fontsize=14)\n",
    "for i,x in enumerate(gce2_2['Emt']):\n",
    "    ax[1].plot(gce2_2['t'],x,label=i)\n",
    "\n",
    "ax[1].legend(bbox_to_anchor=(1.01,0.5),ncol=1)\n",
    "\n",
    "for a in ax:\n",
    "    a.set_yscale('log')\n",
    "    a.set_ylim(1e-10,1e4)\n",
    "\n",
    "plt.show()"
   ]
  },
  {
   "cell_type": "code",
   "execution_count": null,
   "metadata": {},
   "outputs": [],
   "source": [
    "fig,ax = plt.subplots(2,1,figsize=(6,6))\n",
    "\n",
    "ax[0].set_title(f'GQL(2)',fontsize=14)\n",
    "im = ax[0].imshow((gql_2['Vyt']),cmap=\"RdBu_r\",origin=\"lower\",interpolation=\"bicubic\")\n",
    "fig.colorbar(im,ax=ax[0],orientation='horizontal')\n",
    "\n",
    "ax[1].set_title(f'GCE2(2)',fontsize=14)\n",
    "im = ax[1].imshow((gce2_2['Vyt']),cmap=\"RdBu_r\",origin=\"lower\",interpolation=\"bicubic\")\n",
    "fig.colorbar(im,ax=ax[1],orientation='horizontal')\n",
    "\n",
    "plt.show()"
   ]
  },
  {
   "cell_type": "code",
   "execution_count": null,
   "metadata": {},
   "outputs": [],
   "source": [
    "fig,ax = plt.subplots(1,2,figsize=(15,6))\n",
    "\n",
    "ax[0].set_title(f'GQL(2)',fontsize=14)\n",
    "im = ax[0].imshow(gql_2['Emn'][:,:,-1],cmap=\"gist_ncar_r\",origin=\"lower\",interpolation=\"none\",vmin=0,vmax=0.12)\n",
    "fig.colorbar(im,ax=ax[0])\n",
    "\n",
    "ax[1].set_title(f'GCE2(2)',fontsize=14)\n",
    "im = ax[1].imshow((gce2_2['Emn'][:,:,-1]),cmap=\"gist_ncar_r\",origin=\"lower\",interpolation=\"none\",vmin=0,vmax=0.12)\n",
    "fig.colorbar(im,ax=ax[1])\n",
    "\n",
    "for a in ax:\n",
    "    a.set_xticks([0,M-1,2*M-2])\n",
    "    a.set_xticklabels([r'$-N_x$',r'$0$',r'$N_x$'],fontsize=14)\n",
    "    a.set_yticks([0,N-1,2*N-2])\n",
    "    a.set_yticklabels([r'$-N_y$',r'$0$',r'$N_y$'],fontsize=14)\n",
    "\n",
    "plt.show()"
   ]
  },
  {
   "cell_type": "code",
   "execution_count": null,
   "metadata": {},
   "outputs": [],
   "source": [
    "fig,ax = plt.subplots(1,2,figsize=(12,4))\n",
    "\n",
    "R_gql_2 = moderanks(gql_2['mEVs'])\n",
    "R_gce2_2 = moderanks(gce2_2['mEVs'])\n",
    "# R_ce2_qlic = moderanks(ce2_qlic['mEVs'])\n",
    "\n",
    "ax[0].set_title(r'$rank(m)$: GQL(2)')\n",
    "for i in np.arange(M-1):\n",
    "    ax[0].plot(gql_2['t'],R_gql_2[:,i],label=i+1)\n",
    "\n",
    "ax[1].set_title(r'$rank(m)$: GCE2(2)')\n",
    "for i in np.arange(M-1):\n",
    "    ax[1].plot(gce2_2['t'],R_gce2_2[:,i],label=i+1)\n",
    "\n",
    "for a in ax:\n",
    "    a.set_xlabel(r'$t$',fontsize=14)\n",
    "    a.set_ylim(-1,16)\n",
    "\n",
    "ax[0].legend(title=r'$m$',loc=5)\n",
    "ax[1].legend(title=r'$m$',loc=5)\n",
    "\n",
    "plt.show()\n",
    "# plt.savefig(dn+'rnk_gql_gce2_1.png',bbox_inches='tight',dpi=256,facecolor='w', transparent=False)"
   ]
  },
  {
   "cell_type": "markdown",
   "metadata": {},
   "source": [
    "## Nonlinear - GCE2 - Kolmogorov"
   ]
  },
  {
   "cell_type": "code",
   "execution_count": null,
   "metadata": {},
   "outputs": [],
   "source": [
    "dn = \"data/tests_kolmogorov/8x8nu02/\"\n",
    "\n",
    "ql = np.load(dn+\"ql_kf.npz\",allow_pickle=True) \n",
    "ce2 = np.load(dn+\"ce2_kf.npz\",allow_pickle=True)"
   ]
  },
  {
   "cell_type": "code",
   "execution_count": null,
   "metadata": {},
   "outputs": [],
   "source": [
    "fig,ax = plt.subplots(1,2,sharey='row',figsize=(12,5))\n",
    "    \n",
    "ax[0].set_title(f'QL',fontsize=14)\n",
    "\n",
    "for i,x in enumerate(ql['Emtav']):\n",
    "    ax[0].plot(ql['t'],x,label=i)\n",
    "\n",
    "ax[1].set_title(f'CE2',fontsize=14)\n",
    "for i,x in enumerate(ce2['Emtav']):\n",
    "    ax[1].plot(ce2['t'],x,label=i)\n",
    "\n",
    "ax[1].legend(bbox_to_anchor=(1.01,0.5),ncol=1)\n",
    "\n",
    "for a in ax:\n",
    "    a.set_yscale('log')\n",
    "    a.set_ylim(1e-12,1e4)\n",
    "\n",
    "plt.show()"
   ]
  },
  {
   "cell_type": "code",
   "execution_count": null,
   "metadata": {},
   "outputs": [],
   "source": [
    "gql_1 = np.load(dn+\"gql_1_kf.npz\",allow_pickle=True) \n",
    "gce2_1 = np.load(dn+\"gce2_1_kf.npz\",allow_pickle=True)"
   ]
  },
  {
   "cell_type": "code",
   "execution_count": null,
   "metadata": {
    "scrolled": true
   },
   "outputs": [],
   "source": [
    "fig,ax = plt.subplots(1,2,figsize=(12,5))\n",
    "    \n",
    "ax[0].set_title(f'GQL(1)',fontsize=14)\n",
    "\n",
    "for i,x in enumerate(gql_1['Emt']):\n",
    "    ax[0].plot(gql_1['t'],x,label=i)\n",
    "\n",
    "ax[1].set_title(f'GCE2(1)',fontsize=14)\n",
    "for i,x in enumerate(gce2_1['Emt']):\n",
    "    ax[1].plot(gce2_1['t'],x,label=i)\n",
    "\n",
    "ax[1].legend(bbox_to_anchor=(1.01,0.5),ncol=1)\n",
    "\n",
    "for a in ax:\n",
    "    a.set_yscale('log')\n",
    "    a.set_ylim(1e-8,1e4)\n",
    "\n",
    "plt.show()"
   ]
  },
  {
   "cell_type": "code",
   "execution_count": null,
   "metadata": {},
   "outputs": [],
   "source": [
    "gql_2 = np.load(dn+\"gql_2_kf.npz\",allow_pickle=True) \n",
    "gce2_2 = np.load(dn+\"gce2_2_kf.npz\",allow_pickle=True)"
   ]
  },
  {
   "cell_type": "code",
   "execution_count": null,
   "metadata": {},
   "outputs": [],
   "source": [
    "fig,ax = plt.subplots(1,2,figsize=(12,5))\n",
    "    \n",
    "ax[0].set_title(f'GQL(2)',fontsize=14)\n",
    "\n",
    "for i,x in enumerate(gql_2['Emt']):\n",
    "    ax[0].plot(gql_2['t'],x,label=i)\n",
    "\n",
    "ax[1].set_title(f'GCE2(2)',fontsize=14)\n",
    "for i,x in enumerate(gce2_2['Emt']):\n",
    "    ax[1].plot(gce2_2['t'],x,label=i)\n",
    "\n",
    "ax[1].legend(bbox_to_anchor=(1.01,0.5),ncol=1)\n",
    "\n",
    "for a in ax:\n",
    "    a.set_yscale('log')\n",
    "    a.set_ylim(1e-10,1e4)\n",
    "\n",
    "plt.show()"
   ]
  },
  {
   "cell_type": "code",
   "execution_count": null,
   "metadata": {},
   "outputs": [],
   "source": [
    "dn = \"data/tests_kolmogorov/12x12nu02/\"\n",
    "\n",
    "ql = np.load(dn+\"ql_kf.npz\",allow_pickle=True) \n",
    "ce2 = np.load(dn+\"ce2_kf.npz\",allow_pickle=True)"
   ]
  },
  {
   "cell_type": "code",
   "execution_count": null,
   "metadata": {},
   "outputs": [],
   "source": [
    "fig,ax = plt.subplots(1,2,sharey='row',figsize=(12,5))\n",
    "    \n",
    "ax[0].set_title(f'QL',fontsize=14)\n",
    "\n",
    "for i,x in enumerate(ql['Emt']):\n",
    "    ax[0].plot(ql['t'],x,label=i)\n",
    "\n",
    "ax[1].set_title(f'CE2',fontsize=14)\n",
    "for i,x in enumerate(ce2['Emtav']):\n",
    "    ax[1].plot(ce2['t'],x,label=i)\n",
    "\n",
    "ax[1].legend(ncol=2,loc=4)\n",
    "\n",
    "for a in ax:\n",
    "    a.set_yscale('log')\n",
    "    a.set_ylim(1e-36,1e5)\n",
    "\n",
    "plt.show()"
   ]
  },
  {
   "cell_type": "code",
   "execution_count": null,
   "metadata": {},
   "outputs": [],
   "source": [
    "gql_1 = np.load(dn+\"gql_1_kf.npz\",allow_pickle=True) \n",
    "gce2_1 = np.load(dn+\"gce2_1_kf.npz\",allow_pickle=True)"
   ]
  },
  {
   "cell_type": "code",
   "execution_count": null,
   "metadata": {
    "scrolled": true
   },
   "outputs": [],
   "source": [
    "fig,ax = plt.subplots(1,2,figsize=(12,5))\n",
    "    \n",
    "ax[0].set_title(f'GQL(1)',fontsize=14)\n",
    "\n",
    "for i,x in enumerate(gql_1['Emt']):\n",
    "    ax[0].plot(gql_1['t'],x,label=i)\n",
    "\n",
    "ax[1].set_title(f'GCE2(1)',fontsize=14)\n",
    "for i,x in enumerate(gce2_1['Emt']):\n",
    "    ax[1].plot(gce2_1['t'],x,label=i)\n",
    "\n",
    "ax[1].legend(bbox_to_anchor=(1.01,0.5),ncol=1)\n",
    "\n",
    "for a in ax:\n",
    "    a.set_yscale('log')\n",
    "    a.set_ylim(1e-8,1e4)\n",
    "\n",
    "plt.show()"
   ]
  },
  {
   "cell_type": "code",
   "execution_count": null,
   "metadata": {},
   "outputs": [],
   "source": [
    "dn = \"data/tests_kolmogorov/8x8nu01/\"\n",
    "\n",
    "ql = np.load(dn+\"ql_kf.npz\",allow_pickle=True) \n",
    "ce2 = np.load(dn+\"ce2_kf.npz\",allow_pickle=True)"
   ]
  },
  {
   "cell_type": "code",
   "execution_count": null,
   "metadata": {},
   "outputs": [],
   "source": [
    "fig,ax = plt.subplots(1,2,sharey='row',figsize=(12,5))\n",
    "    \n",
    "ax[0].set_title(f'QL',fontsize=14)\n",
    "\n",
    "for i,x in enumerate(ql['Emtav']):\n",
    "    ax[0].plot(ql['t'],x,label=i)\n",
    "\n",
    "ax[1].set_title(f'CE2',fontsize=14)\n",
    "for i,x in enumerate(ce2['Emtav']):\n",
    "    ax[1].plot(ce2['t'],x,label=i)\n",
    "\n",
    "ax[1].legend(bbox_to_anchor=(1.01,0.5),ncol=1)\n",
    "\n",
    "for a in ax:\n",
    "    a.set_yscale('log')\n",
    "    a.set_ylim(1e-16,1e5)\n",
    "\n",
    "plt.show()"
   ]
  },
  {
   "cell_type": "code",
   "execution_count": null,
   "metadata": {},
   "outputs": [],
   "source": [
    "gql_1 = np.load(dn+\"gql_1_kf.npz\",allow_pickle=True) \n",
    "gce2_1 = np.load(dn+\"gce2_1_kf.npz\",allow_pickle=True)"
   ]
  },
  {
   "cell_type": "code",
   "execution_count": null,
   "metadata": {
    "scrolled": true
   },
   "outputs": [],
   "source": [
    "fig,ax = plt.subplots(1,2,figsize=(12,5))\n",
    "    \n",
    "ax[0].set_title(f'GQL(1)',fontsize=14)\n",
    "\n",
    "for i,x in enumerate(gql_1['Emt']):\n",
    "    ax[0].plot(gql_1['t'],x,label=i)\n",
    "\n",
    "ax[1].set_title(f'GCE2(1)',fontsize=14)\n",
    "for i,x in enumerate(gce2_1['Emt']):\n",
    "    ax[1].plot(gce2_1['t'],x,label=i)\n",
    "\n",
    "ax[1].legend(bbox_to_anchor=(1.01,0.5),ncol=1)\n",
    "\n",
    "for a in ax:\n",
    "    a.set_yscale('log')\n",
    "    a.set_ylim(1e-8,1e5)\n",
    "\n",
    "plt.show()"
   ]
  },
  {
   "cell_type": "code",
   "execution_count": null,
   "metadata": {},
   "outputs": [],
   "source": [
    "gql_2 = np.load(dn+\"gql_2_kf.npz\",allow_pickle=True) \n",
    "gce2_2 = np.load(dn+\"gce2_2_kf.npz\",allow_pickle=True)"
   ]
  },
  {
   "cell_type": "code",
   "execution_count": null,
   "metadata": {},
   "outputs": [],
   "source": [
    "fig,ax = plt.subplots(1,2,figsize=(12,5))\n",
    "    \n",
    "ax[0].set_title(f'GQL(2)',fontsize=14)\n",
    "\n",
    "for i,x in enumerate(gql_2['Emt']):\n",
    "    ax[0].plot(gql_2['t'],x,label=i)\n",
    "\n",
    "ax[1].set_title(f'GCE2(2)',fontsize=14)\n",
    "for i,x in enumerate(gce2_2['Emt']):\n",
    "    ax[1].plot(gce2_2['t'],x,label=i)\n",
    "\n",
    "ax[1].legend(bbox_to_anchor=(1.01,0.5),ncol=1)\n",
    "\n",
    "for a in ax:\n",
    "    a.set_yscale('log')\n",
    "    a.set_ylim(1e-10,1e5)\n",
    "\n",
    "plt.show()"
   ]
  },
  {
   "cell_type": "code",
   "execution_count": null,
   "metadata": {},
   "outputs": [],
   "source": [
    "dn = \"data/tests_kolmogorov/10x10nu02/2pipiA1A4/\"\n",
    "\n",
    "M,N = 10,10"
   ]
  },
  {
   "cell_type": "code",
   "execution_count": null,
   "metadata": {},
   "outputs": [],
   "source": [
    "nl = np.load(dn+\"nl_kf.npz\",allow_pickle=True) \n",
    "fig,ax = plt.subplots(figsize=(4,4))\n",
    "\n",
    "ax.set_title(r'$\\zeta(y,t)$',fontsize=16)\n",
    "im = ax.imshow((nl['Vxy'][:,:,-1]),cmap=\"seismic\",origin=\"lower\",interpolation=\"bicubic\",aspect=0.8)\n",
    "fig.colorbar(im,ax=ax,orientation='horizontal')\n",
    "\n",
    "ax.set_xticks([0,M-1,2*M-2])\n",
    "ax.set_xticklabels([r'$-\\pi$',r'$0$',r'$\\pi$'],fontsize=14)\n",
    "ax.set_yticks([0,N-1,2*N-2])\n",
    "ax.set_yticklabels([r'$-\\pi/2$',r'$0$',r'$\\pi/2$'],fontsize=14)\n",
    "\n",
    "plt.show()\n",
    "\n",
    "# plt.savefig(dn+'vorticity_nl.png',bbox_inches='tight',dpi=256,facecolor='w', transparent=False)"
   ]
  },
  {
   "cell_type": "code",
   "execution_count": null,
   "metadata": {},
   "outputs": [],
   "source": [
    "fig,ax = plt.subplots(1,2,figsize=(14,6))\n",
    "\n",
    "ax[0].set_title(r'$\\zeta(y,t)$',fontsize=16)\n",
    "im = ax[0].imshow((nl['Vxy'][:,:,-1]),cmap=\"seismic\",origin=\"lower\",interpolation=\"bicubic\",aspect=0.8)\n",
    "fig.colorbar(im,ax=ax[0],orientation='horizontal')\n",
    "\n",
    "ax[1].set_title(f'E(m)',fontsize=14)\n",
    "ax[1].plot(nl['t'],nl['Emt'][0,:],'k',label='0')\n",
    "for i,x in enumerate(nl['Emtav'][1:,:]):\n",
    "    ax[1].plot(nl['t'],x,label=i+1)\n",
    "\n",
    "ax[0].set_xticks([0,M-1,2*M-2])\n",
    "ax[0].set_xticklabels([r'$-\\pi$',r'$0$',r'$\\pi$'],fontsize=14)\n",
    "ax[0].set_yticks([0,N-1,2*N-2])\n",
    "ax[0].set_yticklabels([r'$-\\pi/2$',r'$0$',r'$\\pi/2$'],fontsize=14)\n",
    "\n",
    "ax[1].set_yscale('log')\n",
    "ax[1].set_ylim(1e-6,1e2)\n",
    "\n",
    "# plt.show()\n",
    "plt.savefig(dn+'hoevmoeller_gql_gce2_1.png',bbox_inches='tight',dpi=256,facecolor='w', transparent=False)"
   ]
  },
  {
   "cell_type": "code",
   "execution_count": null,
   "metadata": {},
   "outputs": [],
   "source": [
    "ql = np.load(dn+\"ql_kf.npz\",allow_pickle=True) \n",
    "ce2 = np.load(dn+\"ce2_kf.npz\",allow_pickle=True)"
   ]
  },
  {
   "cell_type": "code",
   "execution_count": null,
   "metadata": {
    "scrolled": true
   },
   "outputs": [],
   "source": [
    "fig,ax = plt.subplots(1,2,sharey='row',figsize=(12,5))\n",
    "    \n",
    "ax[0].set_title(f'QL',fontsize=14)\n",
    "\n",
    "for i,x in enumerate(ql['Emt']):\n",
    "    ax[0].plot(ql['t'],x,label=i)\n",
    "\n",
    "ax[1].set_title(f'CE2',fontsize=14)\n",
    "for i,x in enumerate(ce2['Emtav']):\n",
    "    ax[1].plot(ce2['t'],x,label=i)\n",
    "\n",
    "ax[0].legend(ncol=2,loc=4)\n",
    "\n",
    "for a in ax:\n",
    "    a.set_yscale('log')\n",
    "    a.set_ylim(1e-12,1e5)\n",
    "\n",
    "plt.show()"
   ]
  },
  {
   "cell_type": "code",
   "execution_count": null,
   "metadata": {},
   "outputs": [],
   "source": [
    "fig,ax = plt.subplots(1,2,figsize=(8,4))\n",
    "\n",
    "ax[0].set_title(f'QL',fontsize=14)\n",
    "im = ax[0].imshow(ql['Vxy'][:,:,-1],cmap=\"seismic\",origin=\"lower\",interpolation=\"bicubic\",aspect=0.5)\n",
    "\n",
    "fig.colorbar(im,ax=ax[0],orientation='horizontal')\n",
    "\n",
    "ax[1].set_title(f'CE2',fontsize=14)\n",
    "im = ax[1].imshow(ce2['Vxy'][:,:,-1],cmap=\"seismic\",origin=\"lower\",interpolation=\"bicubic\",aspect=0.5)\n",
    "fig.colorbar(im,ax=ax[1],orientation='horizontal')\n",
    "\n",
    "plt.show()\n",
    "\n",
    "# plt.savefig(dn+'vorticity_qlce2.png',bbox_inches='tight',dpi=256,facecolor='w', transparent=False)"
   ]
  },
  {
   "cell_type": "code",
   "execution_count": null,
   "metadata": {},
   "outputs": [],
   "source": [
    "gql_1 = np.load(dn+\"gql_1_kf.npz\",allow_pickle=True) \n",
    "gce2_1 = np.load(dn+\"gce2_1_kf.npz\",allow_pickle=True)"
   ]
  },
  {
   "cell_type": "code",
   "execution_count": null,
   "metadata": {
    "scrolled": false
   },
   "outputs": [],
   "source": [
    "fig,ax = plt.subplots(1,2,figsize=(12,5))\n",
    "    \n",
    "ax[0].set_title(f'GQL(1)',fontsize=14)\n",
    "\n",
    "for i,x in enumerate(gql_1['Emt']):\n",
    "    ax[0].plot(gql_1['t'],x,label=i)\n",
    "\n",
    "ax[1].set_title(f'GCE2(1)',fontsize=14)\n",
    "for i,x in enumerate(gce2_1['Emt']):\n",
    "    ax[1].plot(gce2_1['t'],x,label=i)\n",
    "\n",
    "ax[1].legend(bbox_to_anchor=(1.01,0.5),ncol=1)\n",
    "\n",
    "for a in ax:\n",
    "    a.set_yscale('log')\n",
    "    a.set_ylim(1e-8,1e4)\n",
    "\n",
    "plt.show()"
   ]
  },
  {
   "cell_type": "code",
   "execution_count": null,
   "metadata": {},
   "outputs": [],
   "source": [
    "fig,ax = plt.subplots(1,2,figsize=(8,4))\n",
    "\n",
    "ax[0].set_title(f'GQL(1)',fontsize=14)\n",
    "im = ax[0].imshow((gql_1['Vxy'][:,:,-10]),cmap=\"seismic\",origin=\"lower\",interpolation=\"bicubic\",aspect=0.5)\n",
    "\n",
    "fig.colorbar(im,ax=ax[0],orientation='horizontal')\n",
    "\n",
    "ax[1].set_title(f'GCE2(1)',fontsize=14)\n",
    "im = ax[1].imshow((gce2_1['Vxy'][:,:,-10]),cmap=\"seismic\",origin=\"lower\",interpolation=\"bicubic\",aspect=0.5)\n",
    "fig.colorbar(im,ax=ax[1],orientation='horizontal')\n",
    "\n",
    "for a in ax:\n",
    "    a.set_xticks([0,M-1,2*M-2])\n",
    "    a.set_xticklabels([r'$-\\pi$',r'$0$',r'$\\pi$'],fontsize=14)\n",
    "    a.set_yticks([0,N-1,2*N-2])\n",
    "    a.set_yticklabels([r'$-\\pi/2$',r'$0$',r'$\\pi2$'],fontsize=14)\n",
    "\n",
    "# # plt.show()\n",
    "# plt.savefig(dn+'vxy_gqlgce2_1.png',bbox_inches='tight',dpi=256,facecolor='w', transparent=False)\n",
    "\n",
    "plt.savefig(dn+'vorticity_gqlgce2_1.png',bbox_inches='tight',dpi=256,facecolor='w', transparent=False)"
   ]
  },
  {
   "cell_type": "code",
   "execution_count": null,
   "metadata": {},
   "outputs": [],
   "source": [
    "nl = np.load(dn+\"gql_6_kf.npz\",allow_pickle=True) \n",
    "fig,ax = plt.subplots(figsize=(4,4))\n",
    "\n",
    "ax.set_title(r'$\\zeta(y,t)$',fontsize=16)\n",
    "im = ax.imshow((nl['Vxy'][:,:,-1]),cmap=\"seismic\",origin=\"lower\",interpolation=\"bicubic\",aspect=0.8)\n",
    "fig.colorbar(im,ax=ax,orientation='horizontal')\n",
    "\n",
    "ax.set_xticks([0,M-1,2*M-2])\n",
    "ax.set_xticklabels([r'$-\\pi$',r'$0$',r'$\\pi$'],fontsize=14)\n",
    "ax.set_yticks([0,N-1,2*N-2])\n",
    "ax.set_yticklabels([r'$-\\pi/2$',r'$0$',r'$\\pi/2$'],fontsize=14)\n",
    "\n",
    "plt.show()\n",
    "\n",
    "# plt.savefig(dn+'vorticity_nl.png',bbox_inches='tight',dpi=256,facecolor='w', transparent=False)"
   ]
  },
  {
   "cell_type": "markdown",
   "metadata": {},
   "source": [
    "## 10x10 : 2pi x 2pi"
   ]
  },
  {
   "cell_type": "code",
   "execution_count": null,
   "metadata": {},
   "outputs": [],
   "source": [
    "dn = \"data/tests_kolmogorov/10x10nu02/2pi2piA1A4/\"\n",
    "\n",
    "ql = np.load(dn+\"ql_kf.npz\",allow_pickle=True) \n",
    "ce2 = np.load(dn+\"ce2_kf.npz\",allow_pickle=True)"
   ]
  },
  {
   "cell_type": "code",
   "execution_count": null,
   "metadata": {},
   "outputs": [],
   "source": []
  },
  {
   "cell_type": "code",
   "execution_count": null,
   "metadata": {},
   "outputs": [],
   "source": [
    "fig,ax = plt.subplots(1,2,sharey='row',figsize=(12,5))\n",
    "    \n",
    "ax[0].set_title(f'QL',fontsize=14)\n",
    "\n",
    "for i,x in enumerate(ql['Emt']):\n",
    "    ax[0].plot(ql['t'],x,label=i)\n",
    "\n",
    "ax[1].set_title(f'CE2',fontsize=14)\n",
    "for i,x in enumerate(ce2['Emtav']):\n",
    "    ax[1].plot(ce2['t'],x,label=i)\n",
    "\n",
    "ax[1].legend(ncol=2,loc=4)\n",
    "\n",
    "for a in ax:\n",
    "    a.set_yscale('log')\n",
    "    a.set_ylim(1e-36,1e5)\n",
    "\n",
    "plt.show()"
   ]
  },
  {
   "cell_type": "code",
   "execution_count": null,
   "metadata": {},
   "outputs": [],
   "source": [
    "gql_1 = np.load(dn+\"gql_1_kf.npz\",allow_pickle=True) \n",
    "gce2_1 = np.load(dn+\"gce2_1_kf.npz\",allow_pickle=True)"
   ]
  },
  {
   "cell_type": "code",
   "execution_count": null,
   "metadata": {
    "scrolled": false
   },
   "outputs": [],
   "source": [
    "fig,ax = plt.subplots(1,2,figsize=(12,5))\n",
    "    \n",
    "ax[0].set_title(f'GQL(1)',fontsize=14)\n",
    "\n",
    "for i,x in enumerate(gql_1['Emt']):\n",
    "    ax[0].plot(gql_1['t'],x,label=i)\n",
    "\n",
    "ax[1].set_title(f'GCE2(1)',fontsize=14)\n",
    "for i,x in enumerate(gce2_1['Emt']):\n",
    "    ax[1].plot(gce2_1['t'],x,label=i)\n",
    "\n",
    "ax[1].legend(bbox_to_anchor=(1.01,0.5),ncol=1)\n",
    "\n",
    "for a in ax:\n",
    "    a.set_yscale('log')\n",
    "    a.set_ylim(1e-8,1e4)\n",
    "\n",
    "plt.show()"
   ]
  },
  {
   "cell_type": "code",
   "execution_count": null,
   "metadata": {
    "scrolled": true
   },
   "outputs": [],
   "source": [
    "fig,ax = plt.subplots(2,1,figsize=(6,6))\n",
    "\n",
    "ax[0].set_title(f'GQL(1)',fontsize=14)\n",
    "im = ax[0].imshow((gql_1['Vyt']),cmap=\"RdBu_r\",origin=\"lower\",interpolation=\"bicubic\")\n",
    "fig.colorbar(im,ax=ax[0],orientation='horizontal')\n",
    "\n",
    "ax[1].set_title(f'GCE2(1)',fontsize=14)\n",
    "im = ax[1].imshow((gce2_1['Vyt']),cmap=\"RdBu_r\",origin=\"lower\",interpolation=\"bicubic\")\n",
    "fig.colorbar(im,ax=ax[1],orientation='horizontal')\n",
    "\n",
    "plt.show()"
   ]
  },
  {
   "cell_type": "code",
   "execution_count": null,
   "metadata": {},
   "outputs": [],
   "source": [
    "M,N = 10,10\n",
    "\n",
    "fig,ax = plt.subplots(1,2,figsize=(12,4))\n",
    "\n",
    "prop_cycle = plt.rcParams['axes.prop_cycle']\n",
    "colors = prop_cycle.by_key()['color']\n",
    "\n",
    "R_gql_1 = moderanks(gql_1['mEVs'])\n",
    "R_gce2_1 = moderanks(gce2_1['mEVs'])\n",
    "# R_ce2_qlic = moderanks(ce2_qlic['mEVs'])\n",
    "\n",
    "ax[0].set_title(r'$rank(m)$: GQL(1)')\n",
    "for i in np.arange(M-1):\n",
    "    ax[0].plot(gql_1['t'],R_gql_1[:,i],label=i+1,c=colors[i+1])\n",
    "\n",
    "ax[1].set_title(r'$rank(m)$: GCE2(1)')\n",
    "for i in np.arange(1,M-1):\n",
    "    ax[1].plot(gce2_1['t'],R_gce2_1[:,i],label=i+1,c=colors[i+1])\n",
    "\n",
    "for a in ax:\n",
    "    a.set_xlabel(r'$t$',fontsize=14)\n",
    "    a.set_ylim(-1,16)\n",
    "\n",
    "ax[0].legend(title=r'$m$',loc=5)\n",
    "# ax[1].legend(title=r'$m$',loc=4)\n",
    "\n",
    "plt.show()\n",
    "# plt.savefig(dn+'rnk_gql_gce2_1.png',bbox_inches='tight',dpi=256,facecolor='w', transparent=False)"
   ]
  },
  {
   "cell_type": "code",
   "execution_count": null,
   "metadata": {
    "scrolled": false
   },
   "outputs": [],
   "source": [
    "fig,ax = plt.subplots(1,2,figsize=(15,6))\n",
    "\n",
    "ax[0].set_title(f'GQL(1)',fontsize=14)\n",
    "im = ax[0].imshow(gql_1['Emn'][:,:,-1],cmap=\"nipy_spectral_r\",origin=\"lower\",interpolation=\"none\",vmin=0,vmax=2250)\n",
    "fig.colorbar(im,ax=ax[0])\n",
    "\n",
    "ax[1].set_title(f'GCE2(1)',fontsize=14)\n",
    "im = ax[1].imshow((gce2_1['Emn'][:,:,-1]),cmap=\"nipy_spectral_r\",origin=\"lower\",interpolation=\"none\",vmin=0,vmax=2250)\n",
    "fig.colorbar(im,ax=ax[1])\n",
    "\n",
    "for a in ax:\n",
    "    a.set_xticks([0,M-1,2*M-2])\n",
    "    a.set_xticklabels([r'$-N_x$',r'$0$',r'$N_x$'],fontsize=14)\n",
    "    a.set_yticks([0,N-1,2*N-2])\n",
    "    a.set_yticklabels([r'$-N_y$',r'$0$',r'$N_y$'],fontsize=14)\n",
    "\n",
    "plt.show()\n",
    "# plt.savefig(dn+'emn_gql_gce2_1.png',bbox_inches='tight',dpi=256,facecolor='w', transparent=False)"
   ]
  },
  {
   "cell_type": "code",
   "execution_count": null,
   "metadata": {},
   "outputs": [],
   "source": [
    "dn = \"data/tests_kolmogorov/24x24nu03/smalldomain/\"\n",
    "\n",
    "M,N = 24,24"
   ]
  },
  {
   "cell_type": "code",
   "execution_count": null,
   "metadata": {},
   "outputs": [],
   "source": [
    "nl = np.load(dn+\"gql_9_kf.npz\",allow_pickle=True) \n",
    "fig,ax = plt.subplots(figsize=(6,4))\n",
    "\n",
    "ax.set_title(r'$\\zeta(y,t)$',fontsize=16)\n",
    "im = ax.imshow((nl['Vxy'][:,:,-1]),cmap=\"seismic\",origin=\"lower\",interpolation=\"bicubic\",aspect=0.5)\n",
    "fig.colorbar(im,ax=ax,orientation='horizontal')\n",
    "\n",
    "ax.set_xticks([0,M-1,2*M-2])\n",
    "ax.set_xticklabels([r'$0$',r'$\\pi$',r'$2\\pi$'],fontsize=14)\n",
    "ax.set_yticks([0,N-1,2*N-2])\n",
    "ax.set_yticklabels([r'$0$',r'$2\\pi$',r'$4\\pi$'],fontsize=14)\n",
    "\n",
    "# plt.show()\n",
    "plt.savefig(dn+'vorticity_nl.png',bbox_inches='tight',dpi=256,facecolor='w', transparent=False)"
   ]
  },
  {
   "cell_type": "code",
   "execution_count": null,
   "metadata": {},
   "outputs": [],
   "source": [
    "dn = \"data/tests_kolmogorov/16x16nu03/\"\n",
    "\n",
    "M,N = 16,16"
   ]
  },
  {
   "cell_type": "code",
   "execution_count": null,
   "metadata": {},
   "outputs": [],
   "source": [
    "nl = np.load(dn+\"nl_kf.npz\",allow_pickle=True) \n",
    "fig,ax = plt.subplots(figsize=(6,4))\n",
    "\n",
    "ax.set_title(r'$\\zeta(y,t)$',fontsize=16)\n",
    "im = ax.imshow((nl['Vxy'][:,:,-1]),cmap=\"seismic\",origin=\"lower\",interpolation=\"bicubic\",aspect=0.5)\n",
    "fig.colorbar(im,ax=ax,orientation='horizontal')\n",
    "\n",
    "ax.set_xticks([0,M-1,2*M-2])\n",
    "ax.set_xticklabels([r'$0$',r'$\\pi$',r'$2\\pi$'],fontsize=14)\n",
    "ax.set_yticks([0,N-1,2*N-2])\n",
    "ax.set_yticklabels([r'$0$',r'$2\\pi$',r'$4\\pi$'],fontsize=14)\n",
    "\n",
    "plt.show()\n",
    "\n",
    "# plt.savefig(dn+'vorticity_nl.png',bbox_inches='tight',dpi=256,facecolor='w', transparent=False)"
   ]
  },
  {
   "cell_type": "code",
   "execution_count": null,
   "metadata": {},
   "outputs": [],
   "source": [
    "dn = \"data/tests_kolmogorov/10x10nu02/2pi2piA1A4_dt/\"\n",
    "\n",
    "ql = np.load(dn+\"ql_kf.npz\",allow_pickle=True) \n",
    "ce2 = np.load(dn+\"ce2_kf.npz\",allow_pickle=True)"
   ]
  },
  {
   "cell_type": "code",
   "execution_count": null,
   "metadata": {},
   "outputs": [],
   "source": [
    "fig,ax = plt.subplots(1,2,sharey='row',figsize=(12,5))\n",
    "    \n",
    "ax[0].set_title(f'QL',fontsize=14)\n",
    "\n",
    "for i,x in enumerate(ql['Emt']):\n",
    "    ax[0].plot(ql['t'],x,label=i)\n",
    "\n",
    "ax[1].set_title(f'CE2',fontsize=14)\n",
    "for i,x in enumerate(ce2['Emtav']):\n",
    "    ax[1].plot(ce2['t'],x,label=i)\n",
    "\n",
    "ax[1].legend(ncol=2,loc=4)\n",
    "\n",
    "for a in ax:\n",
    "    a.set_yscale('log')\n",
    "    a.set_ylim(1e-36,1e5)\n",
    "\n",
    "plt.show()"
   ]
  },
  {
   "cell_type": "code",
   "execution_count": null,
   "metadata": {},
   "outputs": [],
   "source": [
    "gql_1 = np.load(dn+\"gql_1_kf.npz\",allow_pickle=True) \n",
    "gce2_1 = np.load(dn+\"gce2_1_kf.npz\",allow_pickle=True)"
   ]
  },
  {
   "cell_type": "code",
   "execution_count": null,
   "metadata": {
    "scrolled": false
   },
   "outputs": [],
   "source": [
    "fig,ax = plt.subplots(1,2,figsize=(12,5))\n",
    "    \n",
    "ax[0].set_title(f'GQL(1)',fontsize=14)\n",
    "\n",
    "for i,x in enumerate(gql_1['Emt']):\n",
    "    ax[0].plot(gql_1['t'],x,label=i)\n",
    "\n",
    "ax[1].set_title(f'GCE2(1)',fontsize=14)\n",
    "for i,x in enumerate(gce2_1['Emt']):\n",
    "    ax[1].plot(gce2_1['t'],x,label=i)\n",
    "\n",
    "ax[1].legend(bbox_to_anchor=(1.01,0.5),ncol=1)\n",
    "\n",
    "for a in ax:\n",
    "    a.set_yscale('log')\n",
    "    a.set_ylim(1e-8,1e4)\n",
    "\n",
    "plt.show()"
   ]
  },
  {
   "cell_type": "code",
   "execution_count": null,
   "metadata": {
    "scrolled": true
   },
   "outputs": [],
   "source": [
    "fig,ax = plt.subplots(1,2,figsize=(10,4))\n",
    "\n",
    "ax[0].set_title(f'GQL(1)',fontsize=14)\n",
    "im = ax[0].imshow((gql_1['Vyt']),cmap=\"RdBu_r\",origin=\"lower\",interpolation=\"bicubic\",aspect=2)\n",
    "fig.colorbar(im,ax=ax[0],orientation='horizontal')\n",
    "\n",
    "ax[1].set_title(f'GCE2(1)',fontsize=14)\n",
    "im = ax[1].imshow((gce2_1['Vyt']),cmap=\"RdBu_r\",origin=\"lower\",interpolation=\"bicubic\",aspect=2)\n",
    "fig.colorbar(im,ax=ax[1],orientation='horizontal')\n",
    "\n",
    "plt.show()"
   ]
  },
  {
   "cell_type": "code",
   "execution_count": null,
   "metadata": {},
   "outputs": [],
   "source": [
    "M,N = 10,10\n",
    "\n",
    "fig,ax = plt.subplots(1,2,figsize=(12,4))\n",
    "\n",
    "prop_cycle = plt.rcParams['axes.prop_cycle']\n",
    "colors = prop_cycle.by_key()['color']\n",
    "\n",
    "R_gql_1 = moderanks(gql_1['mEVs'])\n",
    "R_gce2_1 = moderanks(gce2_1['mEVs'])\n",
    "# R_ce2_qlic = moderanks(ce2_qlic['mEVs'])\n",
    "\n",
    "ax[0].set_title(r'$rank(m)$: GQL(1)')\n",
    "for i in np.arange(1,M-1):\n",
    "    ax[0].plot(gql_1['t'],R_gql_1[:,i],label=i+1,c=colors[i+1])\n",
    "\n",
    "ax[1].set_title(r'$rank(m)$: GCE2(1)')\n",
    "for i in np.arange(1,M-1):\n",
    "    ax[1].plot(gce2_1['t'],R_gce2_1[:,i],label=i+1,c=colors[i+1])\n",
    "\n",
    "for a in ax:\n",
    "    a.set_xlabel(r'$t$',fontsize=14)\n",
    "    a.set_ylim(-1,16)\n",
    "\n",
    "ax[0].legend(title=r'$m$',loc=5)\n",
    "# ax[1].legend(title=r'$m$',loc=4)\n",
    "\n",
    "plt.show()\n",
    "# plt.savefig(dn+'rnk_gql_gce2_1.png',bbox_inches='tight',dpi=256,facecolor='w', transparent=False)"
   ]
  },
  {
   "cell_type": "code",
   "execution_count": null,
   "metadata": {},
   "outputs": [],
   "source": [
    "fig,ax = plt.subplots(1,2,figsize=(15,6))\n",
    "\n",
    "ax[0].set_title(f'GQL(1)',fontsize=14)\n",
    "im = ax[0].imshow(gql_1['Emn'][:,:,-1],cmap=\"nipy_spectral_r\",origin=\"lower\",interpolation=\"none\",vmin=0,vmax=1800)\n",
    "fig.colorbar(im,ax=ax[0])\n",
    "\n",
    "ax[1].set_title(f'GCE2(1)',fontsize=14)\n",
    "im = ax[1].imshow((gce2_1['Emn'][:,:,-1]),cmap=\"nipy_spectral_r\",origin=\"lower\",interpolation=\"none\",vmin=0,vmax=1800)\n",
    "fig.colorbar(im,ax=ax[1])\n",
    "\n",
    "for a in ax:\n",
    "    a.set_xticks([0,M-1,2*M-2])\n",
    "    a.set_xticklabels([r'$-N_x$',r'$0$',r'$N_x$'],fontsize=14)\n",
    "    a.set_yticks([0,N-1,2*N-2])\n",
    "    a.set_yticklabels([r'$-N_y$',r'$0$',r'$N_y$'],fontsize=14)\n",
    "\n",
    "plt.show()\n",
    "# plt.savefig(dn+'emn_gql_gce2_1.png',bbox_inches='tight',dpi=256,facecolor='w', transparent=False)"
   ]
  },
  {
   "cell_type": "code",
   "execution_count": null,
   "metadata": {},
   "outputs": [],
   "source": [
    "## TESTS FOR STRONGER JETS"
   ]
  },
  {
   "cell_type": "code",
   "execution_count": null,
   "metadata": {},
   "outputs": [],
   "source": [
    "dn = \"data/tests_stochastic/twommode_jet_tests/o5mu1e1m45n4/\"\n",
    "\n",
    "ql = np.load(dn+\"ql_sf.npz\",allow_pickle=True) \n",
    "\n",
    "fig,ax = plt.subplots(1,2,sharey='row',figsize=(12,5))\n",
    "    \n",
    "ax[0].set_title(f'QL',fontsize=14)\n",
    "\n",
    "for i,x in enumerate(ql['Emt']):\n",
    "    ax[0].plot(ql['t'],x,label=i)\n",
    "\n",
    "ax[1].set_title(f'CE2',fontsize=14)\n",
    "# for i,x in enumerate(ce2['Emtav']):\n",
    "#     ax[1].plot(ce2['t'],x,label=i)\n",
    "\n",
    "ax[1].legend(bbox_to_anchor=(1.01,0.5),ncol=1)\n",
    "\n",
    "for a in ax:\n",
    "    a.set_yscale('log')\n",
    "    a.set_ylim(1e-16,1e5)\n",
    "\n",
    "plt.show()"
   ]
  },
  {
   "cell_type": "code",
   "execution_count": null,
   "metadata": {},
   "outputs": [],
   "source": [
    "dn = \"data/tests_stochastic/twoband_jet_tests/12x12/o5mu_01e_01m89/\"\n",
    "\n",
    "M,N = 12,12\n",
    "\n",
    "ql = np.load(dn+\"ql_sf.npz\",allow_pickle=True) \n",
    "ce2 = np.load(dn+\"ce2_sf.npz\",allow_pickle=True)"
   ]
  },
  {
   "cell_type": "code",
   "execution_count": null,
   "metadata": {},
   "outputs": [],
   "source": [
    "fig,ax = plt.subplots(1,2,figsize=(10,5))\n",
    "    \n",
    "ax[0].set_title(f'QL',fontsize=14)\n",
    "im = ax[0].imshow(ql['F'],label='QL')\n",
    "\n",
    "ax[1].set_title(f'CE2',fontsize=14)\n",
    "im = ax[1].imshow(ce2['F'],label='CE2')\n",
    "\n",
    "for a in ax:\n",
    "    a.set_xticks([0,M-1,2*M-2])\n",
    "    a.set_xticklabels([r'$-N_x$',r'$0$',r'$N_x$'],fontsize=14)\n",
    "    a.set_yticks([0,N-1,2*N-2])\n",
    "    a.set_yticklabels([r'$-N_y$',r'$0$',r'$N_y$'],fontsize=14)\n",
    "\n",
    "fig.subplots_adjust(right=0.8)\n",
    "cbar_ax = fig.add_axes([0.825, 0.2, 0.025, 0.6])\n",
    "fig.colorbar(im, cax=cbar_ax)\n",
    "\n",
    "plt.show()"
   ]
  },
  {
   "cell_type": "code",
   "execution_count": null,
   "metadata": {},
   "outputs": [],
   "source": [
    "\n",
    "fig,ax = plt.subplots(1,2,sharey='row',figsize=(12,5))\n",
    "    \n",
    "ax[0].set_title(f'QL',fontsize=14)\n",
    "ax[0].plot(ql['t'],ql['Emt'][0,:],'k',label='0')\n",
    "for i,x in enumerate(ql['Emt'][1:,:]):\n",
    "    ax[0].plot(ql['t'],x,label=i+1)\n",
    "\n",
    "ax[1].set_title(f'CE2',fontsize=14)\n",
    "ax[1].plot(ce2['t'],ce2['Emt'][0,:],'k',label='0')\n",
    "for i,x in enumerate(ce2['Emtav'][1:,:]):\n",
    "    ax[1].plot(ce2['t'],x,label=i+1)\n",
    "\n",
    "ax[0].legend(bbox_to_anchor=(0.99,0.85),ncol=1)\n",
    "\n",
    "for a in ax:\n",
    "    a.set_yscale('log')\n",
    "    a.set_ylim(1e-6,1e0)\n",
    "\n",
    "plt.show()"
   ]
  },
  {
   "cell_type": "code",
   "execution_count": null,
   "metadata": {
    "scrolled": true
   },
   "outputs": [],
   "source": [
    "fig,ax = plt.subplots(1,2,figsize=(14,6))\n",
    "\n",
    "ax[0].set_title(f'QL',fontsize=14)\n",
    "im = ax[0].imshow((ql['Vyt']),cmap=\"RdBu_r\",origin=\"lower\",interpolation=\"bicubic\")\n",
    "fig.colorbar(im,ax=ax[0],orientation='horizontal')\n",
    "\n",
    "ax[1].set_title(f'CE2',fontsize=14)\n",
    "im = ax[1].imshow((ce2['Vyt']),cmap=\"RdBu_r\",origin=\"lower\",interpolation=\"bicubic\")\n",
    "fig.colorbar(im,ax=ax[1],orientation='horizontal')\n",
    "\n",
    "plt.show()"
   ]
  },
  {
   "cell_type": "code",
   "execution_count": null,
   "metadata": {},
   "outputs": [],
   "source": [
    "fig,ax = plt.subplots(1,2,figsize=(15,6))\n",
    "\n",
    "ax[0].set_title(f'QL',fontsize=14)\n",
    "im = ax[0].imshow(ql['Emn'][:,:,-1],cmap=\"gist_ncar_r\",origin=\"lower\",interpolation=\"none\",vmin=0,vmax=0.16)\n",
    "fig.colorbar(im,ax=ax[0])\n",
    "\n",
    "ax[1].set_title(f'CE2',fontsize=14)\n",
    "im = ax[1].imshow((ce2['Emn'][:,:,-1]),cmap=\"gist_ncar_r\",origin=\"lower\",interpolation=\"none\",vmin=0,vmax=0.16)\n",
    "fig.colorbar(im,ax=ax[1])\n",
    "\n",
    "for a in ax:\n",
    "    a.set_xticks([0,M-1,2*M-2])\n",
    "    a.set_xticklabels([r'$-N_x$',r'$0$',r'$N_x$'],fontsize=14)\n",
    "    a.set_yticks([0,N-1,2*N-2])\n",
    "    a.set_yticklabels([r'$-N_y$',r'$0$',r'$N_y$'],fontsize=14)\n",
    "\n",
    "plt.show()"
   ]
  },
  {
   "cell_type": "code",
   "execution_count": null,
   "metadata": {},
   "outputs": [],
   "source": [
    "fig,ax = plt.subplots(1,2,figsize=(12,4))\n",
    "\n",
    "prop_cycle = plt.rcParams['axes.prop_cycle']\n",
    "colors = prop_cycle.by_key()['color']\n",
    "\n",
    "R_ql = moderanks(ql['mEVs'])\n",
    "R_ce2 = moderanks(ce2['mEVs'])\n",
    "# R_ce2_qlic = moderanks(ce2_qlic['mEVs'])\n",
    "\n",
    "ax[0].set_title(r'$rank(m)$: QL')\n",
    "for i in np.arange(1,M-1):\n",
    "    ax[0].plot(ql['t'],R_ql[:,i],label=i+1,c=colors[i%len(colors)])\n",
    "\n",
    "ax[1].set_title(r'$rank(m)$: CE2')\n",
    "for i in np.arange(1,M-1):\n",
    "    ax[1].plot(ce2['t'],R_ce2[:,i],label=i+1,c=colors[i%len(colors)])\n",
    "\n",
    "for a in ax:\n",
    "    a.set_xlabel(r'$t$',fontsize=14)\n",
    "    a.set_ylim(-1,24)\n",
    "\n",
    "ax[0].legend(title=r'$m$',loc=5)\n",
    "# ax[1].legend(title=r'$m$',loc=5)\n",
    "\n",
    "plt.show()\n",
    "# plt.savefig(dn+'rnk_gql_gce2_1.png',bbox_inches='tight',dpi=256,facecolor='w', transparent=False)"
   ]
  },
  {
   "cell_type": "code",
   "execution_count": null,
   "metadata": {},
   "outputs": [],
   "source": [
    "gql_1 = np.load(dn+\"gql_1_sf.npz\",allow_pickle=True) \n",
    "gce2_1 = np.load(dn+\"gce2_1_sf.npz\",allow_pickle=True)"
   ]
  },
  {
   "cell_type": "code",
   "execution_count": null,
   "metadata": {
    "scrolled": false
   },
   "outputs": [],
   "source": [
    "fig,ax = plt.subplots(1,2,figsize=(12,5))\n",
    "    \n",
    "ax[0].set_title(f'GQL(1)',fontsize=14)\n",
    "\n",
    "for i,x in enumerate(gql_1['Emt']):\n",
    "    ax[0].plot(gql_1['t'],x,label=i)\n",
    "\n",
    "ax[1].set_title(f'GCE2(1)',fontsize=14)\n",
    "for i,x in enumerate(gce2_1['Emt']):\n",
    "    ax[1].plot(gce2_1['t'],x,label=i)\n",
    "\n",
    "ax[1].legend(ncol=1)\n",
    "\n",
    "for a in ax:\n",
    "    a.set_yscale('log')\n",
    "#     a.set_ylim(1e-8,1e4)\n",
    "\n",
    "plt.show()"
   ]
  },
  {
   "cell_type": "code",
   "execution_count": null,
   "metadata": {},
   "outputs": [],
   "source": [
    "fig,ax = plt.subplots(2,1,figsize=(6,5.5))\n",
    "\n",
    "ax[0].set_title(f'GQL(1)',fontsize=14)\n",
    "im = ax[0].imshow((gql_1['Vyt']),cmap=\"bwr\",origin=\"lower\",interpolation=\"bicubic\",vmin=-2.25,vmax=2.2,aspect=0.5)\n",
    "fig.colorbar(im,ax=ax[0],orientation='horizontal')\n",
    "\n",
    "ax[1].set_title(f'GCE2(1)',fontsize=14)\n",
    "im = ax[1].imshow((gce2_1['Vyt']),cmap=\"bwr\",origin=\"lower\",interpolation=\"bicubic\",vmin=-2.25,vmax=2.2,aspect=0.5)\n",
    "fig.colorbar(im,ax=ax[1],orientation='horizontal')\n",
    "\n",
    "for a in ax:\n",
    "    a.set_yticks([0,N-1,2*N-2])\n",
    "    a.set_xticks([0,25,50])\n",
    "    a.set_yticklabels([r'$-\\pi$',r'$0$',r'$\\pi$'],fontsize=14)\n",
    "    a.set_xticklabels([r'$0$',r'$500$',r'$1000$'])\n",
    "\n",
    "# plt.show()\n",
    "plt.savefig(dn+'hoevmoeller_gql_gce2_1.png',bbox_inches='tight',dpi=256,facecolor='w', transparent=False)"
   ]
  },
  {
   "cell_type": "code",
   "execution_count": null,
   "metadata": {},
   "outputs": [],
   "source": [
    "fig,ax = plt.subplots(1,2,figsize=(15,6))\n",
    "\n",
    "ax[0].set_title(f'GQL(1)',fontsize=14)\n",
    "im = ax[0].imshow(gql_1['Emn'][:,:,-1],cmap=\"nipy_spectral_r\",origin=\"lower\",interpolation=\"none\",vmin=0,vmax=0.26)\n",
    "fig.colorbar(im,ax=ax[0])\n",
    "\n",
    "ax[1].set_title(f'GCE2(1)',fontsize=14)\n",
    "im = ax[1].imshow((gce2_1['Emn'][:,:,-1]),cmap=\"nipy_spectral_r\",origin=\"lower\",interpolation=\"none\",vmin=0,vmax=0.26)\n",
    "fig.colorbar(im,ax=ax[1])\n",
    "\n",
    "for a in ax:\n",
    "    a.set_xticks([0,M-1,2*M-2])\n",
    "    a.set_xticklabels([r'$-N_x$',r'$0$',r'$N_x$'],fontsize=14)\n",
    "    a.set_yticks([0,N-1,2*N-2])\n",
    "    a.set_yticklabels([r'$-N_y$',r'$0$',r'$N_y$'],fontsize=14)\n",
    "\n",
    "# plt.show()\n",
    "plt.savefig(dn+'emn_gql_gce2_1.png',bbox_inches='tight',dpi=256,facecolor='w', transparent=False)"
   ]
  },
  {
   "cell_type": "code",
   "execution_count": null,
   "metadata": {},
   "outputs": [],
   "source": [
    "M,N = 12,12\n",
    "\n",
    "fig,ax = plt.subplots(1,2,figsize=(12,4))\n",
    "\n",
    "prop_cycle = plt.rcParams['axes.prop_cycle']\n",
    "colors = prop_cycle.by_key()['color']\n",
    "\n",
    "R_gql_1 = moderanks(gql_1['mEVs'])\n",
    "R_gce2_1 = moderanks(gce2_1['mEVs'])\n",
    "\n",
    "ax[0].set_title(r'$rank(m)$: GQL(1)')\n",
    "for i in np.arange(1,M-1):\n",
    "    ax[0].plot(gql_1['t'],R_gql_1[:,i],label=i+1,c=colors[(i)%len(colors)])\n",
    "\n",
    "ax[1].set_title(r'$rank(m)$: GCE2(1)')\n",
    "for i in np.arange(1,M-1):\n",
    "    ax[1].plot(gce2_1['t'],R_gce2_1[:,i],label=i+1,c=colors[(i)%len(colors)])\n",
    "\n",
    "for a in ax:\n",
    "    a.set_xlabel(r'$t$',fontsize=14)\n",
    "    a.set_ylim(-1,24)\n",
    "\n",
    "ax[0].legend(title=r'$m$',loc=5)\n",
    "# ax[1].legend(title=r'$m$',loc=4)\n",
    "\n",
    "# plt.show()\n",
    "plt.savefig(dn+'rnk_gql_gce2_1.png',bbox_inches='tight',dpi=256,facecolor='w', transparent=False)"
   ]
  },
  {
   "cell_type": "code",
   "execution_count": null,
   "metadata": {},
   "outputs": [],
   "source": [
    "dn = \"data/tests_stochastic/twoband_jet_tests/12x12/o10mu_01e_01m89/\"\n",
    "\n",
    "ql = np.load(dn+\"ql_sf.npz\",allow_pickle=True) \n",
    "ce2 = np.load(dn+\"ce2_sf.npz\",allow_pickle=True)"
   ]
  },
  {
   "cell_type": "code",
   "execution_count": null,
   "metadata": {},
   "outputs": [],
   "source": [
    "\n",
    "fig,ax = plt.subplots(1,2,sharey='row',figsize=(12,5))\n",
    "    \n",
    "ax[0].set_title(f'QL',fontsize=14)\n",
    "ax[0].plot(ql['t'],ql['Emt'][0,:],'k',label='0')\n",
    "for i,x in enumerate(ql['Emt'][1:,:]):\n",
    "    ax[0].plot(ql['t'],x,label=i+1)\n",
    "\n",
    "ax[1].set_title(f'CE2',fontsize=14)\n",
    "ax[1].plot(ce2['t'],ce2['Emt'][0,:],'k',label='0')\n",
    "for i,x in enumerate(ce2['Emtav'][1:,:]):\n",
    "    ax[1].plot(ce2['t'],x,label=i+1)\n",
    "\n",
    "ax[0].legend(bbox_to_anchor=(0.99,0.85),ncol=1)\n",
    "\n",
    "for a in ax:\n",
    "    a.set_yscale('log')\n",
    "    a.set_ylim(1e-6,1e0)\n",
    "\n",
    "plt.show()"
   ]
  },
  {
   "cell_type": "code",
   "execution_count": null,
   "metadata": {
    "scrolled": true
   },
   "outputs": [],
   "source": [
    "fig,ax = plt.subplots(1,2,figsize=(14,6))\n",
    "\n",
    "ax[0].set_title(f'QL',fontsize=14)\n",
    "im = ax[0].imshow((ql['Vyt']),cmap=\"RdBu_r\",origin=\"lower\",interpolation=\"bicubic\")\n",
    "fig.colorbar(im,ax=ax[0],orientation='horizontal')\n",
    "\n",
    "ax[1].set_title(f'CE2',fontsize=14)\n",
    "im = ax[1].imshow((ce2['Vyt']),cmap=\"RdBu_r\",origin=\"lower\",interpolation=\"bicubic\")\n",
    "fig.colorbar(im,ax=ax[1],orientation='horizontal')\n",
    "\n",
    "plt.show()"
   ]
  },
  {
   "cell_type": "code",
   "execution_count": null,
   "metadata": {},
   "outputs": [],
   "source": [
    "fig,ax = plt.subplots(1,2,figsize=(15,6))\n",
    "\n",
    "ax[0].set_title(f'QL',fontsize=14)\n",
    "im = ax[0].imshow(ql['Emn'][:,:,-1],cmap=\"gist_ncar_r\",origin=\"lower\",interpolation=\"none\",vmin=0,vmax=0.25)\n",
    "fig.colorbar(im,ax=ax[0])\n",
    "\n",
    "ax[1].set_title(f'CE2',fontsize=14)\n",
    "im = ax[1].imshow((ce2['Emn'][:,:,-1]),cmap=\"gist_ncar_r\",origin=\"lower\",interpolation=\"none\",vmin=0,vmax=0.25)\n",
    "fig.colorbar(im,ax=ax[1])\n",
    "\n",
    "for a in ax:\n",
    "    a.set_xticks([0,M-1,2*M-2])\n",
    "    a.set_xticklabels([r'$-N_x$',r'$0$',r'$N_x$'],fontsize=14)\n",
    "    a.set_yticks([0,N-1,2*N-2])\n",
    "    a.set_yticklabels([r'$-N_y$',r'$0$',r'$N_y$'],fontsize=14)\n",
    "\n",
    "plt.show()"
   ]
  },
  {
   "cell_type": "code",
   "execution_count": null,
   "metadata": {},
   "outputs": [],
   "source": [
    "gql_1 = np.load(dn+\"gql_1_sf.npz\",allow_pickle=True) \n",
    "gce2_1 = np.load(dn+\"gce2_1_sf.npz\",allow_pickle=True)"
   ]
  },
  {
   "cell_type": "code",
   "execution_count": null,
   "metadata": {
    "scrolled": false
   },
   "outputs": [],
   "source": [
    "fig,ax = plt.subplots(1,2,figsize=(12,5))\n",
    "    \n",
    "ax[0].set_title(f'GQL(1)',fontsize=14)\n",
    "\n",
    "for i,x in enumerate(gql_1['Emt']):\n",
    "    ax[0].plot(gql_1['t'],x,label=i)\n",
    "\n",
    "ax[1].set_title(f'GCE2(1)',fontsize=14)\n",
    "for i,x in enumerate(gce2_1['Emt']):\n",
    "    ax[1].plot(gce2_1['t'],x,label=i)\n",
    "\n",
    "ax[1].legend(ncol=1)\n",
    "\n",
    "for a in ax:\n",
    "    a.set_yscale('log')\n",
    "#     a.set_ylim(1e-8,1e4)\n",
    "\n",
    "plt.show()"
   ]
  },
  {
   "cell_type": "code",
   "execution_count": null,
   "metadata": {
    "scrolled": true
   },
   "outputs": [],
   "source": [
    "fig,ax = plt.subplots(2,1,figsize=(6,6))\n",
    "\n",
    "ax[0].set_title(f'GQL(1)',fontsize=14)\n",
    "im = ax[0].imshow((gql_1['Vyt']),cmap=\"RdBu_r\",origin=\"lower\",interpolation=\"bicubic\",vmin=-2.25,vmax=2.25)\n",
    "fig.colorbar(im,ax=ax[0],orientation='horizontal')\n",
    "\n",
    "ax[1].set_title(f'GCE2(1)',fontsize=14)\n",
    "im = ax[1].imshow((gce2_1['Vyt']),cmap=\"RdBu_r\",origin=\"lower\",interpolation=\"bicubic\",vmin=-2.25,vmax=2.25)\n",
    "fig.colorbar(im,ax=ax[1],orientation='horizontal')\n",
    "\n",
    "plt.show()"
   ]
  },
  {
   "cell_type": "code",
   "execution_count": null,
   "metadata": {},
   "outputs": [],
   "source": [
    "fig,ax = plt.subplots(1,2,figsize=(15,6))\n",
    "\n",
    "ax[0].set_title(f'GQL(1)',fontsize=14)\n",
    "im = ax[0].imshow(gql_1['Emn'][:,:,-1],cmap=\"gist_ncar_r\",origin=\"lower\",interpolation=\"none\",vmin=0.0,vmax=0.25)\n",
    "fig.colorbar(im,ax=ax[0])\n",
    "\n",
    "ax[1].set_title(f'GCE2(1)',fontsize=14)\n",
    "im = ax[1].imshow((gce2_1['Emn'][:,:,-1]),cmap=\"gist_ncar_r\",origin=\"lower\",interpolation=\"none\",vmin=0.0,vmax=0.25)\n",
    "fig.colorbar(im,ax=ax[1])\n",
    "\n",
    "for a in ax:\n",
    "    a.set_xticks([0,M-1,2*M-2])\n",
    "    a.set_xticklabels([r'$-N_x$',r'$0$',r'$N_x$'],fontsize=14)\n",
    "    a.set_yticks([0,N-1,2*N-2])\n",
    "    a.set_yticklabels([r'$-N_y$',r'$0$',r'$N_y$'],fontsize=14)\n",
    "\n",
    "plt.show()"
   ]
  },
  {
   "cell_type": "code",
   "execution_count": null,
   "metadata": {},
   "outputs": [],
   "source": [
    "\n",
    "fig,ax = plt.subplots(1,2,figsize=(12,4))\n",
    "\n",
    "prop_cycle = plt.rcParams['axes.prop_cycle']\n",
    "colors = prop_cycle.by_key()['color']\n",
    "\n",
    "R_gql_1 = moderanks(gql_1['mEVs'])\n",
    "R_gce2_1 = moderanks(gce2_1['mEVs'])\n",
    "\n",
    "ax[0].set_title(r'$rank(m)$: GQL(1)')\n",
    "for i in np.arange(1,M-1):\n",
    "    ax[0].plot(gql_1['t'],R_gql_1[:,i],label=i+1,c=colors[(i)%len(colors)])\n",
    "\n",
    "ax[1].set_title(r'$rank(m)$: GCE2(1)')\n",
    "for i in np.arange(1,M-1):\n",
    "    ax[1].plot(gce2_1['t'],R_gce2_1[:,i],label=i+1,c=colors[(i)%len(colors)])\n",
    "\n",
    "for a in ax:\n",
    "    a.set_xlabel(r'$t$',fontsize=14)\n",
    "    a.set_ylim(-1,24)\n",
    "\n",
    "ax[0].legend(title=r'$m$',loc=5)\n",
    "ax[1].legend(title=r'$m$',loc=5)\n",
    "\n",
    "plt.show()\n",
    "# plt.savefig(dn+'rnk_LINEAR_gql_gce2_1.png',bbox_inches='tight',dpi=256,facecolor='w', transparent=False)"
   ]
  },
  {
   "cell_type": "markdown",
   "metadata": {},
   "source": [
    "## Higher aspect ratio: $2\\pi \\times \\pi$\n",
    "\n",
    "Test on 12x12 resolution and 12x20."
   ]
  },
  {
   "cell_type": "code",
   "execution_count": null,
   "metadata": {},
   "outputs": [],
   "source": [
    "dn = \"data/tests_stochastic/twoband_jet_tests/doubleaspect/2pipi/12x12/\"\n",
    "\n",
    "ql = np.load(dn+\"ql_sf.npz\",allow_pickle=True) \n",
    "ce2 = np.load(dn+\"ce2_sf.npz\",allow_pickle=True)"
   ]
  },
  {
   "cell_type": "code",
   "execution_count": null,
   "metadata": {},
   "outputs": [],
   "source": [
    "fig,ax = plt.subplots(1,2,figsize=(14,6))\n",
    "\n",
    "ax[0].set_title(f'QL',fontsize=14)\n",
    "im = ax[0].imshow((ql['Vyt']),cmap=\"seismic\",origin=\"lower\",interpolation=\"bicubic\",aspect=0.4,vmin=-2.5,vmax=2.5)\n",
    "fig.colorbar(im,ax=ax[0],orientation='horizontal')\n",
    "\n",
    "ax[1].set_title(f'CE2',fontsize=14)\n",
    "im = ax[1].imshow((ce2['Vyt']),cmap=\"seismic\",origin=\"lower\",interpolation=\"bicubic\",aspect=0.4,vmin=-2.5,vmax=2.5)\n",
    "fig.colorbar(im,ax=ax[1],orientation='horizontal')\n",
    "\n",
    "for a in ax:\n",
    "    a.set_yticks([0,12-1,2*12-2])\n",
    "    a.set_xticks([0,12.5,25])\n",
    "    a.set_yticklabels([r'$-\\pi$',r'$0$',r'$\\pi$'],fontsize=14)\n",
    "    a.set_xticklabels([r'$0$',r'$250$',r'$500$'])\n",
    "\n",
    "plt.show()"
   ]
  },
  {
   "cell_type": "code",
   "execution_count": null,
   "metadata": {},
   "outputs": [],
   "source": [
    "fig,ax = plt.subplots(1,2,sharey='row',figsize=(12,5))\n",
    "    \n",
    "ax[0].set_title(f'QL',fontsize=14)\n",
    "ax[0].plot(ql['t'],ql['Emt'][0,:],'k',label='0')\n",
    "for i,x in enumerate(ql['Emt'][1:,:]):\n",
    "    ax[0].plot(ql['t'],x,label=i+1)\n",
    "\n",
    "ax[1].set_title(f'CE2',fontsize=14)\n",
    "ax[1].plot(ce2['t'],ce2['Emt'][0,:],'k',label='0')\n",
    "for i,x in enumerate(ce2['Emtav'][1:,:]):\n",
    "    ax[1].plot(ce2['t'],x,label=i+1)\n",
    "\n",
    "ax[0].legend(bbox_to_anchor=(0.99,0.85),ncol=1)\n",
    "\n",
    "for a in ax:\n",
    "    a.set_yscale('log')\n",
    "    a.set_ylim(1e-6,1e1)\n",
    "\n",
    "plt.show()"
   ]
  },
  {
   "cell_type": "code",
   "execution_count": null,
   "metadata": {},
   "outputs": [],
   "source": [
    "fig,ax = plt.subplots(1,2,figsize=(15,6))\n",
    "\n",
    "ax[0].set_title(f'QL',fontsize=14)\n",
    "im = ax[0].imshow(ql['Emn'][:,:,-1],cmap=\"nipy_spectral_r\",origin=\"lower\",interpolation=\"none\",vmin=0,vmax=0.425)\n",
    "fig.colorbar(im,ax=ax[0])\n",
    "\n",
    "ax[1].set_title(f'CE2',fontsize=14)\n",
    "im = ax[1].imshow((ce2['Emn'][:,:,-1]),cmap=\"nipy_spectral_r\",origin=\"lower\",interpolation=\"none\",vmin=0,vmax=0.425)\n",
    "fig.colorbar(im,ax=ax[1])\n",
    "\n",
    "for a in ax:\n",
    "    a.set_xticks([0,M-1,2*M-2])\n",
    "    a.set_xticklabels([r'$-N_x$',r'$0$',r'$N_x$'],fontsize=14)\n",
    "    a.set_yticks([0,N-1,2*N-2])\n",
    "    a.set_yticklabels([r'$-N_y$',r'$0$',r'$N_y$'],fontsize=14)\n",
    "\n",
    "plt.show()"
   ]
  },
  {
   "cell_type": "code",
   "execution_count": null,
   "metadata": {
    "scrolled": true
   },
   "outputs": [],
   "source": [
    "fig,ax = plt.subplots(1,2,figsize=(12,4))\n",
    "\n",
    "prop_cycle = plt.rcParams['axes.prop_cycle']\n",
    "colors = prop_cycle.by_key()['color']\n",
    "\n",
    "R_ql = moderanks(ql['mEVs'])\n",
    "R_ce2 = moderanks(ce2['mEVs'])\n",
    "\n",
    "ax[0].set_title(r'$rank(m)$: QL')\n",
    "for i in np.arange(1,M-1):\n",
    "    ax[0].plot(ql['t'],R_ql[:,i],label=i+1,c=colors[i%len(colors)])\n",
    "\n",
    "ax[1].set_title(r'$rank(m)$: CE2')\n",
    "for i in np.arange(1,M-1):\n",
    "    ax[1].plot(ce2['t'],R_ce2[:,i],label=i+1,c=colors[i%len(colors)])\n",
    "\n",
    "for a in ax:\n",
    "    a.set_xlabel(r'$t$',fontsize=14)\n",
    "    a.set_ylim(-1,24)\n",
    "\n",
    "ax[0].legend(title=r'$m$',loc=5)\n",
    "# ax[1].legend(title=r'$m$',loc=5)\n",
    "\n",
    "plt.show()\n",
    "# plt.savefig(dn+'rnk_gql_gce2_1.png',bbox_inches='tight',dpi=256,facecolor='w', transparent=False)"
   ]
  },
  {
   "cell_type": "code",
   "execution_count": null,
   "metadata": {},
   "outputs": [],
   "source": [
    "gql_1 = np.load(dn+\"gql_1_sf.npz\",allow_pickle=True) \n",
    "gce2_1 = np.load(dn+\"gce2_1_sf.npz\",allow_pickle=True)"
   ]
  },
  {
   "cell_type": "code",
   "execution_count": null,
   "metadata": {
    "scrolled": false
   },
   "outputs": [],
   "source": [
    "fig,ax = plt.subplots(1,2,figsize=(12,5))\n",
    "    \n",
    "ax[0].set_title(f'GQL(1)',fontsize=14)\n",
    "ax[0].plot(gql_1['t'],gql_1['Emt'][0,:],'k',label='0')\n",
    "for i,x in enumerate(gql_1['Emt'][1:,:]):\n",
    "    ax[0].plot(gql_1['t'],x,label=i+1)\n",
    "\n",
    "ax[1].set_title(f'GCE2(1)',fontsize=14)\n",
    "ax[1].plot(gce2_1['t'],gce2_1['Emt'][0,:],'k',label='0')\n",
    "for i,x in enumerate(gce2_1['Emt'][1:,:]):\n",
    "    ax[1].plot(gce2_1['t'],x,label=i+1)\n",
    "\n",
    "ax[0].legend(ncol=1)\n",
    "\n",
    "for a in ax:\n",
    "    a.set_yscale('log')\n",
    "#     a.set_ylim(1e-8,1e4)\n",
    "\n",
    "plt.show()"
   ]
  },
  {
   "cell_type": "code",
   "execution_count": null,
   "metadata": {
    "scrolled": true
   },
   "outputs": [],
   "source": [
    "fig,ax = plt.subplots(1,2,figsize=(12,4))\n",
    "\n",
    "ax[0].set_title(f'GQL(1)',fontsize=14)\n",
    "im = ax[0].imshow((gql_1['Vyt']),cmap=\"seismic\",origin=\"lower\",interpolation=\"bicubic\",aspect=0.4)\n",
    "fig.colorbar(im,ax=ax[0],orientation='horizontal')\n",
    "\n",
    "ax[1].set_title(f'GCE2(1)',fontsize=14)\n",
    "im = ax[1].imshow((gce2_1['Vyt']),cmap=\"seismic\",origin=\"lower\",interpolation=\"bicubic\",aspect=0.4)\n",
    "fig.colorbar(im,ax=ax[1],orientation='horizontal')\n",
    "\n",
    "for a in ax:\n",
    "    a.set_yticks([0,12-1,2*12-2])\n",
    "    a.set_xticks([0,12.5,25])\n",
    "    a.set_yticklabels([r'$-\\pi$',r'$0$',r'$\\pi$'],fontsize=14)\n",
    "    a.set_xticklabels([r'$0$',r'$250$',r'$500$'])\n",
    "\n",
    "plt.show()"
   ]
  },
  {
   "cell_type": "code",
   "execution_count": null,
   "metadata": {},
   "outputs": [],
   "source": [
    "fig,ax = plt.subplots(1,2,figsize=(15,6))\n",
    "\n",
    "ax[0].set_title(f'GQL(1)',fontsize=14)\n",
    "im = ax[0].imshow(gql_1['Emn'][:,:,-1],cmap=\"nipy_spectral_r\",origin=\"lower\",interpolation=\"none\",vmin=0.0,vmax=0.45)\n",
    "fig.colorbar(im,ax=ax[0])\n",
    "\n",
    "ax[1].set_title(f'GCE2(1)',fontsize=14)\n",
    "im = ax[1].imshow((gce2_1['Emn'][:,:,-1]),cmap=\"nipy_spectral_r\",origin=\"lower\",interpolation=\"none\",vmin=0.0,vmax=0.45)\n",
    "fig.colorbar(im,ax=ax[1])\n",
    "\n",
    "for a in ax:\n",
    "    a.set_xticks([0,M-1,2*M-2])\n",
    "    a.set_xticklabels([r'$-N_x$',r'$0$',r'$N_x$'],fontsize=14)\n",
    "    a.set_yticks([0,N-1,2*N-2])\n",
    "    a.set_yticklabels([r'$-N_y$',r'$0$',r'$N_y$'],fontsize=14)\n",
    "\n",
    "plt.show()"
   ]
  },
  {
   "cell_type": "code",
   "execution_count": null,
   "metadata": {},
   "outputs": [],
   "source": [
    "fig,ax = plt.subplots(1,2,figsize=(12,4))\n",
    "\n",
    "R_gql_1 = moderanks(gql_1['mEVs'])\n",
    "R_gce2_1 = moderanks(gce2_1['mEVs'])\n",
    "\n",
    "ax[0].set_title(r'$rank(m)$: GQL(1)')\n",
    "for i in np.arange(1,M-1):\n",
    "    ax[0].plot(gql_1['t'],R_gql_1[:,i],label=i+1,c=colors[i%len(colors)])\n",
    "\n",
    "ax[1].set_title(r'$rank(m)$: GCE2(1)')\n",
    "for i in np.arange(1,M-1):\n",
    "    ax[1].plot(gce2_1['t'],R_gce2_1[:,i],label=i+1,c=colors[i%len(colors)])\n",
    "\n",
    "for a in ax:\n",
    "    a.set_xlabel(r'$t$',fontsize=14)\n",
    "    a.set_ylim(-1,24)\n",
    "\n",
    "ax[0].legend(title=r'$m$',loc=5)\n",
    "ax[1].legend(title=r'$m$',loc=5)\n",
    "\n",
    "plt.show()\n",
    "# plt.savefig(dn+'rnk_LINEAR_gql_gce2_1.png',bbox_inches='tight',dpi=256,facecolor='w', transparent=False)"
   ]
  },
  {
   "cell_type": "code",
   "execution_count": null,
   "metadata": {},
   "outputs": [],
   "source": []
  },
  {
   "cell_type": "code",
   "execution_count": null,
   "metadata": {},
   "outputs": [],
   "source": [
    "dn = \"data/tests_stochastic/twoband_jet_tests/doubleaspect/2pipi/12x20/\"\n",
    "\n",
    "ql = np.load(dn+\"ql_sf.npz\",allow_pickle=True) \n",
    "ce2 = np.load(dn+\"ce2_sf.npz\",allow_pickle=True)"
   ]
  },
  {
   "cell_type": "code",
   "execution_count": null,
   "metadata": {},
   "outputs": [],
   "source": [
    "fig,ax = plt.subplots(1,2,figsize=(14,6))\n",
    "\n",
    "ax[0].set_title(f'QL',fontsize=14)\n",
    "im = ax[0].imshow((ql['Vyt']),cmap=\"RdBu_r\",origin=\"lower\",interpolation=\"bicubic\",aspect=0.2)\n",
    "fig.colorbar(im,ax=ax[0],orientation='horizontal')\n",
    "\n",
    "ax[1].set_title(f'CE2',fontsize=14)\n",
    "im = ax[1].imshow((ce2['Vyt']),cmap=\"RdBu_r\",origin=\"lower\",interpolation=\"bicubic\",aspect=0.2)\n",
    "fig.colorbar(im,ax=ax[1],orientation='horizontal')\n",
    "\n",
    "plt.show()"
   ]
  },
  {
   "cell_type": "code",
   "execution_count": null,
   "metadata": {},
   "outputs": [],
   "source": [
    "\n",
    "fig,ax = plt.subplots(1,2,sharey='row',figsize=(12,5))\n",
    "    \n",
    "ax[0].set_title(f'QL',fontsize=14)\n",
    "ax[0].plot(ql['t'],ql['Emt'][0,:],'k',label='0')\n",
    "for i,x in enumerate(ql['Emt'][1:,:]):\n",
    "    ax[0].plot(ql['t'],x,label=i+1)\n",
    "\n",
    "ax[1].set_title(f'CE2',fontsize=14)\n",
    "ax[1].plot(ce2['t'],ce2['Emt'][0,:],'k',label='0')\n",
    "for i,x in enumerate(ce2['Emtav'][1:,:]):\n",
    "    ax[1].plot(ce2['t'],x,label=i+1)\n",
    "\n",
    "ax[0].legend(bbox_to_anchor=(0.99,0.85),ncol=1)\n",
    "\n",
    "for a in ax:\n",
    "    a.set_yscale('log')\n",
    "    a.set_ylim(1e-6,1e1)\n",
    "\n",
    "plt.show()"
   ]
  },
  {
   "cell_type": "code",
   "execution_count": null,
   "metadata": {},
   "outputs": [],
   "source": [
    "fig,ax = plt.subplots(1,2,figsize=(15,6))\n",
    "\n",
    "ax[0].set_title(f'QL',fontsize=14)\n",
    "im = ax[0].imshow(ql['Emn'][:,:,-1],cmap=\"gist_ncar_r\",origin=\"lower\",interpolation=\"none\",vmin=0,vmax=0.45)\n",
    "fig.colorbar(im,ax=ax[0])\n",
    "\n",
    "ax[1].set_title(f'CE2',fontsize=14)\n",
    "im = ax[1].imshow((ce2['Emn'][:,:,-1]),cmap=\"gist_ncar_r\",origin=\"lower\",interpolation=\"none\",vmin=0,vmax=0.45)\n",
    "fig.colorbar(im,ax=ax[1])\n",
    "\n",
    "for a in ax:\n",
    "    a.set_xticks([0,M-1,2*M-2])\n",
    "    a.set_xticklabels([r'$-N_x$',r'$0$',r'$N_x$'],fontsize=14)\n",
    "    a.set_yticks([0,N-1,2*N-2])\n",
    "    a.set_yticklabels([r'$-N_y$',r'$0$',r'$N_y$'],fontsize=14)\n",
    "\n",
    "plt.show()"
   ]
  },
  {
   "cell_type": "code",
   "execution_count": null,
   "metadata": {
    "scrolled": true
   },
   "outputs": [],
   "source": [
    "fig,ax = plt.subplots(1,2,figsize=(12,4))\n",
    "\n",
    "prop_cycle = plt.rcParams['axes.prop_cycle']\n",
    "colors = prop_cycle.by_key()['color']\n",
    "\n",
    "R_ql = moderanks(ql['mEVs'])\n",
    "R_ce2 = moderanks(ce2['mEVs'])\n",
    "# R_ce2_qlic = moderanks(ce2_qlic['mEVs'])\n",
    "\n",
    "ax[0].set_title(r'$rank(m)$: QL')\n",
    "for i in np.arange(1,M-1):\n",
    "    ax[0].plot(ql['t'],R_ql[:,i],label=i+1,c=colors[i%len(colors)])\n",
    "\n",
    "ax[1].set_title(r'$rank(m)$: CE2')\n",
    "for i in np.arange(1,M-1):\n",
    "    ax[1].plot(ce2['t'],R_ce2[:,i],label=i+1,c=colors[i%len(colors)])\n",
    "\n",
    "for a in ax:\n",
    "    a.set_xlabel(r'$t$',fontsize=14)\n",
    "    a.set_ylim(-1,42)\n",
    "\n",
    "ax[0].legend(title=r'$m$',loc=5)\n",
    "# ax[1].legend(title=r'$m$',loc=5)\n",
    "\n",
    "plt.show()\n",
    "# plt.savefig(dn+'rnk_gql_gce2_1.png',bbox_inches='tight',dpi=256,facecolor='w', transparent=False)"
   ]
  },
  {
   "cell_type": "code",
   "execution_count": null,
   "metadata": {},
   "outputs": [],
   "source": [
    "gql_1 = np.load(dn+\"gql_1_sf.npz\",allow_pickle=True) \n",
    "# gce2_1 = np.load(dn+\"gce2_1_sf.npz\",allow_pickle=True)"
   ]
  },
  {
   "cell_type": "code",
   "execution_count": null,
   "metadata": {
    "scrolled": false
   },
   "outputs": [],
   "source": [
    "fig,ax = plt.subplots(1,2,figsize=(12,5))\n",
    "    \n",
    "ax[0].set_title(f'GQL(1)',fontsize=14)\n",
    "ax[0].plot(gql_1['t'],gql_1['Emt'][0,:],'k',label='0')\n",
    "for i,x in enumerate(gql_1['Emt'][1:,:]):\n",
    "    ax[0].plot(gql_1['t'],x,label=i+1)\n",
    "\n",
    "ax[1].set_title(f'GCE2(1)',fontsize=14)\n",
    "# for i,x in enumerate(gce2_1['Emt']):\n",
    "#     ax[1].plot(gce2_1['t'],x,label=i)\n",
    "\n",
    "ax[0].legend(ncol=1)\n",
    "\n",
    "for a in ax:\n",
    "    a.set_yscale('log')\n",
    "#     a.set_ylim(1e-8,1e4)\n",
    "\n",
    "plt.show()"
   ]
  },
  {
   "cell_type": "code",
   "execution_count": null,
   "metadata": {
    "scrolled": true
   },
   "outputs": [],
   "source": [
    "fig,ax = plt.subplots(2,1,figsize=(6,6))\n",
    "\n",
    "ax[0].set_title(f'GQL(1)',fontsize=14)\n",
    "im = ax[0].imshow((gql_1['Vyt']),cmap=\"RdBu_r\",origin=\"lower\",interpolation=\"bicubic\",aspect=0.2)\n",
    "fig.colorbar(im,ax=ax[0],orientation='horizontal')\n",
    "\n",
    "ax[1].set_title(f'GCE2(1)',fontsize=14)\n",
    "# im = ax[1].imshow((gce2_1['Vyt']),cmap=\"RdBu_r\",origin=\"lower\",interpolation=\"bicubic\",aspect=0.2)\n",
    "# fig.colorbar(im,ax=ax[1],orientation='horizontal')\n",
    "\n",
    "plt.show()"
   ]
  },
  {
   "cell_type": "code",
   "execution_count": null,
   "metadata": {},
   "outputs": [],
   "source": [
    "fig,ax = plt.subplots(1,2,figsize=(15,6))\n",
    "\n",
    "ax[0].set_title(f'GQL(1)',fontsize=14)\n",
    "im = ax[0].imshow(gql_1['Emn'][:,:,-1],cmap=\"gist_ncar_r\",origin=\"lower\",interpolation=\"none\",vmin=0.0,vmax=0.45)\n",
    "fig.colorbar(im,ax=ax[0])\n",
    "\n",
    "ax[1].set_title(f'GCE2(1)',fontsize=14)\n",
    "# im = ax[1].imshow((gce2_1['Emn'][:,:,-1]),cmap=\"gist_ncar_r\",origin=\"lower\",interpolation=\"none\",vmin=0.0,vmax=0.45)\n",
    "# fig.colorbar(im,ax=ax[1])\n",
    "\n",
    "for a in ax:\n",
    "    a.set_xticks([0,M-1,2*M-2])\n",
    "    a.set_xticklabels([r'$-N_x$',r'$0$',r'$N_x$'],fontsize=14)\n",
    "    a.set_yticks([0,N-1,2*N-2])\n",
    "    a.set_yticklabels([r'$-N_y$',r'$0$',r'$N_y$'],fontsize=14)\n",
    "\n",
    "plt.show()"
   ]
  },
  {
   "cell_type": "code",
   "execution_count": null,
   "metadata": {},
   "outputs": [],
   "source": [
    "fig,ax = plt.subplots(1,2,figsize=(12,4))\n",
    "\n",
    "prop_cycle = plt.rcParams['axes.prop_cycle']\n",
    "colors = prop_cycle.by_key()['color']\n",
    "\n",
    "R_gql_1 = moderanks(gql_1['mEVs'])\n",
    "R_gce2_1 = moderanks(gce2_1['mEVs'])\n",
    "# R_ce2_qlic = moderanks(ce2_qlic['mEVs'])\n",
    "\n",
    "ax[0].set_title(r'$rank(m)$: GQL(1)')\n",
    "for i in np.arange(1,M-1):\n",
    "    ax[0].plot(gql_1['t'],R_gql_1[:,i],label=i+1,c=colors[i%len(colors)])\n",
    "\n",
    "ax[1].set_title(r'$rank(m)$: GCE2(1)')\n",
    "# for i in np.arange(1,M-1):\n",
    "#     ax[1].plot(gce2_1['t'],R_gce2_1[:,i],label=i+1,c=colors[i%len(colors)])\n",
    "\n",
    "for a in ax:\n",
    "    a.set_xlabel(r'$t$',fontsize=14)\n",
    "    a.set_ylim(-1,24)\n",
    "\n",
    "ax[0].legend(title=r'$m$',loc=5)\n",
    "ax[1].legend(title=r'$m$',loc=5)\n",
    "\n",
    "plt.show()\n",
    "# plt.savefig(dn+'rnk_LINEAR_gql_gce2_1.png',bbox_inches='tight',dpi=256,facecolor='w', transparent=False)"
   ]
  },
  {
   "cell_type": "markdown",
   "metadata": {},
   "source": [
    "### Aspect Ratio Tests"
   ]
  },
  {
   "cell_type": "code",
   "execution_count": null,
   "metadata": {},
   "outputs": [],
   "source": [
    "dn = \"data/tests_stochastic/twoband_jet_tests/12x12/o5mu_01e_01m89/\"\n",
    "nl_2pi2pi = np.load(dn+\"nl_sf.npz\",allow_pickle=True) \n",
    "\n",
    "dn = \"data/tests_stochastic/twoband_jet_tests/doubleaspect/pi2pi/\"\n",
    "nl_pi2pi = np.load(dn+\"nl_sf.npz\",allow_pickle=True) \n",
    "\n",
    "dn = \"data/tests_stochastic/twoband_jet_tests/doubleaspect/pi2pi/12x20/\"\n",
    "nl_pi2pi_12x20 = np.load(dn+\"nl_sf.npz\",allow_pickle=True) \n",
    "\n",
    "dn = \"data/tests_stochastic/twoband_jet_tests/doubleaspect/2pipi/12x12/\"\n",
    "nl_2pipi = np.load(dn+\"nl_sf.npz\",allow_pickle=True) \n",
    "\n",
    "dn = \"data/tests_stochastic/twoband_jet_tests/doubleaspect/2pipi/12x20/\"\n",
    "nl_2pipi_12x20 = np.load(dn+\"nl_sf.npz\",allow_pickle=True) "
   ]
  },
  {
   "cell_type": "code",
   "execution_count": null,
   "metadata": {},
   "outputs": [],
   "source": [
    "dn = \"data/tests_stochastic/twoband_jet_tests/12x12/o5mu_01e_01m89/\"\n",
    "ql_2pi2pi = np.load(dn+\"ql_sf.npz\",allow_pickle=True) \n",
    "\n",
    "dn = \"data/tests_stochastic/twoband_jet_tests/doubleaspect/pi2pi/\"\n",
    "ql_pi2pi = np.load(dn+\"ql_sf.npz\",allow_pickle=True) \n",
    "\n",
    "dn = \"data/tests_stochastic/twoband_jet_tests/doubleaspect/pi2pi/12x20/\"\n",
    "ql_pi2pi_12x20 = np.load(dn+\"ql_sf.npz\",allow_pickle=True) \n",
    "\n",
    "dn = \"data/tests_stochastic/twoband_jet_tests/doubleaspect/2pipi/12x12/\"\n",
    "ql_2pipi = np.load(dn+\"ql_sf.npz\",allow_pickle=True) \n",
    "\n",
    "dn = \"data/tests_stochastic/twoband_jet_tests/doubleaspect/2pipi/12x20/\"\n",
    "ql_2pipi_12x20 = np.load(dn+\"ql_sf.npz\",allow_pickle=True) "
   ]
  },
  {
   "cell_type": "code",
   "execution_count": null,
   "metadata": {},
   "outputs": [],
   "source": [
    "fig,ax = plt.subplots(3,1,figsize=(8,11))\n",
    "\n",
    "ax[0].set_title(r'QL ($2\\pi \\times 2\\pi$)',fontsize=14)\n",
    "im = ax[0].imshow((ql_2pi2pi['Vyt']),cmap=\"bwr\",origin=\"lower\",interpolation=\"bicubic\",vmin=-2.5,vmax=2.5)\n",
    "fig.colorbar(im,ax=ax[0],orientation='horizontal')\n",
    "\n",
    "ax[1].set_title(r'QL ($\\pi \\times 2\\pi$)',fontsize=14)\n",
    "im = ax[1].imshow((ql_pi2pi['Vyt']),cmap=\"bwr\",origin=\"lower\",interpolation=\"bicubic\",aspect=0.3,vmin=-2.5,vmax=2.5)\n",
    "fig.colorbar(im,ax=ax[1],orientation='horizontal')\n",
    "\n",
    "ax[2].set_title(r'QL ($2\\pi \\times \\pi$)',fontsize=14)\n",
    "im = ax[2].imshow((ql_2pipi['Vyt']),cmap=\"bwr\",origin=\"lower\",interpolation=\"bicubic\",aspect=0.3,vmin=-2.5,vmax=2.5)\n",
    "fig.colorbar(im,ax=ax[2],orientation='horizontal')\n",
    "\n",
    "ax[0].set_xticks([0,50,100])\n",
    "ax[1].set_xticks([0,12.5,25])\n",
    "ax[2].set_xticks([0,12.5,25])\n",
    "\n",
    "for a in ax:\n",
    "    a.set_yticks([0,12-1,2*12-2])\n",
    "    a.set_yticklabels([r'$-\\pi$',r'$0$',r'$\\pi$'],fontsize=14)\n",
    "    a.set_xticklabels([r'$0$',r'$250$',r'$500$'])\n",
    "\n",
    "# plt.show()\n",
    "plt.savefig(dn+'../hoevmoeller_ql_aspects.png',bbox_inches='tight',dpi=256,facecolor='w', transparent=False)"
   ]
  },
  {
   "cell_type": "code",
   "execution_count": null,
   "metadata": {},
   "outputs": [],
   "source": [
    "fig,ax = plt.subplots(3,1,figsize=(8,11))\n",
    "\n",
    "ax[0].set_title(r'NL ($2\\pi \\times 2\\pi$)',fontsize=14)\n",
    "im = ax[0].imshow((nl_2pi2pi['Vyt']),cmap=\"RdBu_r\",origin=\"lower\",interpolation=\"bicubic\")\n",
    "fig.colorbar(im,ax=ax[0],orientation='horizontal')\n",
    "\n",
    "ax[1].set_title(r'NL ($\\pi \\times 2\\pi$)',fontsize=14)\n",
    "im = ax[1].imshow((nl_pi2pi['Vyt']),cmap=\"RdBu_r\",origin=\"lower\",interpolation=\"bicubic\",aspect=0.3)\n",
    "fig.colorbar(im,ax=ax[1],orientation='horizontal')\n",
    "\n",
    "ax[2].set_title(r'NL ($2\\pi \\times \\pi$)',fontsize=14)\n",
    "im = ax[2].imshow((nl_2pipi['Vyt']),cmap=\"RdBu_r\",origin=\"lower\",interpolation=\"bicubic\",aspect=0.3)\n",
    "fig.colorbar(im,ax=ax[2],orientation='horizontal')\n",
    "\n",
    "plt.show()"
   ]
  },
  {
   "cell_type": "code",
   "execution_count": null,
   "metadata": {},
   "outputs": [],
   "source": [
    "fig,ax = plt.subplots(1,3,figsize=(12,5))\n",
    "    \n",
    "ax[0].set_title(r'$NL(2\\pi \\times 2\\pi)$',fontsize=14)\n",
    "\n",
    "for i,x in enumerate(nl_2pi2pi['Emt']):\n",
    "    ax[0].plot(nl_2pi2pi['t'],x,label=i)\n",
    "\n",
    "ax[1].set_title(r'$NL(\\pi \\times 2\\pi)$',fontsize=14)\n",
    "for i,x in enumerate(nl_pi2pi['Emt']):\n",
    "    ax[1].plot(nl_pi2pi['t'],x,label=i)\n",
    "\n",
    "ax[2].set_title(r'$NL(2\\pi \\times \\pi)$',fontsize=14)\n",
    "for i,x in enumerate(nl_2pipi['Emt']):\n",
    "    ax[2].plot(nl_2pipi['t'],x,label=i)\n",
    "\n",
    "ax[1].legend(ncol=1)\n",
    "\n",
    "for a in ax:\n",
    "    a.set_yscale('log')\n",
    "#     a.set_ylim(1e-8,1e4)\n",
    "\n",
    "plt.show()"
   ]
  },
  {
   "cell_type": "code",
   "execution_count": null,
   "metadata": {},
   "outputs": [],
   "source": [
    "fig,ax = plt.subplots(1,3,figsize=(12,5))\n",
    "    \n",
    "ax[0].set_title(r'$NL(2\\pi \\times 2\\pi)$',fontsize=14)\n",
    "\n",
    "for i,x in enumerate(nl_2pi2pi['Em0t']):\n",
    "    ax[0].plot(nl_2pi2pi['t'],x,label=i)\n",
    "\n",
    "ax[1].set_title(r'$NL(\\pi \\times 2\\pi)$',fontsize=14)\n",
    "for i,x in enumerate(nl_pi2pi['Em0t']):\n",
    "    ax[1].plot(nl_pi2pi['t'],x,label=i)\n",
    "\n",
    "ax[2].set_title(r'$NL(2\\pi \\times \\pi)$',fontsize=14)\n",
    "for i,x in enumerate(nl_2pipi['Em0t']):\n",
    "    ax[2].plot(nl_2pipi['t'],x,label=i)\n",
    "\n",
    "# ax[1].legend(ncol=1)\n",
    "\n",
    "for a in ax:\n",
    "    a.set_yscale('log')\n",
    "#     a.set_ylim(1e-8,1e4)\n",
    "\n",
    "plt.show()"
   ]
  },
  {
   "cell_type": "code",
   "execution_count": null,
   "metadata": {},
   "outputs": [],
   "source": [
    "fig,ax = plt.subplots(1,2,figsize=(12,5))\n",
    "    \n",
    "ax[0].set_title(r'$NL(\\pi \\times 2\\pi; 12\\times 12)$',fontsize=14)\n",
    "\n",
    "for i,x in enumerate(nl_pi2pi['Emt']):\n",
    "    ax[0].plot(nl_pi2pi['t'],x,label=i)\n",
    "\n",
    "ax[1].set_title(r'$NL(\\pi \\times 2\\pi; 12 \\times 20)$',fontsize=14)\n",
    "for i,x in enumerate(nl_pi2pi_12x20['Emt']):\n",
    "    ax[1].plot(nl_pi2pi_12x20['t'],x,label=i)\n",
    "\n",
    "# ax[1].legend(ncol=1)\n",
    "\n",
    "for a in ax:\n",
    "    a.set_yscale('log')\n",
    "#     a.set_ylim(1e-8,1e4)\n",
    "\n",
    "plt.show()"
   ]
  },
  {
   "cell_type": "code",
   "execution_count": null,
   "metadata": {},
   "outputs": [],
   "source": [
    "fig,ax = plt.subplots(2,1,figsize=(6,8))\n",
    "\n",
    "ax[0].set_title(r'NL ($\\pi \\times 2\\pi; 12\\times 12$)',fontsize=14)\n",
    "im = ax[0].imshow((nl_2pipi['Vyt']),cmap=\"bwr\",origin=\"lower\",interpolation=\"bicubic\",aspect=0.2)\n",
    "fig.colorbar(im,ax=ax[0],orientation='horizontal')\n",
    "\n",
    "ax[1].set_title(r'NL ($2\\pi \\times 2\\pi; 12 \\times 20$)',fontsize=14)\n",
    "im = ax[1].imshow((nl_2pipi_12x20['Vyt']),cmap=\"bwr\",origin=\"lower\",interpolation=\"bicubic\",aspect=0.15)\n",
    "fig.colorbar(im,ax=ax[1],orientation='horizontal')\n",
    "\n",
    "plt.show()"
   ]
  }
 ],
 "metadata": {
  "kernelspec": {
   "display_name": "Python 3",
   "language": "python",
   "name": "python3"
  },
  "language_info": {
   "codemirror_mode": {
    "name": "ipython",
    "version": 3
   },
   "file_extension": ".py",
   "mimetype": "text/x-python",
   "name": "python",
   "nbconvert_exporter": "python",
   "pygments_lexer": "ipython3",
   "version": "3.9.12"
  }
 },
 "nbformat": 4,
 "nbformat_minor": 4
}
